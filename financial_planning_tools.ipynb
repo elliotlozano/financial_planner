{
 "cells": [
  {
   "cell_type": "markdown",
   "metadata": {},
   "source": [
    "# Financial Planning with APIs and Simulations\n",
    "\n",
    "In this Challenge, you’ll create two financial analysis tools by using a single Jupyter notebook:\n",
    "\n",
    "Part 1: A financial planner for emergencies. The members will be able to use this tool to visualize their current savings. The members can then determine if they have enough reserves for an emergency fund.\n",
    "\n",
    "Part 2: A financial planner for retirement. This tool will forecast the performance of their retirement portfolio in 30 years. To do this, the tool will make an Alpaca API call via the Alpaca SDK to get historical price data for use in Monte Carlo simulations.\n",
    "\n",
    "You’ll use the information from the Monte Carlo simulation to answer questions about the portfolio in your Jupyter notebook.\n",
    "\n"
   ]
  },
  {
   "cell_type": "code",
   "execution_count": 1,
   "metadata": {},
   "outputs": [],
   "source": [
    "# Import the required libraries and dependencies\n",
    "import os\n",
    "import requests\n",
    "import json\n",
    "import pandas as pd\n",
    "from dotenv import load_dotenv\n",
    "import alpaca_trade_api as tradeapi\n",
    "from MCForecastTools import MCSimulation\n",
    "\n",
    "%matplotlib inline"
   ]
  },
  {
   "cell_type": "code",
   "execution_count": 2,
   "metadata": {},
   "outputs": [
    {
     "data": {
      "text/plain": [
       "True"
      ]
     },
     "execution_count": 2,
     "metadata": {},
     "output_type": "execute_result"
    }
   ],
   "source": [
    "# Load the environment variables from the .env file\n",
    "#by calling the load_dotenv function\n",
    "load_dotenv()"
   ]
  },
  {
   "cell_type": "markdown",
   "metadata": {},
   "source": [
    "## Part 1: Create a Financial Planner for Emergencies"
   ]
  },
  {
   "cell_type": "markdown",
   "metadata": {},
   "source": [
    "### Evaluate the Cryptocurrency Wallet by Using the Requests Library\n",
    "\n",
    "In this section, you’ll determine the current value of a member’s cryptocurrency wallet. You’ll collect the current prices for the Bitcoin and Ethereum cryptocurrencies by using the Python Requests library. For the prototype, you’ll assume that the member holds the 1.2 Bitcoins (BTC) and 5.3 Ethereum coins (ETH). To do all this, complete the following steps:\n",
    "\n",
    "1. Create a variable named `monthly_income`, and set its value to `12000`.\n",
    "\n",
    "2. Use the Requests library to get the current price (in US dollars) of Bitcoin (BTC) and Ethereum (ETH) by using the API endpoints that the starter code supplies.\n",
    "\n",
    "3. Navigate the JSON response object to access the current price of each coin, and store each in a variable.\n",
    "\n",
    "    > **Hint** Note the specific identifier for each cryptocurrency in the API JSON response. The Bitcoin identifier is `1`, and the Ethereum identifier is `1027`.\n",
    "\n",
    "4. Calculate the value, in US dollars, of the current amount of each cryptocurrency and of the entire cryptocurrency wallet.\n",
    "\n"
   ]
  },
  {
   "cell_type": "code",
   "execution_count": 3,
   "metadata": {},
   "outputs": [],
   "source": [
    "# The current number of coins for each cryptocurrency asset held in the portfolio.\n",
    "btc_coins = 1.2\n",
    "eth_coins = 5.3"
   ]
  },
  {
   "cell_type": "markdown",
   "metadata": {},
   "source": [
    "#### Step 1: Create a variable named `monthly_income`, and set its value to `12000`."
   ]
  },
  {
   "cell_type": "code",
   "execution_count": 4,
   "metadata": {},
   "outputs": [],
   "source": [
    "# The monthly amount for the member's household income\n",
    "monthly_income = 12000\n"
   ]
  },
  {
   "cell_type": "markdown",
   "metadata": {},
   "source": [
    "#### Review the endpoint URLs for the API calls to Free Crypto API in order to get the current pricing information for both BTC and ETH."
   ]
  },
  {
   "cell_type": "code",
   "execution_count": 5,
   "metadata": {},
   "outputs": [],
   "source": [
    "# The Free Crypto API Call endpoint URLs for the held cryptocurrency assets\n",
    "btc_url = \"https://api.alternative.me/v2/ticker/Bitcoin/?convert=USD\"\n",
    "eth_url = \"https://api.alternative.me/v2/ticker/Ethereum/?convert=USD\""
   ]
  },
  {
   "cell_type": "markdown",
   "metadata": {},
   "source": [
    "#### Step 2. Use the Requests library to get the current price (in US dollars) of Bitcoin (BTC) and Ethereum (ETH) by using the API endpoints that the starter code supplied."
   ]
  },
  {
   "cell_type": "code",
   "execution_count": 6,
   "metadata": {},
   "outputs": [
    {
     "name": "stdout",
     "output_type": "stream",
     "text": [
      "{\n",
      "     \"data\": {\n",
      "          \"1\": {\n",
      "               \"circulating_supply\": 18819012,\n",
      "               \"id\": 1,\n",
      "               \"last_updated\": 1631938998,\n",
      "               \"max_supply\": 21000000,\n",
      "               \"name\": \"Bitcoin\",\n",
      "               \"quotes\": {\n",
      "                    \"USD\": {\n",
      "                         \"market_cap\": 907024632635,\n",
      "                         \"percent_change_1h\": 0.381718209649835,\n",
      "                         \"percent_change_24h\": 0.615737442100907,\n",
      "                         \"percent_change_7d\": 7.53427490665847,\n",
      "                         \"percentage_change_1h\": 0.381718209649835,\n",
      "                         \"percentage_change_24h\": 0.615737442100907,\n",
      "                         \"percentage_change_7d\": 7.53427490665847,\n",
      "                         \"price\": 48178.0,\n",
      "                         \"volume_24h\": 28300885915\n",
      "                    }\n",
      "               },\n",
      "               \"rank\": 1,\n",
      "               \"symbol\": \"BTC\",\n",
      "               \"total_supply\": 18819012,\n",
      "               \"website_slug\": \"bitcoin\"\n",
      "          }\n",
      "     },\n",
      "     \"metadata\": {\n",
      "          \"error\": null,\n",
      "          \"num_cryptocurrencies\": 3105,\n",
      "          \"timestamp\": 1631938998\n",
      "     }\n",
      "}\n"
     ]
    }
   ],
   "source": [
    "# Using the Python requests library, make an API call to access the current price of BTC\n",
    "btc_response = requests.get(btc_url).json()\n",
    "\n",
    "# Use the json.dumps function to review the response data from the API call\n",
    "# Use the indent and sort_keys parameters to make the response object readable\n",
    "print(json.dumps(btc_response, indent=5, sort_keys=True))\n"
   ]
  },
  {
   "cell_type": "code",
   "execution_count": 7,
   "metadata": {},
   "outputs": [
    {
     "name": "stdout",
     "output_type": "stream",
     "text": [
      "{\n",
      "     \"data\": {\n",
      "          \"1027\": {\n",
      "               \"circulating_supply\": 117569471,\n",
      "               \"id\": 1027,\n",
      "               \"last_updated\": 1631939010,\n",
      "               \"max_supply\": 0,\n",
      "               \"name\": \"Ethereum\",\n",
      "               \"quotes\": {\n",
      "                    \"USD\": {\n",
      "                         \"market_cap\": 408590745111,\n",
      "                         \"percent_change_1h\": 0.842556001168059,\n",
      "                         \"percent_change_24h\": -2.23659567195693,\n",
      "                         \"percent_change_7d\": 8.34675427514707,\n",
      "                         \"percentage_change_1h\": 0.842556001168059,\n",
      "                         \"percentage_change_24h\": -2.23659567195693,\n",
      "                         \"percentage_change_7d\": 8.34675427514707,\n",
      "                         \"price\": 3477.84,\n",
      "                         \"volume_24h\": 18620823385\n",
      "                    }\n",
      "               },\n",
      "               \"rank\": 2,\n",
      "               \"symbol\": \"ETH\",\n",
      "               \"total_supply\": 117569471,\n",
      "               \"website_slug\": \"ethereum\"\n",
      "          }\n",
      "     },\n",
      "     \"metadata\": {\n",
      "          \"error\": null,\n",
      "          \"num_cryptocurrencies\": 3105,\n",
      "          \"timestamp\": 1631939010\n",
      "     }\n",
      "}\n"
     ]
    }
   ],
   "source": [
    "# Using the Python requests library, make an API call to access the current price ETH\n",
    "eth_response = requests.get(eth_url).json()\n",
    "\n",
    "# Use the json.dumps function to review the response data from the API call\n",
    "# Use the indent and sort_keys parameters to make the response object readable\n",
    "print(json.dumps(eth_response, indent=5, sort_keys=True))\n"
   ]
  },
  {
   "cell_type": "markdown",
   "metadata": {},
   "source": [
    "#### Step 3: Navigate the JSON response object to access the current price of each coin, and store each in a variable."
   ]
  },
  {
   "cell_type": "code",
   "execution_count": 8,
   "metadata": {},
   "outputs": [
    {
     "name": "stdout",
     "output_type": "stream",
     "text": [
      "The current price of Bitcoin is $48178.0\n"
     ]
    }
   ],
   "source": [
    "# Navigate the BTC response object to access the current price of BTC\n",
    "btc_price = btc_response[\"data\"][\"1\"][\"quotes\"][\"USD\"][\"price\"]\n",
    "\n",
    "# Print the current price of BTC\n",
    "print(f\"The current price of Bitcoin is ${btc_price}\")\n"
   ]
  },
  {
   "cell_type": "code",
   "execution_count": 9,
   "metadata": {},
   "outputs": [
    {
     "name": "stdout",
     "output_type": "stream",
     "text": [
      "The current price of Ethereum is $3477.84\n"
     ]
    }
   ],
   "source": [
    "# Navigate the BTC response object to access the current price of ETH\n",
    "eth_price = eth_response[\"data\"][\"1027\"][\"quotes\"][\"USD\"][\"price\"]\n",
    "\n",
    "# Print the current price of ETH\n",
    "print(f\"The current price of Ethereum is ${eth_price}\")\n"
   ]
  },
  {
   "cell_type": "markdown",
   "metadata": {},
   "source": [
    "### Step 4: Calculate the value, in US dollars, of the current amount of each cryptocurrency and of the entire cryptocurrency wallet."
   ]
  },
  {
   "cell_type": "code",
   "execution_count": 10,
   "metadata": {},
   "outputs": [
    {
     "name": "stdout",
     "output_type": "stream",
     "text": [
      "The current value of BTC holdings is $57813.6\n"
     ]
    }
   ],
   "source": [
    "# Compute the current value of the BTC holding \n",
    "btc_value = btc_price * btc_coins\n",
    "\n",
    "# Print current value of your holding in BTC\n",
    "print(f\"The current value of BTC holdings is ${btc_value}\")\n"
   ]
  },
  {
   "cell_type": "code",
   "execution_count": 11,
   "metadata": {},
   "outputs": [
    {
     "name": "stdout",
     "output_type": "stream",
     "text": [
      "The current value of ETH holdings is $18432.552\n"
     ]
    }
   ],
   "source": [
    "# Compute the current value of the ETH holding \n",
    "eth_value = eth_price * eth_coins\n",
    "\n",
    "# Print current value of your holding in ETH\n",
    "print(f\"The current value of ETH holdings is ${eth_value}\")\n"
   ]
  },
  {
   "cell_type": "code",
   "execution_count": 12,
   "metadata": {},
   "outputs": [
    {
     "name": "stdout",
     "output_type": "stream",
     "text": [
      "The curent value of the cryptocurrency wallet is $76246.152\n"
     ]
    }
   ],
   "source": [
    "# Compute the total value of the cryptocurrency wallet\n",
    "# Add the value of the BTC holding to the value of the ETH holding\n",
    "total_crypto_wallet = btc_value + eth_value\n",
    "\n",
    "# Print current cryptocurrency wallet balance\n",
    "print(f\"The curent value of the cryptocurrency wallet is ${total_crypto_wallet}\")\n"
   ]
  },
  {
   "cell_type": "markdown",
   "metadata": {},
   "source": [
    "### Evaluate the Stock and Bond Holdings by Using the Alpaca SDK\n",
    "\n",
    "In this section, you’ll determine the current value of a member’s stock and bond holdings. You’ll make an API call to Alpaca via the Alpaca SDK to get the current closing prices of the SPDR S&P 500 ETF Trust (ticker: SPY) and of the iShares Core US Aggregate Bond ETF (ticker: AGG). For the prototype, assume that the member holds 110 shares of SPY, which represents the stock portion of their portfolio, and 200 shares of AGG, which represents the bond portion. To do all this, complete the following steps:\n",
    "\n",
    "1. In the `Starter_Code` folder, create an environment file (`.env`) to store the values of your Alpaca API key and Alpaca secret key.\n",
    "\n",
    "2. Set the variables for the Alpaca API and secret keys. Using the Alpaca SDK, create the Alpaca `tradeapi.REST` object. In this object, include the parameters for the Alpaca API key, the secret key, and the version number.\n",
    "\n",
    "3. Set the following parameters for the Alpaca API call:\n",
    "\n",
    "    - `tickers`: Use the tickers for the member’s stock and bond holdings.\n",
    "\n",
    "    - `timeframe`: Use a time frame of one day.\n",
    "\n",
    "    - `start_date` and `end_date`: Use the same date for these parameters, and format them with the date of the previous weekday (or `2020-08-07`). This is because you want the one closing price for the most-recent trading day.\n",
    "\n",
    "4. Get the current closing prices for `SPY` and `AGG` by using the Alpaca `get_barset` function. Format the response as a Pandas DataFrame by including the `df` property at the end of the `get_barset` function.\n",
    "\n",
    "5. Navigating the Alpaca response DataFrame, select the `SPY` and `AGG` closing prices, and store them as variables.\n",
    "\n",
    "6. Calculate the value, in US dollars, of the current amount of shares in each of the stock and bond portions of the portfolio, and print the results.\n"
   ]
  },
  {
   "cell_type": "markdown",
   "metadata": {},
   "source": [
    "#### Review the total number of shares held in both (SPY) and (AGG)."
   ]
  },
  {
   "cell_type": "code",
   "execution_count": 13,
   "metadata": {},
   "outputs": [],
   "source": [
    "# Current amount of shares held in both the stock (SPY) and bond (AGG) portion of the portfolio.\n",
    "spy_shares = 110\n",
    "agg_shares = 200\n"
   ]
  },
  {
   "cell_type": "markdown",
   "metadata": {},
   "source": [
    "#### Step 1: In the `Starter_Code` folder, create an environment file (`.env`) to store the values of your Alpaca API key and Alpaca secret key."
   ]
  },
  {
   "cell_type": "markdown",
   "metadata": {},
   "source": [
    "#### Step 2: Set the variables for the Alpaca API and secret keys. Using the Alpaca SDK, create the Alpaca `tradeapi.REST` object. In this object, include the parameters for the Alpaca API key, the secret key, and the version number."
   ]
  },
  {
   "cell_type": "code",
   "execution_count": 14,
   "metadata": {},
   "outputs": [
    {
     "data": {
      "text/plain": [
       "str"
      ]
     },
     "metadata": {},
     "output_type": "display_data"
    },
    {
     "data": {
      "text/plain": [
       "str"
      ]
     },
     "metadata": {},
     "output_type": "display_data"
    }
   ],
   "source": [
    "# Set the variables for the Alpaca API and secret keys\n",
    "alpaca_api_key = os.getenv(\"ALPACA_API_KEY\")\n",
    "alpaca_secret_key = os.getenv(\"ALPACA_SECRET_KEY\")\n",
    "\n",
    "# Create the Alpaca tradeapi.REST object\n",
    "alpaca = tradeapi.REST(\n",
    "    alpaca_api_key,\n",
    "    alpaca_secret_key,\n",
    "    api_version = \"v2\"\n",
    ")\n",
    "\n",
    "display(type(alpaca_api_key))\n",
    "display(type(alpaca_secret_key))"
   ]
  },
  {
   "cell_type": "markdown",
   "metadata": {},
   "source": [
    "#### Step 3: Set the following parameters for the Alpaca API call:\n",
    "\n",
    "- `tickers`: Use the tickers for the member’s stock and bond holdings.\n",
    "\n",
    "- `timeframe`: Use a time frame of one day.\n",
    "\n",
    "- `start_date` and `end_date`: Use the same date for these parameters, and format them with the date of the previous weekday (or `2020-08-07`). This is because you want the one closing price for the most-recent trading day.\n"
   ]
  },
  {
   "cell_type": "code",
   "execution_count": 15,
   "metadata": {},
   "outputs": [],
   "source": [
    "# Set the tickers for both the bond and stock portion of the portfolio\n",
    "tickers = [\"SPY\", \"AGG\"]\n",
    "\n",
    "# Set timeframe to 1D \n",
    "timeframe = \"1D\"\n",
    "\n",
    "# Format current date as ISO format\n",
    "# Set both the start and end date at the date of your prior weekday \n",
    "# This will give you the closing price of the previous trading day\n",
    "# Alternatively you can use a start and end date of 2020-08-07\n",
    "start_date = pd.Timestamp(\"2021-09-10\", tz=\"America/New_York\").isoformat()\n",
    "end_date = pd.Timestamp(\"2021-09-10\", tz=\"America/New_York\").isoformat()\n"
   ]
  },
  {
   "cell_type": "markdown",
   "metadata": {},
   "source": [
    "#### Step 4: Get the current closing prices for `SPY` and `AGG` by using the Alpaca `get_barset` function. Format the response as a Pandas DataFrame by including the `df` property at the end of the `get_barset` function."
   ]
  },
  {
   "cell_type": "code",
   "execution_count": 16,
   "metadata": {},
   "outputs": [
    {
     "data": {
      "text/html": [
       "<div>\n",
       "<style scoped>\n",
       "    .dataframe tbody tr th:only-of-type {\n",
       "        vertical-align: middle;\n",
       "    }\n",
       "\n",
       "    .dataframe tbody tr th {\n",
       "        vertical-align: top;\n",
       "    }\n",
       "\n",
       "    .dataframe thead tr th {\n",
       "        text-align: left;\n",
       "    }\n",
       "\n",
       "    .dataframe thead tr:last-of-type th {\n",
       "        text-align: right;\n",
       "    }\n",
       "</style>\n",
       "<table border=\"1\" class=\"dataframe\">\n",
       "  <thead>\n",
       "    <tr>\n",
       "      <th></th>\n",
       "      <th colspan=\"5\" halign=\"left\">AGG</th>\n",
       "      <th colspan=\"5\" halign=\"left\">SPY</th>\n",
       "    </tr>\n",
       "    <tr>\n",
       "      <th></th>\n",
       "      <th>open</th>\n",
       "      <th>high</th>\n",
       "      <th>low</th>\n",
       "      <th>close</th>\n",
       "      <th>volume</th>\n",
       "      <th>open</th>\n",
       "      <th>high</th>\n",
       "      <th>low</th>\n",
       "      <th>close</th>\n",
       "      <th>volume</th>\n",
       "    </tr>\n",
       "    <tr>\n",
       "      <th>time</th>\n",
       "      <th></th>\n",
       "      <th></th>\n",
       "      <th></th>\n",
       "      <th></th>\n",
       "      <th></th>\n",
       "      <th></th>\n",
       "      <th></th>\n",
       "      <th></th>\n",
       "      <th></th>\n",
       "      <th></th>\n",
       "    </tr>\n",
       "  </thead>\n",
       "  <tbody>\n",
       "    <tr>\n",
       "      <th>2021-09-10 00:00:00-04:00</th>\n",
       "      <td>115.99</td>\n",
       "      <td>116.01</td>\n",
       "      <td>115.7801</td>\n",
       "      <td>115.87</td>\n",
       "      <td>2767552</td>\n",
       "      <td>451.04</td>\n",
       "      <td>451.49</td>\n",
       "      <td>445.31</td>\n",
       "      <td>445.5</td>\n",
       "      <td>75763259</td>\n",
       "    </tr>\n",
       "  </tbody>\n",
       "</table>\n",
       "</div>"
      ],
      "text/plain": [
       "                              AGG                                        SPY  \\\n",
       "                             open    high       low   close   volume    open   \n",
       "time                                                                           \n",
       "2021-09-10 00:00:00-04:00  115.99  116.01  115.7801  115.87  2767552  451.04   \n",
       "\n",
       "                                                            \n",
       "                             high     low  close    volume  \n",
       "time                                                        \n",
       "2021-09-10 00:00:00-04:00  451.49  445.31  445.5  75763259  "
      ]
     },
     "execution_count": 16,
     "metadata": {},
     "output_type": "execute_result"
    }
   ],
   "source": [
    "# Use the Alpaca get_barset function to get current closing prices the portfolio\n",
    "# Be sure to set the `df` property after the function to format the response object as a DataFrame\n",
    "closing_prices = alpaca.get_barset(\n",
    "    tickers,\n",
    "    timeframe,\n",
    "    start = start_date,\n",
    "    end = end_date\n",
    ").df\n",
    "\n",
    "# Review the Alpaca DataFrame\n",
    "closing_prices\n"
   ]
  },
  {
   "cell_type": "markdown",
   "metadata": {},
   "source": [
    "#### Step 5: Navigating the Alpaca response DataFrame, select the `SPY` and `AGG` closing prices, and store them as variables."
   ]
  },
  {
   "cell_type": "code",
   "execution_count": 17,
   "metadata": {},
   "outputs": [
    {
     "name": "stdout",
     "output_type": "stream",
     "text": [
      "115.87\n"
     ]
    }
   ],
   "source": [
    "# Access the closing price for AGG from the Alpaca DataFrame\n",
    "# Converting the value to a floating point number\n",
    "agg_close_price = float(closing_prices[\"AGG\"][\"close\"])\n",
    "\n",
    "# Print the AGG closing price\n",
    "print(agg_close_price)\n"
   ]
  },
  {
   "cell_type": "code",
   "execution_count": 18,
   "metadata": {},
   "outputs": [
    {
     "name": "stdout",
     "output_type": "stream",
     "text": [
      "445.5\n"
     ]
    }
   ],
   "source": [
    "# Access the closing price for SPY from the Alpaca DataFrame\n",
    "# Converting the value to a floating point number\n",
    "spy_close_price = float(closing_prices[\"SPY\"][\"close\"])\n",
    "\n",
    "# Print the SPY closing price\n",
    "print(spy_close_price)\n"
   ]
  },
  {
   "cell_type": "markdown",
   "metadata": {},
   "source": [
    "#### Step 6: Calculate the value, in US dollars, of the current amount of shares in each of the stock and bond portions of the portfolio, and print the results."
   ]
  },
  {
   "cell_type": "code",
   "execution_count": 19,
   "metadata": {},
   "outputs": [
    {
     "name": "stdout",
     "output_type": "stream",
     "text": [
      "The current value of the bond portion of the portfolio is $23174.0\n"
     ]
    }
   ],
   "source": [
    "# Calculate the current value of the bond portion of the portfolio\n",
    "agg_value = agg_close_price * agg_shares\n",
    "\n",
    "# Print the current value of the bond portfolio\n",
    "print(f\"The current value of the bond portion of the portfolio is ${agg_value}\")\n"
   ]
  },
  {
   "cell_type": "code",
   "execution_count": 20,
   "metadata": {},
   "outputs": [
    {
     "name": "stdout",
     "output_type": "stream",
     "text": [
      "The current value of the stock portion of the portfolio is $49005.0\n"
     ]
    }
   ],
   "source": [
    "# Calculate the current value of the stock portion of the portfolio\n",
    "spy_value = spy_close_price * spy_shares\n",
    "\n",
    "# Print the current value of the stock portfolio\n",
    "print(f\"The current value of the stock portion of the portfolio is ${spy_value}\")\n"
   ]
  },
  {
   "cell_type": "code",
   "execution_count": 21,
   "metadata": {},
   "outputs": [
    {
     "name": "stdout",
     "output_type": "stream",
     "text": [
      "The current value of the stock and bond portion of the portfolio is $72179.0\n"
     ]
    }
   ],
   "source": [
    "# Calculate the total value of the stock and bond portion of the portfolio\n",
    "total_stocks_bonds = agg_value + spy_value\n",
    "\n",
    "# Print the current balance of the stock and bond portion of the portfolio\n",
    "print(f\"The current value of the stock and bond portion of the portfolio is ${total_stocks_bonds}\")\n"
   ]
  },
  {
   "cell_type": "code",
   "execution_count": 22,
   "metadata": {},
   "outputs": [
    {
     "name": "stdout",
     "output_type": "stream",
     "text": [
      "The current value of the entire portfolio is $148425.152\n"
     ]
    }
   ],
   "source": [
    "# Calculate the total value of the member's entire savings portfolio\n",
    "# Add the value of the cryptocurrency wallet to the value of the total stocks and bonds\n",
    "total_portfolio = total_stocks_bonds + total_crypto_wallet\n",
    "\n",
    "# Print current cryptocurrency wallet balance\n",
    "print(f\"The current value of the entire portfolio is ${total_portfolio}\")\n"
   ]
  },
  {
   "cell_type": "markdown",
   "metadata": {},
   "source": [
    "### Evaluate the Emergency Fund\n",
    "\n",
    "In this section, you’ll use the valuations for the cryptocurrency wallet and for the stock and bond portions of the portfolio to determine if the credit union member has enough savings to build an emergency fund into their financial plan. To do this, complete the following steps:\n",
    "\n",
    "1. Create a Python list named `savings_data` that has two elements. The first element contains the total value of the cryptocurrency wallet. The second element contains the total value of the stock and bond portions of the portfolio.\n",
    "\n",
    "2. Use the `savings_data` list to create a Pandas DataFrame named `savings_df`, and then display this DataFrame. The function to create the DataFrame should take the following three parameters:\n",
    "\n",
    "    - `savings_data`: Use the list that you just created.\n",
    "\n",
    "    - `columns`: Set this parameter equal to a Python list with a single value called `amount`.\n",
    "\n",
    "    - `index`: Set this parameter equal to a Python list with the values of `crypto` and `stock/bond`.\n",
    "\n",
    "3. Use the `savings_df` DataFrame to plot a pie chart that visualizes the composition of the member’s portfolio. The y-axis of the pie chart uses `amount`. Be sure to add a title.\n",
    "\n",
    "4. Using Python, determine if the current portfolio has enough to create an emergency fund as part of the member’s financial plan. Ideally, an emergency fund should equal to three times the member’s monthly income. To do this, implement the following steps:\n",
    "\n",
    "    1. Create a variable named `emergency_fund_value`, and set it equal to three times the value of the member’s `monthly_income` of $12000. (You set this earlier in Part 1).\n",
    "\n",
    "    2. Create a series of three if statements to determine if the member’s total portfolio is large enough to fund the emergency portfolio:\n",
    "\n",
    "        1. If the total portfolio value is greater than the emergency fund value, display a message congratulating the member for having enough money in this fund.\n",
    "\n",
    "        2. Else if the total portfolio value is equal to the emergency fund value, display a message congratulating the member on reaching this important financial goal.\n",
    "\n",
    "        3. Else the total portfolio is less than the emergency fund value, so display a message showing how many dollars away the member is from reaching the goal. (Subtract the total portfolio value from the emergency fund value.)\n"
   ]
  },
  {
   "cell_type": "markdown",
   "metadata": {},
   "source": [
    "#### Step 1: Create a Python list named `savings_data` that has two elements. The first element contains the total value of the cryptocurrency wallet. The second element contains the total value of the stock and bond portions of the portfolio."
   ]
  },
  {
   "cell_type": "code",
   "execution_count": 23,
   "metadata": {},
   "outputs": [
    {
     "data": {
      "text/plain": [
       "[76246.152, 72179.0]"
      ]
     },
     "execution_count": 23,
     "metadata": {},
     "output_type": "execute_result"
    }
   ],
   "source": [
    "# Consolidate financial assets data into a Python list\n",
    "savings_data = [total_crypto_wallet, total_stocks_bonds]\n",
    "\n",
    "# Review the Python list savings_data\n",
    "savings_data\n",
    "    "
   ]
  },
  {
   "cell_type": "markdown",
   "metadata": {},
   "source": [
    "#### Step 2: Use the `savings_data` list to create a Pandas DataFrame named `savings_df`, and then display this DataFrame. The function to create the DataFrame should take the following three parameters:\n",
    "\n",
    "- `savings_data`: Use the list that you just created.\n",
    "\n",
    "- `columns`: Set this parameter equal to a Python list with a single value called `amount`.\n",
    "\n",
    "- `index`: Set this parameter equal to a Python list with the values of `crypto` and `stock/bond`.\n"
   ]
  },
  {
   "cell_type": "code",
   "execution_count": 24,
   "metadata": {},
   "outputs": [
    {
     "data": {
      "text/html": [
       "<div>\n",
       "<style scoped>\n",
       "    .dataframe tbody tr th:only-of-type {\n",
       "        vertical-align: middle;\n",
       "    }\n",
       "\n",
       "    .dataframe tbody tr th {\n",
       "        vertical-align: top;\n",
       "    }\n",
       "\n",
       "    .dataframe thead th {\n",
       "        text-align: right;\n",
       "    }\n",
       "</style>\n",
       "<table border=\"1\" class=\"dataframe\">\n",
       "  <thead>\n",
       "    <tr style=\"text-align: right;\">\n",
       "      <th></th>\n",
       "      <th>amount</th>\n",
       "    </tr>\n",
       "  </thead>\n",
       "  <tbody>\n",
       "    <tr>\n",
       "      <th>crypto</th>\n",
       "      <td>76246.152</td>\n",
       "    </tr>\n",
       "    <tr>\n",
       "      <th>stocks/bonds</th>\n",
       "      <td>72179.000</td>\n",
       "    </tr>\n",
       "  </tbody>\n",
       "</table>\n",
       "</div>"
      ],
      "text/plain": [
       "                 amount\n",
       "crypto        76246.152\n",
       "stocks/bonds  72179.000"
      ]
     },
     "execution_count": 24,
     "metadata": {},
     "output_type": "execute_result"
    }
   ],
   "source": [
    "# Create a Pandas DataFrame called savings_df \n",
    "savings_df = pd.DataFrame(\n",
    "    savings_data,\n",
    "    columns = [\"amount\"],\n",
    "    index = [\"crypto\", \"stocks/bonds\"]\n",
    ")\n",
    "\n",
    "# Display the savings_df DataFrame\n",
    "savings_df\n"
   ]
  },
  {
   "cell_type": "markdown",
   "metadata": {},
   "source": [
    "#### Step 3: Use the `savings_df` DataFrame to plot a pie chart that visualizes the composition of the member’s portfolio. The y-axis of the pie chart uses `amount`. Be sure to add a title."
   ]
  },
  {
   "cell_type": "code",
   "execution_count": 25,
   "metadata": {},
   "outputs": [
    {
     "data": {
      "text/plain": [
       "<AxesSubplot:title={'center':'Portfolio Composition: Crypto vs. Stocks/Bonds'}, ylabel='amount'>"
      ]
     },
     "execution_count": 25,
     "metadata": {},
     "output_type": "execute_result"
    },
    {
     "data": {
      "image/png": "[encoded data removed]",
      "text/plain": [
       "<Figure size 720x720 with 1 Axes>"
      ]
     },
     "metadata": {},
     "output_type": "display_data"
    }
   ],
   "source": [
    "# Plot the total value of the member's portfolio (crypto and stock/bond) in a pie chart\n",
    "savings_df.plot.pie(\n",
    "    figsize = (10,10),\n",
    "    y = 'amount', \n",
    "    title = 'Portfolio Composition: Crypto vs. Stocks/Bonds',\n",
    "    autopct = '%.2f%%'\n",
    ")\n"
   ]
  },
  {
   "cell_type": "markdown",
   "metadata": {},
   "source": [
    "#### Step 4: Using Python, determine if the current portfolio has enough to create an emergency fund as part of the member’s financial plan. Ideally, an emergency fund should equal to three times the member’s monthly income. To do this, implement the following steps:\n",
    "\n",
    "Step 1. Create a variable named `emergency_fund_value`, and set it equal to three times the value of the member’s `monthly_income` of 12000. (You set this earlier in Part 1).\n",
    "\n",
    "Step 2. Create a series of three if statements to determine if the member’s total portfolio is large enough to fund the emergency portfolio:\n",
    "\n",
    "* If the total portfolio value is greater than the emergency fund value, display a message congratulating the member for having enough money in this fund.\n",
    "\n",
    "* Else if the total portfolio value is equal to the emergency fund value, display a message congratulating the member on reaching this important financial goal.\n",
    "\n",
    "* Else the total portfolio is less than the emergency fund value, so display a message showing how many dollars away the member is from reaching the goal. (Subtract the total portfolio value from the emergency fund value.)\n"
   ]
  },
  {
   "cell_type": "markdown",
   "metadata": {},
   "source": [
    "##### Step 4-1: Create a variable named `emergency_fund_value`, and set it equal to three times the value of the member’s `monthly_income` of 12000. (You set this earlier in Part 1)."
   ]
  },
  {
   "cell_type": "code",
   "execution_count": 26,
   "metadata": {},
   "outputs": [
    {
     "name": "stdout",
     "output_type": "stream",
     "text": [
      "$36000\n"
     ]
    }
   ],
   "source": [
    "# Create a variable named emergency_fund_value\n",
    "emergency_fund_value = 3 * monthly_income\n",
    "\n",
    "print(f\"${emergency_fund_value}\")\n"
   ]
  },
  {
   "cell_type": "markdown",
   "metadata": {},
   "source": [
    "##### Step 4-2: Create a series of three if statements to determine if the member’s total portfolio is large enough to fund the emergency portfolio:\n",
    "\n",
    "* If the total portfolio value is greater than the emergency fund value, display a message congratulating the member for having enough money in this fund.\n",
    "\n",
    "* Else if the total portfolio value is equal to the emergency fund value, display a message congratulating the member on reaching this important financial goal.\n",
    "\n",
    "* Else the total portfolio is less than the emergency fund value, so display a message showing how many dollars away the member is from reaching the goal. (Subtract the total portfolio value from the emergency fund value.)"
   ]
  },
  {
   "cell_type": "code",
   "execution_count": 27,
   "metadata": {},
   "outputs": [
    {
     "name": "stdout",
     "output_type": "stream",
     "text": [
      "Congrats! You have enough money in your portfolio to create an emergency fund!\n"
     ]
    }
   ],
   "source": [
    "# Evaluate the possibility of creating an emergency fund with 3 conditions:\n",
    "if total_portfolio > emergency_fund_value:\n",
    "    print(\"Congrats! You have enough money in your portfolio to create an emergency fund!\")\n",
    "if total_portfolio == emergency_fund_value:\n",
    "    print(\"Congrats! Your portfolio has reached the amount required to create an emergency fund!\")\n",
    "if total_portfolio < emergency_fund_value:\n",
    "    print(f\"You are ${emergency_fund_value - total_portfolio} away from reaching the amount needed for an emergency fund.\")\n"
   ]
  },
  {
   "cell_type": "markdown",
   "metadata": {},
   "source": [
    "## Part 2: Create a Financial Planner for Retirement"
   ]
  },
  {
   "cell_type": "markdown",
   "metadata": {},
   "source": [
    "### Create the Monte Carlo Simulation\n",
    "\n",
    "In this section, you’ll use the MCForecastTools library to create a Monte Carlo simulation for the member’s savings portfolio. To do this, complete the following steps:\n",
    "\n",
    "1. Make an API call via the Alpaca SDK to get 3 years of historical closing prices for a traditional 60/40 portfolio split: 60% stocks (SPY) and 40% bonds (AGG).\n",
    "\n",
    "2. Run a Monte Carlo simulation of 500 samples and 30 years for the 60/40 portfolio, and then plot the results.The following image shows the overlay line plot resulting from a simulation with these characteristics. However, because a random number generator is used to run each live Monte Carlo simulation, your image will differ slightly from this exact image:\n",
    "\n",
    "![A screenshot depicts the resulting plot.](Images/5-4-monte-carlo-line-plot.png)\n",
    "\n",
    "3. Plot the probability distribution of the Monte Carlo simulation. Plot the probability distribution of the Monte Carlo simulation. The following image shows the histogram plot resulting from a simulation with these characteristics. However, because a random number generator is used to run each live Monte Carlo simulation, your image will differ slightly from this exact image:\n",
    "\n",
    "![A screenshot depicts the histogram plot.](Images/5-4-monte-carlo-histogram.png)\n",
    "\n",
    "4. Generate the summary statistics for the Monte Carlo simulation.\n",
    "\n"
   ]
  },
  {
   "cell_type": "markdown",
   "metadata": {},
   "source": [
    "#### Step 1: Make an API call via the Alpaca SDK to get 3 years of historical closing prices for a traditional 60/40 portfolio split: 60% stocks (SPY) and 40% bonds (AGG)."
   ]
  },
  {
   "cell_type": "code",
   "execution_count": 28,
   "metadata": {},
   "outputs": [],
   "source": [
    "# Set start and end dates of 3 years back from current date\n",
    "start_date = pd.Timestamp(\"2018-09-10\", tz=\"America/New_York\").isoformat()\n",
    "end_date = pd.Timestamp(\"2021-09-10\", tz=\"America/New_York\").isoformat()\n",
    "\n",
    "# Set number of rows to 1000 to retrieve the maximum amount of rows\n",
    "limit_rows = 1000"
   ]
  },
  {
   "cell_type": "code",
   "execution_count": 29,
   "metadata": {},
   "outputs": [
    {
     "data": {
      "text/html": [
       "<div>\n",
       "<style scoped>\n",
       "    .dataframe tbody tr th:only-of-type {\n",
       "        vertical-align: middle;\n",
       "    }\n",
       "\n",
       "    .dataframe tbody tr th {\n",
       "        vertical-align: top;\n",
       "    }\n",
       "\n",
       "    .dataframe thead tr th {\n",
       "        text-align: left;\n",
       "    }\n",
       "\n",
       "    .dataframe thead tr:last-of-type th {\n",
       "        text-align: right;\n",
       "    }\n",
       "</style>\n",
       "<table border=\"1\" class=\"dataframe\">\n",
       "  <thead>\n",
       "    <tr>\n",
       "      <th></th>\n",
       "      <th colspan=\"5\" halign=\"left\">AGG</th>\n",
       "      <th colspan=\"5\" halign=\"left\">SPY</th>\n",
       "    </tr>\n",
       "    <tr>\n",
       "      <th></th>\n",
       "      <th>open</th>\n",
       "      <th>high</th>\n",
       "      <th>low</th>\n",
       "      <th>close</th>\n",
       "      <th>volume</th>\n",
       "      <th>open</th>\n",
       "      <th>high</th>\n",
       "      <th>low</th>\n",
       "      <th>close</th>\n",
       "      <th>volume</th>\n",
       "    </tr>\n",
       "    <tr>\n",
       "      <th>time</th>\n",
       "      <th></th>\n",
       "      <th></th>\n",
       "      <th></th>\n",
       "      <th></th>\n",
       "      <th></th>\n",
       "      <th></th>\n",
       "      <th></th>\n",
       "      <th></th>\n",
       "      <th></th>\n",
       "      <th></th>\n",
       "    </tr>\n",
       "  </thead>\n",
       "  <tbody>\n",
       "    <tr>\n",
       "      <th>2018-09-10 00:00:00-04:00</th>\n",
       "      <td>105.85</td>\n",
       "      <td>105.9500</td>\n",
       "      <td>105.85</td>\n",
       "      <td>105.93</td>\n",
       "      <td>3085654</td>\n",
       "      <td>288.76</td>\n",
       "      <td>289.0400</td>\n",
       "      <td>287.880</td>\n",
       "      <td>288.09</td>\n",
       "      <td>32357518</td>\n",
       "    </tr>\n",
       "    <tr>\n",
       "      <th>2018-09-11 00:00:00-04:00</th>\n",
       "      <td>105.78</td>\n",
       "      <td>105.8400</td>\n",
       "      <td>105.70</td>\n",
       "      <td>105.73</td>\n",
       "      <td>1943309</td>\n",
       "      <td>287.37</td>\n",
       "      <td>289.5500</td>\n",
       "      <td>286.975</td>\n",
       "      <td>289.11</td>\n",
       "      <td>36335994</td>\n",
       "    </tr>\n",
       "    <tr>\n",
       "      <th>2018-09-12 00:00:00-04:00</th>\n",
       "      <td>105.81</td>\n",
       "      <td>105.8900</td>\n",
       "      <td>105.80</td>\n",
       "      <td>105.80</td>\n",
       "      <td>2083656</td>\n",
       "      <td>289.06</td>\n",
       "      <td>289.8000</td>\n",
       "      <td>288.230</td>\n",
       "      <td>289.16</td>\n",
       "      <td>46644377</td>\n",
       "    </tr>\n",
       "    <tr>\n",
       "      <th>2018-09-13 00:00:00-04:00</th>\n",
       "      <td>105.96</td>\n",
       "      <td>106.0000</td>\n",
       "      <td>105.85</td>\n",
       "      <td>105.88</td>\n",
       "      <td>2076503</td>\n",
       "      <td>290.32</td>\n",
       "      <td>291.0384</td>\n",
       "      <td>289.995</td>\n",
       "      <td>290.82</td>\n",
       "      <td>38536035</td>\n",
       "    </tr>\n",
       "    <tr>\n",
       "      <th>2018-09-14 00:00:00-04:00</th>\n",
       "      <td>105.72</td>\n",
       "      <td>105.7899</td>\n",
       "      <td>105.66</td>\n",
       "      <td>105.67</td>\n",
       "      <td>2530495</td>\n",
       "      <td>291.06</td>\n",
       "      <td>291.2700</td>\n",
       "      <td>290.000</td>\n",
       "      <td>290.90</td>\n",
       "      <td>37322600</td>\n",
       "    </tr>\n",
       "  </tbody>\n",
       "</table>\n",
       "</div>"
      ],
      "text/plain": [
       "                              AGG                                        SPY  \\\n",
       "                             open      high     low   close   volume    open   \n",
       "time                                                                           \n",
       "2018-09-10 00:00:00-04:00  105.85  105.9500  105.85  105.93  3085654  288.76   \n",
       "2018-09-11 00:00:00-04:00  105.78  105.8400  105.70  105.73  1943309  287.37   \n",
       "2018-09-12 00:00:00-04:00  105.81  105.8900  105.80  105.80  2083656  289.06   \n",
       "2018-09-13 00:00:00-04:00  105.96  106.0000  105.85  105.88  2076503  290.32   \n",
       "2018-09-14 00:00:00-04:00  105.72  105.7899  105.66  105.67  2530495  291.06   \n",
       "\n",
       "                                                                \n",
       "                               high      low   close    volume  \n",
       "time                                                            \n",
       "2018-09-10 00:00:00-04:00  289.0400  287.880  288.09  32357518  \n",
       "2018-09-11 00:00:00-04:00  289.5500  286.975  289.11  36335994  \n",
       "2018-09-12 00:00:00-04:00  289.8000  288.230  289.16  46644377  \n",
       "2018-09-13 00:00:00-04:00  291.0384  289.995  290.82  38536035  \n",
       "2018-09-14 00:00:00-04:00  291.2700  290.000  290.90  37322600  "
      ]
     },
     "metadata": {},
     "output_type": "display_data"
    },
    {
     "data": {
      "text/html": [
       "<div>\n",
       "<style scoped>\n",
       "    .dataframe tbody tr th:only-of-type {\n",
       "        vertical-align: middle;\n",
       "    }\n",
       "\n",
       "    .dataframe tbody tr th {\n",
       "        vertical-align: top;\n",
       "    }\n",
       "\n",
       "    .dataframe thead tr th {\n",
       "        text-align: left;\n",
       "    }\n",
       "\n",
       "    .dataframe thead tr:last-of-type th {\n",
       "        text-align: right;\n",
       "    }\n",
       "</style>\n",
       "<table border=\"1\" class=\"dataframe\">\n",
       "  <thead>\n",
       "    <tr>\n",
       "      <th></th>\n",
       "      <th colspan=\"5\" halign=\"left\">AGG</th>\n",
       "      <th colspan=\"5\" halign=\"left\">SPY</th>\n",
       "    </tr>\n",
       "    <tr>\n",
       "      <th></th>\n",
       "      <th>open</th>\n",
       "      <th>high</th>\n",
       "      <th>low</th>\n",
       "      <th>close</th>\n",
       "      <th>volume</th>\n",
       "      <th>open</th>\n",
       "      <th>high</th>\n",
       "      <th>low</th>\n",
       "      <th>close</th>\n",
       "      <th>volume</th>\n",
       "    </tr>\n",
       "    <tr>\n",
       "      <th>time</th>\n",
       "      <th></th>\n",
       "      <th></th>\n",
       "      <th></th>\n",
       "      <th></th>\n",
       "      <th></th>\n",
       "      <th></th>\n",
       "      <th></th>\n",
       "      <th></th>\n",
       "      <th></th>\n",
       "      <th></th>\n",
       "    </tr>\n",
       "  </thead>\n",
       "  <tbody>\n",
       "    <tr>\n",
       "      <th>2021-09-03 00:00:00-04:00</th>\n",
       "      <td>115.84</td>\n",
       "      <td>115.8900</td>\n",
       "      <td>115.7707</td>\n",
       "      <td>115.85</td>\n",
       "      <td>4172690</td>\n",
       "      <td>451.98</td>\n",
       "      <td>453.63</td>\n",
       "      <td>451.5500</td>\n",
       "      <td>453.06</td>\n",
       "      <td>37843082</td>\n",
       "    </tr>\n",
       "    <tr>\n",
       "      <th>2021-09-07 00:00:00-04:00</th>\n",
       "      <td>115.64</td>\n",
       "      <td>115.6457</td>\n",
       "      <td>115.4737</td>\n",
       "      <td>115.55</td>\n",
       "      <td>3190893</td>\n",
       "      <td>452.71</td>\n",
       "      <td>452.81</td>\n",
       "      <td>450.7423</td>\n",
       "      <td>451.52</td>\n",
       "      <td>46091753</td>\n",
       "    </tr>\n",
       "    <tr>\n",
       "      <th>2021-09-08 00:00:00-04:00</th>\n",
       "      <td>115.70</td>\n",
       "      <td>115.8200</td>\n",
       "      <td>115.6200</td>\n",
       "      <td>115.74</td>\n",
       "      <td>3084384</td>\n",
       "      <td>450.89</td>\n",
       "      <td>451.67</td>\n",
       "      <td>448.8600</td>\n",
       "      <td>450.96</td>\n",
       "      <td>50695626</td>\n",
       "    </tr>\n",
       "    <tr>\n",
       "      <th>2021-09-09 00:00:00-04:00</th>\n",
       "      <td>115.84</td>\n",
       "      <td>116.1470</td>\n",
       "      <td>115.7550</td>\n",
       "      <td>116.10</td>\n",
       "      <td>3232335</td>\n",
       "      <td>450.70</td>\n",
       "      <td>452.57</td>\n",
       "      <td>448.7200</td>\n",
       "      <td>448.94</td>\n",
       "      <td>51603442</td>\n",
       "    </tr>\n",
       "    <tr>\n",
       "      <th>2021-09-10 00:00:00-04:00</th>\n",
       "      <td>115.99</td>\n",
       "      <td>116.0100</td>\n",
       "      <td>115.7801</td>\n",
       "      <td>115.87</td>\n",
       "      <td>2767552</td>\n",
       "      <td>451.04</td>\n",
       "      <td>451.49</td>\n",
       "      <td>445.3100</td>\n",
       "      <td>445.50</td>\n",
       "      <td>75763259</td>\n",
       "    </tr>\n",
       "  </tbody>\n",
       "</table>\n",
       "</div>"
      ],
      "text/plain": [
       "                              AGG                                       \\\n",
       "                             open      high       low   close   volume   \n",
       "time                                                                     \n",
       "2021-09-03 00:00:00-04:00  115.84  115.8900  115.7707  115.85  4172690   \n",
       "2021-09-07 00:00:00-04:00  115.64  115.6457  115.4737  115.55  3190893   \n",
       "2021-09-08 00:00:00-04:00  115.70  115.8200  115.6200  115.74  3084384   \n",
       "2021-09-09 00:00:00-04:00  115.84  116.1470  115.7550  116.10  3232335   \n",
       "2021-09-10 00:00:00-04:00  115.99  116.0100  115.7801  115.87  2767552   \n",
       "\n",
       "                              SPY                                      \n",
       "                             open    high       low   close    volume  \n",
       "time                                                                   \n",
       "2021-09-03 00:00:00-04:00  451.98  453.63  451.5500  453.06  37843082  \n",
       "2021-09-07 00:00:00-04:00  452.71  452.81  450.7423  451.52  46091753  \n",
       "2021-09-08 00:00:00-04:00  450.89  451.67  448.8600  450.96  50695626  \n",
       "2021-09-09 00:00:00-04:00  450.70  452.57  448.7200  448.94  51603442  \n",
       "2021-09-10 00:00:00-04:00  451.04  451.49  445.3100  445.50  75763259  "
      ]
     },
     "metadata": {},
     "output_type": "display_data"
    }
   ],
   "source": [
    "# Use the Alpaca get_barset function to make the API call to get the 3 years worth of pricing data\n",
    "# The tickers and timeframe parameters should have been set in Part 1 of this activity \n",
    "# The start and end dates should be updated with the information set above\n",
    "# Remember to add the df property to the end of the call so the response is returned as a DataFrame\n",
    "price_data = alpaca.get_barset(\n",
    "    tickers,\n",
    "    timeframe,\n",
    "    start = start_date,\n",
    "    end = end_date,\n",
    "    limit = limit_rows\n",
    ").df\n",
    "\n",
    "\n",
    "# Display both the first and last five rows of the DataFrame\n",
    "display(price_data.head())\n",
    "display(price_data.tail())\n"
   ]
  },
  {
   "cell_type": "markdown",
   "metadata": {},
   "source": [
    "#### Step 2: Run a Monte Carlo simulation of 500 samples and 30 years for the 60/40 portfolio, and then plot the results."
   ]
  },
  {
   "cell_type": "code",
   "execution_count": 30,
   "metadata": {},
   "outputs": [
    {
     "data": {
      "text/html": [
       "<div>\n",
       "<style scoped>\n",
       "    .dataframe tbody tr th:only-of-type {\n",
       "        vertical-align: middle;\n",
       "    }\n",
       "\n",
       "    .dataframe tbody tr th {\n",
       "        vertical-align: top;\n",
       "    }\n",
       "\n",
       "    .dataframe thead tr th {\n",
       "        text-align: left;\n",
       "    }\n",
       "\n",
       "    .dataframe thead tr:last-of-type th {\n",
       "        text-align: right;\n",
       "    }\n",
       "</style>\n",
       "<table border=\"1\" class=\"dataframe\">\n",
       "  <thead>\n",
       "    <tr>\n",
       "      <th></th>\n",
       "      <th colspan=\"6\" halign=\"left\">AGG</th>\n",
       "      <th colspan=\"6\" halign=\"left\">SPY</th>\n",
       "    </tr>\n",
       "    <tr>\n",
       "      <th></th>\n",
       "      <th>open</th>\n",
       "      <th>high</th>\n",
       "      <th>low</th>\n",
       "      <th>close</th>\n",
       "      <th>volume</th>\n",
       "      <th>daily_return</th>\n",
       "      <th>open</th>\n",
       "      <th>high</th>\n",
       "      <th>low</th>\n",
       "      <th>close</th>\n",
       "      <th>volume</th>\n",
       "      <th>daily_return</th>\n",
       "    </tr>\n",
       "    <tr>\n",
       "      <th>time</th>\n",
       "      <th></th>\n",
       "      <th></th>\n",
       "      <th></th>\n",
       "      <th></th>\n",
       "      <th></th>\n",
       "      <th></th>\n",
       "      <th></th>\n",
       "      <th></th>\n",
       "      <th></th>\n",
       "      <th></th>\n",
       "      <th></th>\n",
       "      <th></th>\n",
       "    </tr>\n",
       "  </thead>\n",
       "  <tbody>\n",
       "    <tr>\n",
       "      <th>2018-09-10 00:00:00-04:00</th>\n",
       "      <td>105.85</td>\n",
       "      <td>105.9500</td>\n",
       "      <td>105.85</td>\n",
       "      <td>105.93</td>\n",
       "      <td>3085654</td>\n",
       "      <td>NaN</td>\n",
       "      <td>288.76</td>\n",
       "      <td>289.0400</td>\n",
       "      <td>287.880</td>\n",
       "      <td>288.09</td>\n",
       "      <td>32357518</td>\n",
       "      <td>NaN</td>\n",
       "    </tr>\n",
       "    <tr>\n",
       "      <th>2018-09-11 00:00:00-04:00</th>\n",
       "      <td>105.78</td>\n",
       "      <td>105.8400</td>\n",
       "      <td>105.70</td>\n",
       "      <td>105.73</td>\n",
       "      <td>1943309</td>\n",
       "      <td>-0.001888</td>\n",
       "      <td>287.37</td>\n",
       "      <td>289.5500</td>\n",
       "      <td>286.975</td>\n",
       "      <td>289.11</td>\n",
       "      <td>36335994</td>\n",
       "      <td>0.003541</td>\n",
       "    </tr>\n",
       "    <tr>\n",
       "      <th>2018-09-12 00:00:00-04:00</th>\n",
       "      <td>105.81</td>\n",
       "      <td>105.8900</td>\n",
       "      <td>105.80</td>\n",
       "      <td>105.80</td>\n",
       "      <td>2083656</td>\n",
       "      <td>0.000662</td>\n",
       "      <td>289.06</td>\n",
       "      <td>289.8000</td>\n",
       "      <td>288.230</td>\n",
       "      <td>289.16</td>\n",
       "      <td>46644377</td>\n",
       "      <td>0.000173</td>\n",
       "    </tr>\n",
       "    <tr>\n",
       "      <th>2018-09-13 00:00:00-04:00</th>\n",
       "      <td>105.96</td>\n",
       "      <td>106.0000</td>\n",
       "      <td>105.85</td>\n",
       "      <td>105.88</td>\n",
       "      <td>2076503</td>\n",
       "      <td>0.000756</td>\n",
       "      <td>290.32</td>\n",
       "      <td>291.0384</td>\n",
       "      <td>289.995</td>\n",
       "      <td>290.82</td>\n",
       "      <td>38536035</td>\n",
       "      <td>0.005741</td>\n",
       "    </tr>\n",
       "    <tr>\n",
       "      <th>2018-09-14 00:00:00-04:00</th>\n",
       "      <td>105.72</td>\n",
       "      <td>105.7899</td>\n",
       "      <td>105.66</td>\n",
       "      <td>105.67</td>\n",
       "      <td>2530495</td>\n",
       "      <td>-0.001983</td>\n",
       "      <td>291.06</td>\n",
       "      <td>291.2700</td>\n",
       "      <td>290.000</td>\n",
       "      <td>290.90</td>\n",
       "      <td>37322600</td>\n",
       "      <td>0.000275</td>\n",
       "    </tr>\n",
       "  </tbody>\n",
       "</table>\n",
       "</div>"
      ],
      "text/plain": [
       "                              AGG                                     \\\n",
       "                             open      high     low   close   volume   \n",
       "time                                                                   \n",
       "2018-09-10 00:00:00-04:00  105.85  105.9500  105.85  105.93  3085654   \n",
       "2018-09-11 00:00:00-04:00  105.78  105.8400  105.70  105.73  1943309   \n",
       "2018-09-12 00:00:00-04:00  105.81  105.8900  105.80  105.80  2083656   \n",
       "2018-09-13 00:00:00-04:00  105.96  106.0000  105.85  105.88  2076503   \n",
       "2018-09-14 00:00:00-04:00  105.72  105.7899  105.66  105.67  2530495   \n",
       "\n",
       "                                           SPY                             \\\n",
       "                          daily_return    open      high      low   close   \n",
       "time                                                                        \n",
       "2018-09-10 00:00:00-04:00          NaN  288.76  289.0400  287.880  288.09   \n",
       "2018-09-11 00:00:00-04:00    -0.001888  287.37  289.5500  286.975  289.11   \n",
       "2018-09-12 00:00:00-04:00     0.000662  289.06  289.8000  288.230  289.16   \n",
       "2018-09-13 00:00:00-04:00     0.000756  290.32  291.0384  289.995  290.82   \n",
       "2018-09-14 00:00:00-04:00    -0.001983  291.06  291.2700  290.000  290.90   \n",
       "\n",
       "                                                  \n",
       "                             volume daily_return  \n",
       "time                                              \n",
       "2018-09-10 00:00:00-04:00  32357518          NaN  \n",
       "2018-09-11 00:00:00-04:00  36335994     0.003541  \n",
       "2018-09-12 00:00:00-04:00  46644377     0.000173  \n",
       "2018-09-13 00:00:00-04:00  38536035     0.005741  \n",
       "2018-09-14 00:00:00-04:00  37322600     0.000275  "
      ]
     },
     "execution_count": 30,
     "metadata": {},
     "output_type": "execute_result"
    }
   ],
   "source": [
    "# Configure the Monte Carlo simulation to forecast 30 years cumulative returns\n",
    "# The weights should be split 40% to AGG and 60% to SPY.\n",
    "# Run 500 samples.\n",
    "MC_60_40 = MCSimulation(\n",
    "    portfolio_data = price_data,\n",
    "    weights = [0.4, 0.6],\n",
    "    num_simulation = 500,\n",
    "    num_trading_days = 252*30\n",
    ")\n",
    "\n",
    "# Review the simulation input data\n",
    "MC_60_40.portfolio_data.head()\n"
   ]
  },
  {
   "cell_type": "code",
   "execution_count": 31,
   "metadata": {},
   "outputs": [
    {
     "name": "stdout",
     "output_type": "stream",
     "text": [
      "Running Monte Carlo simulation number 0.\n",
      "Running Monte Carlo simulation number 10.\n",
      "Running Monte Carlo simulation number 20.\n",
      "Running Monte Carlo simulation number 30.\n",
      "Running Monte Carlo simulation number 40.\n",
      "Running Monte Carlo simulation number 50.\n",
      "Running Monte Carlo simulation number 60.\n",
      "Running Monte Carlo simulation number 70.\n",
      "Running Monte Carlo simulation number 80.\n",
      "Running Monte Carlo simulation number 90.\n",
      "Running Monte Carlo simulation number 100.\n",
      "Running Monte Carlo simulation number 110.\n",
      "Running Monte Carlo simulation number 120.\n",
      "Running Monte Carlo simulation number 130.\n",
      "Running Monte Carlo simulation number 140.\n",
      "Running Monte Carlo simulation number 150.\n",
      "Running Monte Carlo simulation number 160.\n",
      "Running Monte Carlo simulation number 170.\n",
      "Running Monte Carlo simulation number 180.\n",
      "Running Monte Carlo simulation number 190.\n",
      "Running Monte Carlo simulation number 200.\n",
      "Running Monte Carlo simulation number 210.\n",
      "Running Monte Carlo simulation number 220.\n",
      "Running Monte Carlo simulation number 230.\n",
      "Running Monte Carlo simulation number 240.\n",
      "Running Monte Carlo simulation number 250.\n",
      "Running Monte Carlo simulation number 260.\n",
      "Running Monte Carlo simulation number 270.\n",
      "Running Monte Carlo simulation number 280.\n",
      "Running Monte Carlo simulation number 290.\n",
      "Running Monte Carlo simulation number 300.\n",
      "Running Monte Carlo simulation number 310.\n",
      "Running Monte Carlo simulation number 320.\n",
      "Running Monte Carlo simulation number 330.\n",
      "Running Monte Carlo simulation number 340.\n",
      "Running Monte Carlo simulation number 350.\n",
      "Running Monte Carlo simulation number 360.\n",
      "Running Monte Carlo simulation number 370.\n",
      "Running Monte Carlo simulation number 380.\n",
      "Running Monte Carlo simulation number 390.\n",
      "Running Monte Carlo simulation number 400.\n",
      "Running Monte Carlo simulation number 410.\n",
      "Running Monte Carlo simulation number 420.\n",
      "Running Monte Carlo simulation number 430.\n",
      "Running Monte Carlo simulation number 440.\n",
      "Running Monte Carlo simulation number 450.\n",
      "Running Monte Carlo simulation number 460.\n",
      "Running Monte Carlo simulation number 470.\n",
      "Running Monte Carlo simulation number 480.\n",
      "Running Monte Carlo simulation number 490.\n"
     ]
    },
    {
     "data": {
      "text/html": [
       "<div>\n",
       "<style scoped>\n",
       "    .dataframe tbody tr th:only-of-type {\n",
       "        vertical-align: middle;\n",
       "    }\n",
       "\n",
       "    .dataframe tbody tr th {\n",
       "        vertical-align: top;\n",
       "    }\n",
       "\n",
       "    .dataframe thead th {\n",
       "        text-align: right;\n",
       "    }\n",
       "</style>\n",
       "<table border=\"1\" class=\"dataframe\">\n",
       "  <thead>\n",
       "    <tr style=\"text-align: right;\">\n",
       "      <th></th>\n",
       "      <th>0</th>\n",
       "      <th>1</th>\n",
       "      <th>2</th>\n",
       "      <th>3</th>\n",
       "      <th>4</th>\n",
       "      <th>5</th>\n",
       "      <th>6</th>\n",
       "      <th>7</th>\n",
       "      <th>8</th>\n",
       "      <th>9</th>\n",
       "      <th>...</th>\n",
       "      <th>490</th>\n",
       "      <th>491</th>\n",
       "      <th>492</th>\n",
       "      <th>493</th>\n",
       "      <th>494</th>\n",
       "      <th>495</th>\n",
       "      <th>496</th>\n",
       "      <th>497</th>\n",
       "      <th>498</th>\n",
       "      <th>499</th>\n",
       "    </tr>\n",
       "  </thead>\n",
       "  <tbody>\n",
       "    <tr>\n",
       "      <th>0</th>\n",
       "      <td>1.000000</td>\n",
       "      <td>1.000000</td>\n",
       "      <td>1.000000</td>\n",
       "      <td>1.000000</td>\n",
       "      <td>1.000000</td>\n",
       "      <td>1.000000</td>\n",
       "      <td>1.000000</td>\n",
       "      <td>1.000000</td>\n",
       "      <td>1.000000</td>\n",
       "      <td>1.000000</td>\n",
       "      <td>...</td>\n",
       "      <td>1.000000</td>\n",
       "      <td>1.000000</td>\n",
       "      <td>1.000000</td>\n",
       "      <td>1.000000</td>\n",
       "      <td>1.000000</td>\n",
       "      <td>1.000000</td>\n",
       "      <td>1.000000</td>\n",
       "      <td>1.000000</td>\n",
       "      <td>1.000000</td>\n",
       "      <td>1.000000</td>\n",
       "    </tr>\n",
       "    <tr>\n",
       "      <th>1</th>\n",
       "      <td>0.999186</td>\n",
       "      <td>0.989545</td>\n",
       "      <td>0.984364</td>\n",
       "      <td>0.985842</td>\n",
       "      <td>1.009782</td>\n",
       "      <td>0.991555</td>\n",
       "      <td>1.004186</td>\n",
       "      <td>0.992637</td>\n",
       "      <td>0.998010</td>\n",
       "      <td>1.011203</td>\n",
       "      <td>...</td>\n",
       "      <td>0.997099</td>\n",
       "      <td>0.984234</td>\n",
       "      <td>0.998016</td>\n",
       "      <td>0.997136</td>\n",
       "      <td>1.009140</td>\n",
       "      <td>1.006291</td>\n",
       "      <td>1.007573</td>\n",
       "      <td>0.996636</td>\n",
       "      <td>1.017708</td>\n",
       "      <td>1.000019</td>\n",
       "    </tr>\n",
       "    <tr>\n",
       "      <th>2</th>\n",
       "      <td>0.994139</td>\n",
       "      <td>0.988226</td>\n",
       "      <td>0.988811</td>\n",
       "      <td>0.972389</td>\n",
       "      <td>1.006125</td>\n",
       "      <td>0.992437</td>\n",
       "      <td>1.003614</td>\n",
       "      <td>0.987609</td>\n",
       "      <td>0.981079</td>\n",
       "      <td>1.021626</td>\n",
       "      <td>...</td>\n",
       "      <td>1.001196</td>\n",
       "      <td>0.998037</td>\n",
       "      <td>0.985747</td>\n",
       "      <td>0.997115</td>\n",
       "      <td>1.013093</td>\n",
       "      <td>1.011671</td>\n",
       "      <td>1.001641</td>\n",
       "      <td>0.993286</td>\n",
       "      <td>1.002293</td>\n",
       "      <td>0.988583</td>\n",
       "    </tr>\n",
       "    <tr>\n",
       "      <th>3</th>\n",
       "      <td>0.994838</td>\n",
       "      <td>0.985272</td>\n",
       "      <td>1.002801</td>\n",
       "      <td>0.961518</td>\n",
       "      <td>0.995725</td>\n",
       "      <td>0.986165</td>\n",
       "      <td>1.005252</td>\n",
       "      <td>0.985945</td>\n",
       "      <td>0.978888</td>\n",
       "      <td>0.995580</td>\n",
       "      <td>...</td>\n",
       "      <td>1.005678</td>\n",
       "      <td>0.985628</td>\n",
       "      <td>0.990233</td>\n",
       "      <td>0.993567</td>\n",
       "      <td>1.012735</td>\n",
       "      <td>1.017912</td>\n",
       "      <td>0.999235</td>\n",
       "      <td>0.986983</td>\n",
       "      <td>1.001776</td>\n",
       "      <td>0.971384</td>\n",
       "    </tr>\n",
       "    <tr>\n",
       "      <th>4</th>\n",
       "      <td>1.004804</td>\n",
       "      <td>0.992846</td>\n",
       "      <td>1.003630</td>\n",
       "      <td>0.963312</td>\n",
       "      <td>1.003484</td>\n",
       "      <td>0.989460</td>\n",
       "      <td>1.020772</td>\n",
       "      <td>1.002105</td>\n",
       "      <td>0.987406</td>\n",
       "      <td>0.999058</td>\n",
       "      <td>...</td>\n",
       "      <td>1.001197</td>\n",
       "      <td>0.985991</td>\n",
       "      <td>0.976728</td>\n",
       "      <td>0.977376</td>\n",
       "      <td>1.013289</td>\n",
       "      <td>1.001122</td>\n",
       "      <td>1.004179</td>\n",
       "      <td>0.991632</td>\n",
       "      <td>0.995893</td>\n",
       "      <td>0.972800</td>\n",
       "    </tr>\n",
       "    <tr>\n",
       "      <th>...</th>\n",
       "      <td>...</td>\n",
       "      <td>...</td>\n",
       "      <td>...</td>\n",
       "      <td>...</td>\n",
       "      <td>...</td>\n",
       "      <td>...</td>\n",
       "      <td>...</td>\n",
       "      <td>...</td>\n",
       "      <td>...</td>\n",
       "      <td>...</td>\n",
       "      <td>...</td>\n",
       "      <td>...</td>\n",
       "      <td>...</td>\n",
       "      <td>...</td>\n",
       "      <td>...</td>\n",
       "      <td>...</td>\n",
       "      <td>...</td>\n",
       "      <td>...</td>\n",
       "      <td>...</td>\n",
       "      <td>...</td>\n",
       "      <td>...</td>\n",
       "    </tr>\n",
       "    <tr>\n",
       "      <th>7556</th>\n",
       "      <td>14.477436</td>\n",
       "      <td>11.599497</td>\n",
       "      <td>33.712418</td>\n",
       "      <td>4.886703</td>\n",
       "      <td>29.931939</td>\n",
       "      <td>15.591832</td>\n",
       "      <td>8.605396</td>\n",
       "      <td>14.934137</td>\n",
       "      <td>24.954691</td>\n",
       "      <td>86.651355</td>\n",
       "      <td>...</td>\n",
       "      <td>50.188880</td>\n",
       "      <td>24.041493</td>\n",
       "      <td>56.206248</td>\n",
       "      <td>19.184423</td>\n",
       "      <td>104.487542</td>\n",
       "      <td>44.221962</td>\n",
       "      <td>26.714506</td>\n",
       "      <td>30.949541</td>\n",
       "      <td>143.334927</td>\n",
       "      <td>45.962163</td>\n",
       "    </tr>\n",
       "    <tr>\n",
       "      <th>7557</th>\n",
       "      <td>14.459698</td>\n",
       "      <td>11.658387</td>\n",
       "      <td>33.256403</td>\n",
       "      <td>4.791304</td>\n",
       "      <td>30.028469</td>\n",
       "      <td>15.535057</td>\n",
       "      <td>8.645165</td>\n",
       "      <td>14.880398</td>\n",
       "      <td>24.948352</td>\n",
       "      <td>87.970885</td>\n",
       "      <td>...</td>\n",
       "      <td>50.429656</td>\n",
       "      <td>24.286712</td>\n",
       "      <td>56.546727</td>\n",
       "      <td>19.207233</td>\n",
       "      <td>104.898230</td>\n",
       "      <td>43.749066</td>\n",
       "      <td>26.397717</td>\n",
       "      <td>31.077257</td>\n",
       "      <td>144.584440</td>\n",
       "      <td>45.662623</td>\n",
       "    </tr>\n",
       "    <tr>\n",
       "      <th>7558</th>\n",
       "      <td>14.543325</td>\n",
       "      <td>11.724742</td>\n",
       "      <td>33.510850</td>\n",
       "      <td>4.795332</td>\n",
       "      <td>29.995582</td>\n",
       "      <td>15.452068</td>\n",
       "      <td>8.690390</td>\n",
       "      <td>14.984054</td>\n",
       "      <td>25.309924</td>\n",
       "      <td>87.527437</td>\n",
       "      <td>...</td>\n",
       "      <td>50.962744</td>\n",
       "      <td>24.009214</td>\n",
       "      <td>57.289298</td>\n",
       "      <td>19.218389</td>\n",
       "      <td>104.033089</td>\n",
       "      <td>43.810159</td>\n",
       "      <td>26.639751</td>\n",
       "      <td>31.018368</td>\n",
       "      <td>144.486049</td>\n",
       "      <td>45.664290</td>\n",
       "    </tr>\n",
       "    <tr>\n",
       "      <th>7559</th>\n",
       "      <td>14.476113</td>\n",
       "      <td>11.656529</td>\n",
       "      <td>33.346058</td>\n",
       "      <td>4.760305</td>\n",
       "      <td>29.731419</td>\n",
       "      <td>15.531939</td>\n",
       "      <td>8.706381</td>\n",
       "      <td>15.098814</td>\n",
       "      <td>24.954853</td>\n",
       "      <td>88.445622</td>\n",
       "      <td>...</td>\n",
       "      <td>51.834815</td>\n",
       "      <td>24.191430</td>\n",
       "      <td>58.048999</td>\n",
       "      <td>19.061677</td>\n",
       "      <td>105.288909</td>\n",
       "      <td>43.694894</td>\n",
       "      <td>26.299297</td>\n",
       "      <td>30.957260</td>\n",
       "      <td>143.705837</td>\n",
       "      <td>45.611839</td>\n",
       "    </tr>\n",
       "    <tr>\n",
       "      <th>7560</th>\n",
       "      <td>14.207717</td>\n",
       "      <td>11.770236</td>\n",
       "      <td>33.788197</td>\n",
       "      <td>4.781111</td>\n",
       "      <td>29.588600</td>\n",
       "      <td>15.322058</td>\n",
       "      <td>8.706702</td>\n",
       "      <td>14.882126</td>\n",
       "      <td>24.703277</td>\n",
       "      <td>87.401677</td>\n",
       "      <td>...</td>\n",
       "      <td>51.728292</td>\n",
       "      <td>24.305659</td>\n",
       "      <td>58.313205</td>\n",
       "      <td>19.369178</td>\n",
       "      <td>106.016454</td>\n",
       "      <td>43.482123</td>\n",
       "      <td>26.200495</td>\n",
       "      <td>31.049426</td>\n",
       "      <td>143.579852</td>\n",
       "      <td>46.148731</td>\n",
       "    </tr>\n",
       "  </tbody>\n",
       "</table>\n",
       "<p>7561 rows × 500 columns</p>\n",
       "</div>"
      ],
      "text/plain": [
       "            0          1          2         3          4          5    \\\n",
       "0      1.000000   1.000000   1.000000  1.000000   1.000000   1.000000   \n",
       "1      0.999186   0.989545   0.984364  0.985842   1.009782   0.991555   \n",
       "2      0.994139   0.988226   0.988811  0.972389   1.006125   0.992437   \n",
       "3      0.994838   0.985272   1.002801  0.961518   0.995725   0.986165   \n",
       "4      1.004804   0.992846   1.003630  0.963312   1.003484   0.989460   \n",
       "...         ...        ...        ...       ...        ...        ...   \n",
       "7556  14.477436  11.599497  33.712418  4.886703  29.931939  15.591832   \n",
       "7557  14.459698  11.658387  33.256403  4.791304  30.028469  15.535057   \n",
       "7558  14.543325  11.724742  33.510850  4.795332  29.995582  15.452068   \n",
       "7559  14.476113  11.656529  33.346058  4.760305  29.731419  15.531939   \n",
       "7560  14.207717  11.770236  33.788197  4.781111  29.588600  15.322058   \n",
       "\n",
       "           6          7          8          9    ...        490        491  \\\n",
       "0     1.000000   1.000000   1.000000   1.000000  ...   1.000000   1.000000   \n",
       "1     1.004186   0.992637   0.998010   1.011203  ...   0.997099   0.984234   \n",
       "2     1.003614   0.987609   0.981079   1.021626  ...   1.001196   0.998037   \n",
       "3     1.005252   0.985945   0.978888   0.995580  ...   1.005678   0.985628   \n",
       "4     1.020772   1.002105   0.987406   0.999058  ...   1.001197   0.985991   \n",
       "...        ...        ...        ...        ...  ...        ...        ...   \n",
       "7556  8.605396  14.934137  24.954691  86.651355  ...  50.188880  24.041493   \n",
       "7557  8.645165  14.880398  24.948352  87.970885  ...  50.429656  24.286712   \n",
       "7558  8.690390  14.984054  25.309924  87.527437  ...  50.962744  24.009214   \n",
       "7559  8.706381  15.098814  24.954853  88.445622  ...  51.834815  24.191430   \n",
       "7560  8.706702  14.882126  24.703277  87.401677  ...  51.728292  24.305659   \n",
       "\n",
       "            492        493         494        495        496        497  \\\n",
       "0      1.000000   1.000000    1.000000   1.000000   1.000000   1.000000   \n",
       "1      0.998016   0.997136    1.009140   1.006291   1.007573   0.996636   \n",
       "2      0.985747   0.997115    1.013093   1.011671   1.001641   0.993286   \n",
       "3      0.990233   0.993567    1.012735   1.017912   0.999235   0.986983   \n",
       "4      0.976728   0.977376    1.013289   1.001122   1.004179   0.991632   \n",
       "...         ...        ...         ...        ...        ...        ...   \n",
       "7556  56.206248  19.184423  104.487542  44.221962  26.714506  30.949541   \n",
       "7557  56.546727  19.207233  104.898230  43.749066  26.397717  31.077257   \n",
       "7558  57.289298  19.218389  104.033089  43.810159  26.639751  31.018368   \n",
       "7559  58.048999  19.061677  105.288909  43.694894  26.299297  30.957260   \n",
       "7560  58.313205  19.369178  106.016454  43.482123  26.200495  31.049426   \n",
       "\n",
       "             498        499  \n",
       "0       1.000000   1.000000  \n",
       "1       1.017708   1.000019  \n",
       "2       1.002293   0.988583  \n",
       "3       1.001776   0.971384  \n",
       "4       0.995893   0.972800  \n",
       "...          ...        ...  \n",
       "7556  143.334927  45.962163  \n",
       "7557  144.584440  45.662623  \n",
       "7558  144.486049  45.664290  \n",
       "7559  143.705837  45.611839  \n",
       "7560  143.579852  46.148731  \n",
       "\n",
       "[7561 rows x 500 columns]"
      ]
     },
     "execution_count": 31,
     "metadata": {},
     "output_type": "execute_result"
    }
   ],
   "source": [
    "# Run the Monte Carlo simulation to forecast 30 years cumulative returns\n",
    "MC_60_40.calc_cumulative_return()\n"
   ]
  },
  {
   "cell_type": "code",
   "execution_count": 32,
   "metadata": {},
   "outputs": [
    {
     "data": {
      "image/png": "[encoded data removed]",
      "text/plain": [
       "<Figure size 432x288 with 1 Axes>"
      ]
     },
     "metadata": {
      "needs_background": "light"
     },
     "output_type": "display_data"
    }
   ],
   "source": [
    "# Visualize the 30-year Monte Carlo simulation by creating an\n",
    "# overlay line plot\n",
    "MC_60_40_line_plot = MC_60_40.plot_simulation()"
   ]
  },
  {
   "cell_type": "markdown",
   "metadata": {},
   "source": [
    "#### Step 3: Plot the probability distribution of the Monte Carlo simulation."
   ]
  },
  {
   "cell_type": "code",
   "execution_count": 33,
   "metadata": {},
   "outputs": [
    {
     "data": {
      "image/png": "[encoded data removed]",
      "text/plain": [
       "<Figure size 432x288 with 1 Axes>"
      ]
     },
     "metadata": {
      "needs_background": "light"
     },
     "output_type": "display_data"
    }
   ],
   "source": [
    "# Visualize the probability distribution of the 30-year Monte Carlo simulation \n",
    "# by plotting a histogram\n",
    "MC_60_40_distribution_plot = MC_60_40.plot_distribution()\n"
   ]
  },
  {
   "cell_type": "markdown",
   "metadata": {},
   "source": [
    "#### Step 4: Generate the summary statistics for the Monte Carlo simulation."
   ]
  },
  {
   "cell_type": "code",
   "execution_count": 34,
   "metadata": {},
   "outputs": [
    {
     "data": {
      "text/plain": [
       "count           500.000000\n",
       "mean             31.645872\n",
       "std              24.295871\n",
       "min               3.315344\n",
       "25%              14.654908\n",
       "50%              24.788715\n",
       "75%              41.628784\n",
       "max             156.573503\n",
       "95% CI Lower      5.717779\n",
       "95% CI Upper     94.310323\n",
       "Name: 7560, dtype: float64"
      ]
     },
     "execution_count": 34,
     "metadata": {},
     "output_type": "execute_result"
    }
   ],
   "source": [
    "# Generate summary statistics from the 30-year Monte Carlo simulation results\n",
    "# Save the results as a variable\n",
    "MC_60_40_table = MC_60_40.summarize_cumulative_return()\n",
    "\n",
    "\n",
    "# Review the 30-year Monte Carlo summary statistics\n",
    "MC_60_40_table"
   ]
  },
  {
   "cell_type": "markdown",
   "metadata": {},
   "source": [
    "### Analyze the Retirement Portfolio Forecasts\n",
    "\n",
    "Using the current value of only the stock and bond portion of the member's portfolio and the summary statistics that you generated from the Monte Carlo simulation, answer the following question in your Jupyter notebook:\n",
    "\n",
    "-  What are the lower and upper bounds for the expected value of the portfolio with a 95% confidence interval?\n"
   ]
  },
  {
   "cell_type": "code",
   "execution_count": 35,
   "metadata": {},
   "outputs": [
    {
     "name": "stdout",
     "output_type": "stream",
     "text": [
      "The current balance of the stock and bond portion of the member's portfolio is $72179.0\n"
     ]
    }
   ],
   "source": [
    "# Print the current balance of the stock and bond portion of the members portfolio\n",
    "print(f\"The current balance of the stock and bond portion of the member's\"\n",
    "      f\" portfolio is ${total_stocks_bonds}\")\n"
   ]
  },
  {
   "cell_type": "code",
   "execution_count": 36,
   "metadata": {},
   "outputs": [
    {
     "name": "stdout",
     "output_type": "stream",
     "text": [
      "Over the next 30 years, there is a 95% chance that the stock/bond portion of the portfolio with a 60/40 weighted SPY/AGG will end within the range of $412703.59 and $6807224.78.\n"
     ]
    }
   ],
   "source": [
    "# Use the lower and upper `95%` confidence intervals to calculate the range of the possible outcomes for the current stock/bond portfolio\n",
    "ci_lower_95_30years = round(MC_60_40_table[8] * total_stocks_bonds, 2)\n",
    "ci_upper_95_30years = round(MC_60_40_table[9] * total_stocks_bonds, 2)\n",
    "\n",
    "# Print the result of your calculations\n",
    "print(f\"Over the next 30 years, there is a 95% chance that the stock/bond portion of the portfolio\"\n",
    "      f\" with a 60/40 weighted SPY/AGG will end within the range of\"\n",
    "      f\" ${ci_lower_95_30years} and ${ci_upper_95_30years}.\")\n"
   ]
  },
  {
   "cell_type": "markdown",
   "metadata": {},
   "source": [
    "### Forecast Cumulative Returns in 10 Years\n",
    "\n",
    "The CTO of the credit union is impressed with your work on these planning tools but wonders if 30 years is a long time to wait until retirement. So, your next task is to adjust the retirement portfolio and run a new Monte Carlo simulation to find out if the changes will allow members to retire earlier.\n",
    "\n",
    "For this new Monte Carlo simulation, do the following: \n",
    "\n",
    "- Forecast the cumulative returns for 10 years from now. Because of the shortened investment horizon (30 years to 10 years), the portfolio needs to invest more heavily in the riskier asset&mdash;that is, stock&mdash;to help accumulate wealth for retirement. \n",
    "\n",
    "- Adjust the weights of the retirement portfolio so that the composition for the Monte Carlo simulation consists of 20% bonds and 80% stocks. \n",
    "\n",
    "- Run the simulation over 500 samples, and use the same data that the API call to Alpaca generated.\n",
    "\n",
    "- Based on the new Monte Carlo simulation, answer the following questions in your Jupyter notebook:\n",
    "\n",
    "    - Using the current value of only the stock and bond portion of the member's portfolio and the summary statistics that you generated from the new Monte Carlo simulation, what are the lower and upper bounds for the expected value of the portfolio (with the new weights) with a 95% confidence interval?\n",
    "\n",
    "    - Will weighting the portfolio more heavily toward stocks allow the credit union members to retire after only 10 years?\n"
   ]
  },
  {
   "cell_type": "code",
   "execution_count": 37,
   "metadata": {},
   "outputs": [
    {
     "data": {
      "text/html": [
       "<div>\n",
       "<style scoped>\n",
       "    .dataframe tbody tr th:only-of-type {\n",
       "        vertical-align: middle;\n",
       "    }\n",
       "\n",
       "    .dataframe tbody tr th {\n",
       "        vertical-align: top;\n",
       "    }\n",
       "\n",
       "    .dataframe thead tr th {\n",
       "        text-align: left;\n",
       "    }\n",
       "\n",
       "    .dataframe thead tr:last-of-type th {\n",
       "        text-align: right;\n",
       "    }\n",
       "</style>\n",
       "<table border=\"1\" class=\"dataframe\">\n",
       "  <thead>\n",
       "    <tr>\n",
       "      <th></th>\n",
       "      <th colspan=\"6\" halign=\"left\">AGG</th>\n",
       "      <th colspan=\"6\" halign=\"left\">SPY</th>\n",
       "    </tr>\n",
       "    <tr>\n",
       "      <th></th>\n",
       "      <th>open</th>\n",
       "      <th>high</th>\n",
       "      <th>low</th>\n",
       "      <th>close</th>\n",
       "      <th>volume</th>\n",
       "      <th>daily_return</th>\n",
       "      <th>open</th>\n",
       "      <th>high</th>\n",
       "      <th>low</th>\n",
       "      <th>close</th>\n",
       "      <th>volume</th>\n",
       "      <th>daily_return</th>\n",
       "    </tr>\n",
       "    <tr>\n",
       "      <th>time</th>\n",
       "      <th></th>\n",
       "      <th></th>\n",
       "      <th></th>\n",
       "      <th></th>\n",
       "      <th></th>\n",
       "      <th></th>\n",
       "      <th></th>\n",
       "      <th></th>\n",
       "      <th></th>\n",
       "      <th></th>\n",
       "      <th></th>\n",
       "      <th></th>\n",
       "    </tr>\n",
       "  </thead>\n",
       "  <tbody>\n",
       "    <tr>\n",
       "      <th>2018-09-10 00:00:00-04:00</th>\n",
       "      <td>105.85</td>\n",
       "      <td>105.9500</td>\n",
       "      <td>105.85</td>\n",
       "      <td>105.93</td>\n",
       "      <td>3085654</td>\n",
       "      <td>NaN</td>\n",
       "      <td>288.76</td>\n",
       "      <td>289.0400</td>\n",
       "      <td>287.880</td>\n",
       "      <td>288.09</td>\n",
       "      <td>32357518</td>\n",
       "      <td>NaN</td>\n",
       "    </tr>\n",
       "    <tr>\n",
       "      <th>2018-09-11 00:00:00-04:00</th>\n",
       "      <td>105.78</td>\n",
       "      <td>105.8400</td>\n",
       "      <td>105.70</td>\n",
       "      <td>105.73</td>\n",
       "      <td>1943309</td>\n",
       "      <td>-0.001888</td>\n",
       "      <td>287.37</td>\n",
       "      <td>289.5500</td>\n",
       "      <td>286.975</td>\n",
       "      <td>289.11</td>\n",
       "      <td>36335994</td>\n",
       "      <td>0.003541</td>\n",
       "    </tr>\n",
       "    <tr>\n",
       "      <th>2018-09-12 00:00:00-04:00</th>\n",
       "      <td>105.81</td>\n",
       "      <td>105.8900</td>\n",
       "      <td>105.80</td>\n",
       "      <td>105.80</td>\n",
       "      <td>2083656</td>\n",
       "      <td>0.000662</td>\n",
       "      <td>289.06</td>\n",
       "      <td>289.8000</td>\n",
       "      <td>288.230</td>\n",
       "      <td>289.16</td>\n",
       "      <td>46644377</td>\n",
       "      <td>0.000173</td>\n",
       "    </tr>\n",
       "    <tr>\n",
       "      <th>2018-09-13 00:00:00-04:00</th>\n",
       "      <td>105.96</td>\n",
       "      <td>106.0000</td>\n",
       "      <td>105.85</td>\n",
       "      <td>105.88</td>\n",
       "      <td>2076503</td>\n",
       "      <td>0.000756</td>\n",
       "      <td>290.32</td>\n",
       "      <td>291.0384</td>\n",
       "      <td>289.995</td>\n",
       "      <td>290.82</td>\n",
       "      <td>38536035</td>\n",
       "      <td>0.005741</td>\n",
       "    </tr>\n",
       "    <tr>\n",
       "      <th>2018-09-14 00:00:00-04:00</th>\n",
       "      <td>105.72</td>\n",
       "      <td>105.7899</td>\n",
       "      <td>105.66</td>\n",
       "      <td>105.67</td>\n",
       "      <td>2530495</td>\n",
       "      <td>-0.001983</td>\n",
       "      <td>291.06</td>\n",
       "      <td>291.2700</td>\n",
       "      <td>290.000</td>\n",
       "      <td>290.90</td>\n",
       "      <td>37322600</td>\n",
       "      <td>0.000275</td>\n",
       "    </tr>\n",
       "  </tbody>\n",
       "</table>\n",
       "</div>"
      ],
      "text/plain": [
       "                              AGG                                     \\\n",
       "                             open      high     low   close   volume   \n",
       "time                                                                   \n",
       "2018-09-10 00:00:00-04:00  105.85  105.9500  105.85  105.93  3085654   \n",
       "2018-09-11 00:00:00-04:00  105.78  105.8400  105.70  105.73  1943309   \n",
       "2018-09-12 00:00:00-04:00  105.81  105.8900  105.80  105.80  2083656   \n",
       "2018-09-13 00:00:00-04:00  105.96  106.0000  105.85  105.88  2076503   \n",
       "2018-09-14 00:00:00-04:00  105.72  105.7899  105.66  105.67  2530495   \n",
       "\n",
       "                                           SPY                             \\\n",
       "                          daily_return    open      high      low   close   \n",
       "time                                                                        \n",
       "2018-09-10 00:00:00-04:00          NaN  288.76  289.0400  287.880  288.09   \n",
       "2018-09-11 00:00:00-04:00    -0.001888  287.37  289.5500  286.975  289.11   \n",
       "2018-09-12 00:00:00-04:00     0.000662  289.06  289.8000  288.230  289.16   \n",
       "2018-09-13 00:00:00-04:00     0.000756  290.32  291.0384  289.995  290.82   \n",
       "2018-09-14 00:00:00-04:00    -0.001983  291.06  291.2700  290.000  290.90   \n",
       "\n",
       "                                                  \n",
       "                             volume daily_return  \n",
       "time                                              \n",
       "2018-09-10 00:00:00-04:00  32357518          NaN  \n",
       "2018-09-11 00:00:00-04:00  36335994     0.003541  \n",
       "2018-09-12 00:00:00-04:00  46644377     0.000173  \n",
       "2018-09-13 00:00:00-04:00  38536035     0.005741  \n",
       "2018-09-14 00:00:00-04:00  37322600     0.000275  "
      ]
     },
     "execution_count": 37,
     "metadata": {},
     "output_type": "execute_result"
    }
   ],
   "source": [
    "# Configure a Monte Carlo simulation to forecast 10 years cumulative returns\n",
    "# The weights should be split 20% to AGG and 80% to SPY.\n",
    "# Run 500 samples.\n",
    "MC_80_20 = MCSimulation(\n",
    "    portfolio_data = price_data,\n",
    "    weights = [0.2, 0.8],\n",
    "    num_simulation = 500,\n",
    "    num_trading_days = 252*10\n",
    ")\n",
    "\n",
    "# Review the simulation input data\n",
    "MC_80_20.portfolio_data.head()\n"
   ]
  },
  {
   "cell_type": "code",
   "execution_count": 38,
   "metadata": {},
   "outputs": [
    {
     "name": "stdout",
     "output_type": "stream",
     "text": [
      "Running Monte Carlo simulation number 0.\n",
      "Running Monte Carlo simulation number 10.\n",
      "Running Monte Carlo simulation number 20.\n",
      "Running Monte Carlo simulation number 30.\n",
      "Running Monte Carlo simulation number 40.\n",
      "Running Monte Carlo simulation number 50.\n",
      "Running Monte Carlo simulation number 60.\n",
      "Running Monte Carlo simulation number 70.\n",
      "Running Monte Carlo simulation number 80.\n",
      "Running Monte Carlo simulation number 90.\n",
      "Running Monte Carlo simulation number 100.\n",
      "Running Monte Carlo simulation number 110.\n",
      "Running Monte Carlo simulation number 120.\n",
      "Running Monte Carlo simulation number 130.\n",
      "Running Monte Carlo simulation number 140.\n",
      "Running Monte Carlo simulation number 150.\n",
      "Running Monte Carlo simulation number 160.\n",
      "Running Monte Carlo simulation number 170.\n",
      "Running Monte Carlo simulation number 180.\n",
      "Running Monte Carlo simulation number 190.\n",
      "Running Monte Carlo simulation number 200.\n",
      "Running Monte Carlo simulation number 210.\n",
      "Running Monte Carlo simulation number 220.\n",
      "Running Monte Carlo simulation number 230.\n",
      "Running Monte Carlo simulation number 240.\n",
      "Running Monte Carlo simulation number 250.\n",
      "Running Monte Carlo simulation number 260.\n",
      "Running Monte Carlo simulation number 270.\n",
      "Running Monte Carlo simulation number 280.\n",
      "Running Monte Carlo simulation number 290.\n",
      "Running Monte Carlo simulation number 300.\n",
      "Running Monte Carlo simulation number 310.\n",
      "Running Monte Carlo simulation number 320.\n",
      "Running Monte Carlo simulation number 330.\n",
      "Running Monte Carlo simulation number 340.\n",
      "Running Monte Carlo simulation number 350.\n",
      "Running Monte Carlo simulation number 360.\n",
      "Running Monte Carlo simulation number 370.\n",
      "Running Monte Carlo simulation number 380.\n",
      "Running Monte Carlo simulation number 390.\n",
      "Running Monte Carlo simulation number 400.\n",
      "Running Monte Carlo simulation number 410.\n",
      "Running Monte Carlo simulation number 420.\n",
      "Running Monte Carlo simulation number 430.\n",
      "Running Monte Carlo simulation number 440.\n",
      "Running Monte Carlo simulation number 450.\n",
      "Running Monte Carlo simulation number 460.\n",
      "Running Monte Carlo simulation number 470.\n",
      "Running Monte Carlo simulation number 480.\n",
      "Running Monte Carlo simulation number 490.\n"
     ]
    },
    {
     "data": {
      "text/html": [
       "<div>\n",
       "<style scoped>\n",
       "    .dataframe tbody tr th:only-of-type {\n",
       "        vertical-align: middle;\n",
       "    }\n",
       "\n",
       "    .dataframe tbody tr th {\n",
       "        vertical-align: top;\n",
       "    }\n",
       "\n",
       "    .dataframe thead th {\n",
       "        text-align: right;\n",
       "    }\n",
       "</style>\n",
       "<table border=\"1\" class=\"dataframe\">\n",
       "  <thead>\n",
       "    <tr style=\"text-align: right;\">\n",
       "      <th></th>\n",
       "      <th>0</th>\n",
       "      <th>1</th>\n",
       "      <th>2</th>\n",
       "      <th>3</th>\n",
       "      <th>4</th>\n",
       "      <th>5</th>\n",
       "      <th>6</th>\n",
       "      <th>7</th>\n",
       "      <th>8</th>\n",
       "      <th>9</th>\n",
       "      <th>...</th>\n",
       "      <th>490</th>\n",
       "      <th>491</th>\n",
       "      <th>492</th>\n",
       "      <th>493</th>\n",
       "      <th>494</th>\n",
       "      <th>495</th>\n",
       "      <th>496</th>\n",
       "      <th>497</th>\n",
       "      <th>498</th>\n",
       "      <th>499</th>\n",
       "    </tr>\n",
       "  </thead>\n",
       "  <tbody>\n",
       "    <tr>\n",
       "      <th>0</th>\n",
       "      <td>1.000000</td>\n",
       "      <td>1.000000</td>\n",
       "      <td>1.000000</td>\n",
       "      <td>1.000000</td>\n",
       "      <td>1.000000</td>\n",
       "      <td>1.000000</td>\n",
       "      <td>1.000000</td>\n",
       "      <td>1.000000</td>\n",
       "      <td>1.000000</td>\n",
       "      <td>1.000000</td>\n",
       "      <td>...</td>\n",
       "      <td>1.000000</td>\n",
       "      <td>1.000000</td>\n",
       "      <td>1.000000</td>\n",
       "      <td>1.000000</td>\n",
       "      <td>1.000000</td>\n",
       "      <td>1.000000</td>\n",
       "      <td>1.000000</td>\n",
       "      <td>1.000000</td>\n",
       "      <td>1.000000</td>\n",
       "      <td>1.000000</td>\n",
       "    </tr>\n",
       "    <tr>\n",
       "      <th>1</th>\n",
       "      <td>1.001317</td>\n",
       "      <td>1.016653</td>\n",
       "      <td>1.005443</td>\n",
       "      <td>0.998128</td>\n",
       "      <td>0.995517</td>\n",
       "      <td>1.015375</td>\n",
       "      <td>0.989728</td>\n",
       "      <td>1.008273</td>\n",
       "      <td>0.986498</td>\n",
       "      <td>1.006140</td>\n",
       "      <td>...</td>\n",
       "      <td>1.019303</td>\n",
       "      <td>1.011349</td>\n",
       "      <td>0.997713</td>\n",
       "      <td>1.017319</td>\n",
       "      <td>1.009423</td>\n",
       "      <td>1.003813</td>\n",
       "      <td>1.012873</td>\n",
       "      <td>0.967498</td>\n",
       "      <td>0.999284</td>\n",
       "      <td>0.982880</td>\n",
       "    </tr>\n",
       "    <tr>\n",
       "      <th>2</th>\n",
       "      <td>0.995919</td>\n",
       "      <td>1.027341</td>\n",
       "      <td>1.009966</td>\n",
       "      <td>1.006810</td>\n",
       "      <td>1.000112</td>\n",
       "      <td>1.003721</td>\n",
       "      <td>1.010011</td>\n",
       "      <td>1.015811</td>\n",
       "      <td>0.989521</td>\n",
       "      <td>1.030106</td>\n",
       "      <td>...</td>\n",
       "      <td>1.003905</td>\n",
       "      <td>1.016660</td>\n",
       "      <td>0.993112</td>\n",
       "      <td>1.013856</td>\n",
       "      <td>1.015120</td>\n",
       "      <td>1.001005</td>\n",
       "      <td>1.018266</td>\n",
       "      <td>0.970178</td>\n",
       "      <td>1.001899</td>\n",
       "      <td>0.979994</td>\n",
       "    </tr>\n",
       "    <tr>\n",
       "      <th>3</th>\n",
       "      <td>0.995524</td>\n",
       "      <td>1.020415</td>\n",
       "      <td>1.011053</td>\n",
       "      <td>1.017579</td>\n",
       "      <td>0.993358</td>\n",
       "      <td>1.002769</td>\n",
       "      <td>1.004215</td>\n",
       "      <td>1.021811</td>\n",
       "      <td>0.996727</td>\n",
       "      <td>1.023115</td>\n",
       "      <td>...</td>\n",
       "      <td>0.992806</td>\n",
       "      <td>1.000610</td>\n",
       "      <td>0.994452</td>\n",
       "      <td>1.021012</td>\n",
       "      <td>1.020803</td>\n",
       "      <td>1.006759</td>\n",
       "      <td>1.012777</td>\n",
       "      <td>0.953742</td>\n",
       "      <td>0.987836</td>\n",
       "      <td>0.999176</td>\n",
       "    </tr>\n",
       "    <tr>\n",
       "      <th>4</th>\n",
       "      <td>1.017133</td>\n",
       "      <td>1.029349</td>\n",
       "      <td>1.012387</td>\n",
       "      <td>1.032632</td>\n",
       "      <td>0.999952</td>\n",
       "      <td>1.006262</td>\n",
       "      <td>0.989136</td>\n",
       "      <td>1.011334</td>\n",
       "      <td>0.998829</td>\n",
       "      <td>1.034376</td>\n",
       "      <td>...</td>\n",
       "      <td>0.975641</td>\n",
       "      <td>1.012998</td>\n",
       "      <td>0.993273</td>\n",
       "      <td>1.021953</td>\n",
       "      <td>1.037767</td>\n",
       "      <td>1.021780</td>\n",
       "      <td>1.016928</td>\n",
       "      <td>0.954770</td>\n",
       "      <td>0.996639</td>\n",
       "      <td>1.000411</td>\n",
       "    </tr>\n",
       "    <tr>\n",
       "      <th>...</th>\n",
       "      <td>...</td>\n",
       "      <td>...</td>\n",
       "      <td>...</td>\n",
       "      <td>...</td>\n",
       "      <td>...</td>\n",
       "      <td>...</td>\n",
       "      <td>...</td>\n",
       "      <td>...</td>\n",
       "      <td>...</td>\n",
       "      <td>...</td>\n",
       "      <td>...</td>\n",
       "      <td>...</td>\n",
       "      <td>...</td>\n",
       "      <td>...</td>\n",
       "      <td>...</td>\n",
       "      <td>...</td>\n",
       "      <td>...</td>\n",
       "      <td>...</td>\n",
       "      <td>...</td>\n",
       "      <td>...</td>\n",
       "      <td>...</td>\n",
       "    </tr>\n",
       "    <tr>\n",
       "      <th>2516</th>\n",
       "      <td>7.869008</td>\n",
       "      <td>5.165280</td>\n",
       "      <td>5.090543</td>\n",
       "      <td>2.086124</td>\n",
       "      <td>5.400729</td>\n",
       "      <td>1.857223</td>\n",
       "      <td>7.139045</td>\n",
       "      <td>2.260202</td>\n",
       "      <td>8.215744</td>\n",
       "      <td>3.538380</td>\n",
       "      <td>...</td>\n",
       "      <td>6.369823</td>\n",
       "      <td>1.459537</td>\n",
       "      <td>4.208145</td>\n",
       "      <td>5.099955</td>\n",
       "      <td>1.880417</td>\n",
       "      <td>14.699557</td>\n",
       "      <td>3.634386</td>\n",
       "      <td>3.145340</td>\n",
       "      <td>9.053504</td>\n",
       "      <td>5.446715</td>\n",
       "    </tr>\n",
       "    <tr>\n",
       "      <th>2517</th>\n",
       "      <td>7.790647</td>\n",
       "      <td>5.129063</td>\n",
       "      <td>5.035676</td>\n",
       "      <td>2.103955</td>\n",
       "      <td>5.431975</td>\n",
       "      <td>1.861667</td>\n",
       "      <td>7.025448</td>\n",
       "      <td>2.253063</td>\n",
       "      <td>8.176611</td>\n",
       "      <td>3.588910</td>\n",
       "      <td>...</td>\n",
       "      <td>6.325649</td>\n",
       "      <td>1.431896</td>\n",
       "      <td>4.143320</td>\n",
       "      <td>5.038139</td>\n",
       "      <td>1.878948</td>\n",
       "      <td>14.576186</td>\n",
       "      <td>3.591922</td>\n",
       "      <td>3.098114</td>\n",
       "      <td>9.041902</td>\n",
       "      <td>5.456471</td>\n",
       "    </tr>\n",
       "    <tr>\n",
       "      <th>2518</th>\n",
       "      <td>7.816260</td>\n",
       "      <td>5.141718</td>\n",
       "      <td>5.156600</td>\n",
       "      <td>2.103761</td>\n",
       "      <td>5.533454</td>\n",
       "      <td>1.845347</td>\n",
       "      <td>7.020712</td>\n",
       "      <td>2.200852</td>\n",
       "      <td>8.293594</td>\n",
       "      <td>3.581908</td>\n",
       "      <td>...</td>\n",
       "      <td>6.438221</td>\n",
       "      <td>1.438399</td>\n",
       "      <td>4.157208</td>\n",
       "      <td>5.075130</td>\n",
       "      <td>1.905023</td>\n",
       "      <td>14.658070</td>\n",
       "      <td>3.529573</td>\n",
       "      <td>3.128579</td>\n",
       "      <td>9.066816</td>\n",
       "      <td>5.369359</td>\n",
       "    </tr>\n",
       "    <tr>\n",
       "      <th>2519</th>\n",
       "      <td>7.882611</td>\n",
       "      <td>5.207306</td>\n",
       "      <td>5.044708</td>\n",
       "      <td>2.131827</td>\n",
       "      <td>5.602948</td>\n",
       "      <td>1.852576</td>\n",
       "      <td>7.016577</td>\n",
       "      <td>2.234726</td>\n",
       "      <td>8.280891</td>\n",
       "      <td>3.582518</td>\n",
       "      <td>...</td>\n",
       "      <td>6.455863</td>\n",
       "      <td>1.416322</td>\n",
       "      <td>4.185969</td>\n",
       "      <td>5.006082</td>\n",
       "      <td>1.881890</td>\n",
       "      <td>14.375984</td>\n",
       "      <td>3.495260</td>\n",
       "      <td>3.153546</td>\n",
       "      <td>9.021911</td>\n",
       "      <td>5.403218</td>\n",
       "    </tr>\n",
       "    <tr>\n",
       "      <th>2520</th>\n",
       "      <td>7.965960</td>\n",
       "      <td>5.159888</td>\n",
       "      <td>4.994056</td>\n",
       "      <td>2.129825</td>\n",
       "      <td>5.562084</td>\n",
       "      <td>1.853502</td>\n",
       "      <td>6.973494</td>\n",
       "      <td>2.280917</td>\n",
       "      <td>8.355770</td>\n",
       "      <td>3.588978</td>\n",
       "      <td>...</td>\n",
       "      <td>6.547771</td>\n",
       "      <td>1.395756</td>\n",
       "      <td>4.190487</td>\n",
       "      <td>5.062271</td>\n",
       "      <td>1.882094</td>\n",
       "      <td>14.526069</td>\n",
       "      <td>3.412792</td>\n",
       "      <td>3.165129</td>\n",
       "      <td>9.180543</td>\n",
       "      <td>5.376222</td>\n",
       "    </tr>\n",
       "  </tbody>\n",
       "</table>\n",
       "<p>2521 rows × 500 columns</p>\n",
       "</div>"
      ],
      "text/plain": [
       "           0         1         2         3         4         5         6    \\\n",
       "0     1.000000  1.000000  1.000000  1.000000  1.000000  1.000000  1.000000   \n",
       "1     1.001317  1.016653  1.005443  0.998128  0.995517  1.015375  0.989728   \n",
       "2     0.995919  1.027341  1.009966  1.006810  1.000112  1.003721  1.010011   \n",
       "3     0.995524  1.020415  1.011053  1.017579  0.993358  1.002769  1.004215   \n",
       "4     1.017133  1.029349  1.012387  1.032632  0.999952  1.006262  0.989136   \n",
       "...        ...       ...       ...       ...       ...       ...       ...   \n",
       "2516  7.869008  5.165280  5.090543  2.086124  5.400729  1.857223  7.139045   \n",
       "2517  7.790647  5.129063  5.035676  2.103955  5.431975  1.861667  7.025448   \n",
       "2518  7.816260  5.141718  5.156600  2.103761  5.533454  1.845347  7.020712   \n",
       "2519  7.882611  5.207306  5.044708  2.131827  5.602948  1.852576  7.016577   \n",
       "2520  7.965960  5.159888  4.994056  2.129825  5.562084  1.853502  6.973494   \n",
       "\n",
       "           7         8         9    ...       490       491       492  \\\n",
       "0     1.000000  1.000000  1.000000  ...  1.000000  1.000000  1.000000   \n",
       "1     1.008273  0.986498  1.006140  ...  1.019303  1.011349  0.997713   \n",
       "2     1.015811  0.989521  1.030106  ...  1.003905  1.016660  0.993112   \n",
       "3     1.021811  0.996727  1.023115  ...  0.992806  1.000610  0.994452   \n",
       "4     1.011334  0.998829  1.034376  ...  0.975641  1.012998  0.993273   \n",
       "...        ...       ...       ...  ...       ...       ...       ...   \n",
       "2516  2.260202  8.215744  3.538380  ...  6.369823  1.459537  4.208145   \n",
       "2517  2.253063  8.176611  3.588910  ...  6.325649  1.431896  4.143320   \n",
       "2518  2.200852  8.293594  3.581908  ...  6.438221  1.438399  4.157208   \n",
       "2519  2.234726  8.280891  3.582518  ...  6.455863  1.416322  4.185969   \n",
       "2520  2.280917  8.355770  3.588978  ...  6.547771  1.395756  4.190487   \n",
       "\n",
       "           493       494        495       496       497       498       499  \n",
       "0     1.000000  1.000000   1.000000  1.000000  1.000000  1.000000  1.000000  \n",
       "1     1.017319  1.009423   1.003813  1.012873  0.967498  0.999284  0.982880  \n",
       "2     1.013856  1.015120   1.001005  1.018266  0.970178  1.001899  0.979994  \n",
       "3     1.021012  1.020803   1.006759  1.012777  0.953742  0.987836  0.999176  \n",
       "4     1.021953  1.037767   1.021780  1.016928  0.954770  0.996639  1.000411  \n",
       "...        ...       ...        ...       ...       ...       ...       ...  \n",
       "2516  5.099955  1.880417  14.699557  3.634386  3.145340  9.053504  5.446715  \n",
       "2517  5.038139  1.878948  14.576186  3.591922  3.098114  9.041902  5.456471  \n",
       "2518  5.075130  1.905023  14.658070  3.529573  3.128579  9.066816  5.369359  \n",
       "2519  5.006082  1.881890  14.375984  3.495260  3.153546  9.021911  5.403218  \n",
       "2520  5.062271  1.882094  14.526069  3.412792  3.165129  9.180543  5.376222  \n",
       "\n",
       "[2521 rows x 500 columns]"
      ]
     },
     "execution_count": 38,
     "metadata": {},
     "output_type": "execute_result"
    }
   ],
   "source": [
    "# Run the Monte Carlo simulation to forecast 10 years cumulative returns\n",
    "MC_80_20.calc_cumulative_return()\n"
   ]
  },
  {
   "cell_type": "code",
   "execution_count": 39,
   "metadata": {},
   "outputs": [
    {
     "data": {
      "image/png": "[encoded data removed]",
      "text/plain": [
       "<Figure size 432x288 with 1 Axes>"
      ]
     },
     "metadata": {
      "needs_background": "light"
     },
     "output_type": "display_data"
    }
   ],
   "source": [
    "# Visualize the 10-year Monte Carlo simulation by creating an\n",
    "# overlay line plot\n",
    "MC_80_20_line_plot = MC_80_20.plot_simulation()\n"
   ]
  },
  {
   "cell_type": "code",
   "execution_count": 40,
   "metadata": {},
   "outputs": [
    {
     "data": {
      "image/png": "[encoded data removed]",
      "text/plain": [
       "<Figure size 432x288 with 1 Axes>"
      ]
     },
     "metadata": {
      "needs_background": "light"
     },
     "output_type": "display_data"
    }
   ],
   "source": [
    "# Visualize the probability distribution of the 10-year Monte Carlo simulation \n",
    "# by plotting a histogram\n",
    "MC_80_20_distribution_plot = MC_80_20.plot_distribution()\n"
   ]
  },
  {
   "cell_type": "code",
   "execution_count": 41,
   "metadata": {},
   "outputs": [
    {
     "data": {
      "text/plain": [
       "count           500.000000\n",
       "mean              4.213230\n",
       "std               2.627760\n",
       "min               0.626279\n",
       "25%               2.478875\n",
       "50%               3.580802\n",
       "75%               5.248756\n",
       "max              20.951108\n",
       "95% CI Lower      1.330595\n",
       "95% CI Upper     10.414945\n",
       "Name: 2520, dtype: float64"
      ]
     },
     "execution_count": 41,
     "metadata": {},
     "output_type": "execute_result"
    }
   ],
   "source": [
    "# Generate summary statistics from the 10-year Monte Carlo simulation results\n",
    "# Save the results as a variable\n",
    "MC_80_20_table = MC_80_20.summarize_cumulative_return()\n",
    "\n",
    "\n",
    "# Review the 10-year Monte Carlo summary statistics\n",
    "MC_80_20_table"
   ]
  },
  {
   "cell_type": "markdown",
   "metadata": {},
   "source": [
    "### Answer the following questions:"
   ]
  },
  {
   "cell_type": "markdown",
   "metadata": {},
   "source": [
    "#### Question: Using the current value of only the stock and bond portion of the member's portfolio and the summary statistics that you generated from the new Monte Carlo simulation, what are the lower and upper bounds for the expected value of the portfolio (with the new weights) with a 95% confidence interval?"
   ]
  },
  {
   "cell_type": "code",
   "execution_count": 42,
   "metadata": {},
   "outputs": [
    {
     "name": "stdout",
     "output_type": "stream",
     "text": [
      "The current balance of the stock and bond portion of the member's portfolio is $72179.0\n"
     ]
    }
   ],
   "source": [
    "# Print the current balance of the stock and bond portion of the members portfolio\n",
    "print(f\"The current balance of the stock and bond portion of the member's\"\n",
    "      f\" portfolio is ${total_stocks_bonds}\")\n"
   ]
  },
  {
   "cell_type": "code",
   "execution_count": 43,
   "metadata": {},
   "outputs": [
    {
     "name": "stdout",
     "output_type": "stream",
     "text": [
      "Over the next 10 years, there is a 95% chance that the stock/bond portion of the portfolio with a 80/20 weighted SPY/AGG will end within the range of $96041.0 and $751740.29.\n"
     ]
    }
   ],
   "source": [
    "# Use the lower and upper `95%` confidence intervals to calculate the range of the possible outcomes for the current stock/bond portfolio\n",
    "ci_lower_95_10years = round(MC_80_20_table[8] * total_stocks_bonds, 2)\n",
    "ci_upper_95_10years = round(MC_80_20_table[9] * total_stocks_bonds, 2)\n",
    "\n",
    "# Print the result of your calculations\n",
    "print(f\"Over the next 10 years, there is a 95% chance that the stock/bond portion of the portfolio\"\n",
    "      f\" with a 80/20 weighted SPY/AGG will end within the range of\"\n",
    "      f\" ${ci_lower_95_10years} and ${ci_upper_95_10years}.\")\n"
   ]
  },
  {
   "cell_type": "markdown",
   "metadata": {},
   "source": [
    "#### Question: Will weighting the portfolio more heavily to stocks allow the credit union members to retire after only 10 years?"
   ]
  },
  {
   "cell_type": "markdown",
   "metadata": {},
   "source": [
    "**Answer** \n",
    "\n",
    "`A \"sufficient\" retirement portfolio will differ depending on many factors, including a person's age, spending habits, debts, etc., so there's no definite answer. However, the 10 year estimated returns seem a bit low for the average retirment lifestyle. A more agressive portfolio (80/20 - stocks/bonds) can increase the growth rate from a traditional 60/40 portfolio, but it can also expose you to more risk. This was shown by the minimum returns in each simulation: the 10-year saw a negative return (0.63 x original investment) compared to the 30-year which saw a positive return (3.31 x original investment). It seems that the 10-year 80/20 portfolio did not produce a high enough return for most people to be comfortable in retirement. This shows that the amount of time in the market really matters, and with more time there is more opportunity for compounding growth while maintaining a less risky portfolio composition. After 30 years in a 60/40 portfolio, the maximum return could be as great as 6.8 million dollars!`"
   ]
  },
  {
   "cell_type": "code",
   "execution_count": null,
   "metadata": {},
   "outputs": [],
   "source": []
  }
 ],
 "metadata": {
  "kernelspec": {
   "display_name": "dev",
   "language": "python",
   "name": "dev"
  },
  "language_info": {
   "codemirror_mode": {
    "name": "ipython",
    "version": 3
   },
   "file_extension": ".py",
   "mimetype": "text/x-python",
   "name": "python",
   "nbconvert_exporter": "python",
   "pygments_lexer": "ipython3",
   "version": "3.7.10"
  }
 },
 "nbformat": 4,
 "nbformat_minor": 4
}
