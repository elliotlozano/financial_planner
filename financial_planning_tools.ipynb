{
 "cells": [
  {
   "cell_type": "markdown",
   "metadata": {},
   "source": [
    "# Financial Planning with APIs and Simulations\n",
    "\n",
    "In this Challenge, you’ll create two financial analysis tools by using a single Jupyter notebook:\n",
    "\n",
    "Part 1: A financial planner for emergencies. The members will be able to use this tool to visualize their current savings. The members can then determine if they have enough reserves for an emergency fund.\n",
    "\n",
    "Part 2: A financial planner for retirement. This tool will forecast the performance of their retirement portfolio in 30 years. To do this, the tool will make an Alpaca API call via the Alpaca SDK to get historical price data for use in Monte Carlo simulations.\n",
    "\n",
    "You’ll use the information from the Monte Carlo simulation to answer questions about the portfolio in your Jupyter notebook.\n",
    "\n"
   ]
  },
  {
   "cell_type": "code",
   "execution_count": 1,
   "metadata": {},
   "outputs": [],
   "source": [
    "# Import the required libraries and dependencies\n",
    "import os\n",
    "import requests\n",
    "import json\n",
    "import pandas as pd\n",
    "from dotenv import load_dotenv\n",
    "import alpaca_trade_api as tradeapi\n",
    "from MCForecastTools import MCSimulation\n",
    "\n",
    "%matplotlib inline"
   ]
  },
  {
   "cell_type": "code",
   "execution_count": 2,
   "metadata": {},
   "outputs": [
    {
     "data": {
      "text/plain": [
       "True"
      ]
     },
     "execution_count": 2,
     "metadata": {},
     "output_type": "execute_result"
    }
   ],
   "source": [
    "# Load the environment variables from the .env file\n",
    "#by calling the load_dotenv function\n",
    "load_dotenv()"
   ]
  },
  {
   "cell_type": "markdown",
   "metadata": {},
   "source": [
    "## Part 1: Create a Financial Planner for Emergencies"
   ]
  },
  {
   "cell_type": "markdown",
   "metadata": {},
   "source": [
    "### Evaluate the Cryptocurrency Wallet by Using the Requests Library\n",
    "\n",
    "In this section, you’ll determine the current value of a member’s cryptocurrency wallet. You’ll collect the current prices for the Bitcoin and Ethereum cryptocurrencies by using the Python Requests library. For the prototype, you’ll assume that the member holds the 1.2 Bitcoins (BTC) and 5.3 Ethereum coins (ETH). To do all this, complete the following steps:\n",
    "\n",
    "1. Create a variable named `monthly_income`, and set its value to `12000`.\n",
    "\n",
    "2. Use the Requests library to get the current price (in US dollars) of Bitcoin (BTC) and Ethereum (ETH) by using the API endpoints that the starter code supplies.\n",
    "\n",
    "3. Navigate the JSON response object to access the current price of each coin, and store each in a variable.\n",
    "\n",
    "    > **Hint** Note the specific identifier for each cryptocurrency in the API JSON response. The Bitcoin identifier is `1`, and the Ethereum identifier is `1027`.\n",
    "\n",
    "4. Calculate the value, in US dollars, of the current amount of each cryptocurrency and of the entire cryptocurrency wallet.\n",
    "\n"
   ]
  },
  {
   "cell_type": "code",
   "execution_count": 3,
   "metadata": {},
   "outputs": [],
   "source": [
    "# The current number of coins for each cryptocurrency asset held in the portfolio.\n",
    "btc_coins = 1.2\n",
    "eth_coins = 5.3"
   ]
  },
  {
   "cell_type": "markdown",
   "metadata": {},
   "source": [
    "#### Step 1: Create a variable named `monthly_income`, and set its value to `12000`."
   ]
  },
  {
   "cell_type": "code",
   "execution_count": 4,
   "metadata": {},
   "outputs": [],
   "source": [
    "# The monthly amount for the member's household income\n",
    "monthly_income = 12000\n"
   ]
  },
  {
   "cell_type": "markdown",
   "metadata": {},
   "source": [
    "#### Review the endpoint URLs for the API calls to Free Crypto API in order to get the current pricing information for both BTC and ETH."
   ]
  },
  {
   "cell_type": "code",
   "execution_count": 5,
   "metadata": {},
   "outputs": [],
   "source": [
    "# The Free Crypto API Call endpoint URLs for the held cryptocurrency assets\n",
    "btc_url = \"https://api.alternative.me/v2/ticker/Bitcoin/?convert=USD\"\n",
    "eth_url = \"https://api.alternative.me/v2/ticker/Ethereum/?convert=USD\""
   ]
  },
  {
   "cell_type": "markdown",
   "metadata": {},
   "source": [
    "#### Step 2. Use the Requests library to get the current price (in US dollars) of Bitcoin (BTC) and Ethereum (ETH) by using the API endpoints that the starter code supplied."
   ]
  },
  {
   "cell_type": "code",
   "execution_count": 6,
   "metadata": {},
   "outputs": [
    {
     "name": "stdout",
     "output_type": "stream",
     "text": [
      "{\n",
      "     \"data\": {\n",
      "          \"1\": {\n",
      "               \"circulating_supply\": 18818837,\n",
      "               \"id\": 1,\n",
      "               \"last_updated\": 1631926197,\n",
      "               \"max_supply\": 21000000,\n",
      "               \"name\": \"Bitcoin\",\n",
      "               \"quotes\": {\n",
      "                    \"USD\": {\n",
      "                         \"market_cap\": 891639138876,\n",
      "                         \"percent_change_1h\": 0.155133317207679,\n",
      "                         \"percent_change_24h\": -0.997366691831423,\n",
      "                         \"percent_change_7d\": 5.57851294508573,\n",
      "                         \"percentage_change_1h\": 0.155133317207679,\n",
      "                         \"percentage_change_24h\": -0.997366691831423,\n",
      "                         \"percentage_change_7d\": 5.57851294508573,\n",
      "                         \"price\": 47302.0,\n",
      "                         \"volume_24h\": 28115408543\n",
      "                    }\n",
      "               },\n",
      "               \"rank\": 1,\n",
      "               \"symbol\": \"BTC\",\n",
      "               \"total_supply\": 18818837,\n",
      "               \"website_slug\": \"bitcoin\"\n",
      "          }\n",
      "     },\n",
      "     \"metadata\": {\n",
      "          \"error\": null,\n",
      "          \"num_cryptocurrencies\": 3105,\n",
      "          \"timestamp\": 1631926197\n",
      "     }\n",
      "}\n"
     ]
    }
   ],
   "source": [
    "# Using the Python requests library, make an API call to access the current price of BTC\n",
    "btc_response = requests.get(btc_url).json()\n",
    "\n",
    "# Use the json.dumps function to review the response data from the API call\n",
    "# Use the indent and sort_keys parameters to make the response object readable\n",
    "print(json.dumps(btc_response, indent=5, sort_keys=True))\n"
   ]
  },
  {
   "cell_type": "code",
   "execution_count": 7,
   "metadata": {},
   "outputs": [
    {
     "name": "stdout",
     "output_type": "stream",
     "text": [
      "{\n",
      "     \"data\": {\n",
      "          \"1027\": {\n",
      "               \"circulating_supply\": 117567508,\n",
      "               \"id\": 1027,\n",
      "               \"last_updated\": 1631926163,\n",
      "               \"max_supply\": 0,\n",
      "               \"name\": \"Ethereum\",\n",
      "               \"quotes\": {\n",
      "                    \"USD\": {\n",
      "                         \"market_cap\": 399110471124,\n",
      "                         \"percent_change_1h\": -0.751586760247986,\n",
      "                         \"percent_change_24h\": -4.96136022517911,\n",
      "                         \"percent_change_7d\": 5.53393727915332,\n",
      "                         \"percentage_change_1h\": -0.751586760247986,\n",
      "                         \"percentage_change_24h\": -4.96136022517911,\n",
      "                         \"percentage_change_7d\": 5.53393727915332,\n",
      "                         \"price\": 3387.55,\n",
      "                         \"volume_24h\": 18751373511\n",
      "                    }\n",
      "               },\n",
      "               \"rank\": 2,\n",
      "               \"symbol\": \"ETH\",\n",
      "               \"total_supply\": 117567508,\n",
      "               \"website_slug\": \"ethereum\"\n",
      "          }\n",
      "     },\n",
      "     \"metadata\": {\n",
      "          \"error\": null,\n",
      "          \"num_cryptocurrencies\": 3105,\n",
      "          \"timestamp\": 1631926163\n",
      "     }\n",
      "}\n"
     ]
    }
   ],
   "source": [
    "# Using the Python requests library, make an API call to access the current price ETH\n",
    "eth_response = requests.get(eth_url).json()\n",
    "\n",
    "# Use the json.dumps function to review the response data from the API call\n",
    "# Use the indent and sort_keys parameters to make the response object readable\n",
    "print(json.dumps(eth_response, indent=5, sort_keys=True))\n"
   ]
  },
  {
   "cell_type": "markdown",
   "metadata": {},
   "source": [
    "#### Step 3: Navigate the JSON response object to access the current price of each coin, and store each in a variable."
   ]
  },
  {
   "cell_type": "code",
   "execution_count": 8,
   "metadata": {},
   "outputs": [
    {
     "name": "stdout",
     "output_type": "stream",
     "text": [
      "The current price of Bitcoin is $47302.0\n"
     ]
    }
   ],
   "source": [
    "# Navigate the BTC response object to access the current price of BTC\n",
    "btc_price = btc_response[\"data\"][\"1\"][\"quotes\"][\"USD\"][\"price\"]\n",
    "\n",
    "# Print the current price of BTC\n",
    "print(f\"The current price of Bitcoin is ${btc_price}\")\n"
   ]
  },
  {
   "cell_type": "code",
   "execution_count": 9,
   "metadata": {},
   "outputs": [
    {
     "name": "stdout",
     "output_type": "stream",
     "text": [
      "The current price of Ethereum is $3387.55\n"
     ]
    }
   ],
   "source": [
    "# Navigate the BTC response object to access the current price of ETH\n",
    "eth_price = eth_response[\"data\"][\"1027\"][\"quotes\"][\"USD\"][\"price\"]\n",
    "\n",
    "# Print the current price of ETH\n",
    "print(f\"The current price of Ethereum is ${eth_price}\")\n"
   ]
  },
  {
   "cell_type": "markdown",
   "metadata": {},
   "source": [
    "### Step 4: Calculate the value, in US dollars, of the current amount of each cryptocurrency and of the entire cryptocurrency wallet."
   ]
  },
  {
   "cell_type": "code",
   "execution_count": 10,
   "metadata": {},
   "outputs": [
    {
     "name": "stdout",
     "output_type": "stream",
     "text": [
      "The current value of BTC holdings is $56762.4\n"
     ]
    }
   ],
   "source": [
    "# Compute the current value of the BTC holding \n",
    "btc_value = btc_price * btc_coins\n",
    "\n",
    "# Print current value of your holding in BTC\n",
    "print(f\"The current value of BTC holdings is ${btc_value}\")\n"
   ]
  },
  {
   "cell_type": "code",
   "execution_count": 11,
   "metadata": {},
   "outputs": [
    {
     "name": "stdout",
     "output_type": "stream",
     "text": [
      "The current value of ETH holdings is $17954.015\n"
     ]
    }
   ],
   "source": [
    "# Compute the current value of the ETH holding \n",
    "eth_value = eth_price * eth_coins\n",
    "\n",
    "# Print current value of your holding in ETH\n",
    "print(f\"The current value of ETH holdings is ${eth_value}\")\n"
   ]
  },
  {
   "cell_type": "code",
   "execution_count": 12,
   "metadata": {},
   "outputs": [
    {
     "name": "stdout",
     "output_type": "stream",
     "text": [
      "The curent value of the cryptocurrency wallet is $74716.41500000001\n"
     ]
    }
   ],
   "source": [
    "# Compute the total value of the cryptocurrency wallet\n",
    "# Add the value of the BTC holding to the value of the ETH holding\n",
    "total_crypto_wallet = btc_value + eth_value\n",
    "\n",
    "# Print current cryptocurrency wallet balance\n",
    "print(f\"The curent value of the cryptocurrency wallet is ${total_crypto_wallet}\")\n"
   ]
  },
  {
   "cell_type": "markdown",
   "metadata": {},
   "source": [
    "### Evaluate the Stock and Bond Holdings by Using the Alpaca SDK\n",
    "\n",
    "In this section, you’ll determine the current value of a member’s stock and bond holdings. You’ll make an API call to Alpaca via the Alpaca SDK to get the current closing prices of the SPDR S&P 500 ETF Trust (ticker: SPY) and of the iShares Core US Aggregate Bond ETF (ticker: AGG). For the prototype, assume that the member holds 110 shares of SPY, which represents the stock portion of their portfolio, and 200 shares of AGG, which represents the bond portion. To do all this, complete the following steps:\n",
    "\n",
    "1. In the `Starter_Code` folder, create an environment file (`.env`) to store the values of your Alpaca API key and Alpaca secret key.\n",
    "\n",
    "2. Set the variables for the Alpaca API and secret keys. Using the Alpaca SDK, create the Alpaca `tradeapi.REST` object. In this object, include the parameters for the Alpaca API key, the secret key, and the version number.\n",
    "\n",
    "3. Set the following parameters for the Alpaca API call:\n",
    "\n",
    "    - `tickers`: Use the tickers for the member’s stock and bond holdings.\n",
    "\n",
    "    - `timeframe`: Use a time frame of one day.\n",
    "\n",
    "    - `start_date` and `end_date`: Use the same date for these parameters, and format them with the date of the previous weekday (or `2020-08-07`). This is because you want the one closing price for the most-recent trading day.\n",
    "\n",
    "4. Get the current closing prices for `SPY` and `AGG` by using the Alpaca `get_barset` function. Format the response as a Pandas DataFrame by including the `df` property at the end of the `get_barset` function.\n",
    "\n",
    "5. Navigating the Alpaca response DataFrame, select the `SPY` and `AGG` closing prices, and store them as variables.\n",
    "\n",
    "6. Calculate the value, in US dollars, of the current amount of shares in each of the stock and bond portions of the portfolio, and print the results.\n"
   ]
  },
  {
   "cell_type": "markdown",
   "metadata": {},
   "source": [
    "#### Review the total number of shares held in both (SPY) and (AGG)."
   ]
  },
  {
   "cell_type": "code",
   "execution_count": 13,
   "metadata": {},
   "outputs": [],
   "source": [
    "# Current amount of shares held in both the stock (SPY) and bond (AGG) portion of the portfolio.\n",
    "spy_shares = 110\n",
    "agg_shares = 200\n"
   ]
  },
  {
   "cell_type": "markdown",
   "metadata": {},
   "source": [
    "#### Step 1: In the `Starter_Code` folder, create an environment file (`.env`) to store the values of your Alpaca API key and Alpaca secret key."
   ]
  },
  {
   "cell_type": "markdown",
   "metadata": {},
   "source": [
    "#### Step 2: Set the variables for the Alpaca API and secret keys. Using the Alpaca SDK, create the Alpaca `tradeapi.REST` object. In this object, include the parameters for the Alpaca API key, the secret key, and the version number."
   ]
  },
  {
   "cell_type": "code",
   "execution_count": 14,
   "metadata": {},
   "outputs": [
    {
     "data": {
      "text/plain": [
       "str"
      ]
     },
     "metadata": {},
     "output_type": "display_data"
    },
    {
     "data": {
      "text/plain": [
       "str"
      ]
     },
     "metadata": {},
     "output_type": "display_data"
    }
   ],
   "source": [
    "# Set the variables for the Alpaca API and secret keys\n",
    "alpaca_api_key = os.getenv(\"ALPACA_API_KEY\")\n",
    "alpaca_secret_key = os.getenv(\"ALPACA_SECRET_KEY\")\n",
    "\n",
    "# Create the Alpaca tradeapi.REST object\n",
    "alpaca = tradeapi.REST(\n",
    "    alpaca_api_key,\n",
    "    alpaca_secret_key,\n",
    "    api_version = \"v2\"\n",
    ")\n",
    "\n",
    "display(type(alpaca_api_key))\n",
    "display(type(alpaca_secret_key))"
   ]
  },
  {
   "cell_type": "markdown",
   "metadata": {},
   "source": [
    "#### Step 3: Set the following parameters for the Alpaca API call:\n",
    "\n",
    "- `tickers`: Use the tickers for the member’s stock and bond holdings.\n",
    "\n",
    "- `timeframe`: Use a time frame of one day.\n",
    "\n",
    "- `start_date` and `end_date`: Use the same date for these parameters, and format them with the date of the previous weekday (or `2020-08-07`). This is because you want the one closing price for the most-recent trading day.\n"
   ]
  },
  {
   "cell_type": "code",
   "execution_count": 15,
   "metadata": {},
   "outputs": [],
   "source": [
    "# Set the tickers for both the bond and stock portion of the portfolio\n",
    "tickers = [\"SPY\", \"AGG\"]\n",
    "\n",
    "# Set timeframe to 1D \n",
    "timeframe = \"1D\"\n",
    "\n",
    "# Format current date as ISO format\n",
    "# Set both the start and end date at the date of your prior weekday \n",
    "# This will give you the closing price of the previous trading day\n",
    "# Alternatively you can use a start and end date of 2020-08-07\n",
    "start_date = pd.Timestamp(\"2021-09-10\", tz=\"America/New_York\").isoformat()\n",
    "end_date = pd.Timestamp(\"2021-09-10\", tz=\"America/New_York\").isoformat()\n"
   ]
  },
  {
   "cell_type": "markdown",
   "metadata": {},
   "source": [
    "#### Step 4: Get the current closing prices for `SPY` and `AGG` by using the Alpaca `get_barset` function. Format the response as a Pandas DataFrame by including the `df` property at the end of the `get_barset` function."
   ]
  },
  {
   "cell_type": "code",
   "execution_count": 16,
   "metadata": {},
   "outputs": [
    {
     "data": {
      "text/html": [
       "<div>\n",
       "<style scoped>\n",
       "    .dataframe tbody tr th:only-of-type {\n",
       "        vertical-align: middle;\n",
       "    }\n",
       "\n",
       "    .dataframe tbody tr th {\n",
       "        vertical-align: top;\n",
       "    }\n",
       "\n",
       "    .dataframe thead tr th {\n",
       "        text-align: left;\n",
       "    }\n",
       "\n",
       "    .dataframe thead tr:last-of-type th {\n",
       "        text-align: right;\n",
       "    }\n",
       "</style>\n",
       "<table border=\"1\" class=\"dataframe\">\n",
       "  <thead>\n",
       "    <tr>\n",
       "      <th></th>\n",
       "      <th colspan=\"5\" halign=\"left\">AGG</th>\n",
       "      <th colspan=\"5\" halign=\"left\">SPY</th>\n",
       "    </tr>\n",
       "    <tr>\n",
       "      <th></th>\n",
       "      <th>open</th>\n",
       "      <th>high</th>\n",
       "      <th>low</th>\n",
       "      <th>close</th>\n",
       "      <th>volume</th>\n",
       "      <th>open</th>\n",
       "      <th>high</th>\n",
       "      <th>low</th>\n",
       "      <th>close</th>\n",
       "      <th>volume</th>\n",
       "    </tr>\n",
       "    <tr>\n",
       "      <th>time</th>\n",
       "      <th></th>\n",
       "      <th></th>\n",
       "      <th></th>\n",
       "      <th></th>\n",
       "      <th></th>\n",
       "      <th></th>\n",
       "      <th></th>\n",
       "      <th></th>\n",
       "      <th></th>\n",
       "      <th></th>\n",
       "    </tr>\n",
       "  </thead>\n",
       "  <tbody>\n",
       "    <tr>\n",
       "      <th>2021-09-10 00:00:00-04:00</th>\n",
       "      <td>115.99</td>\n",
       "      <td>116.01</td>\n",
       "      <td>115.7801</td>\n",
       "      <td>115.87</td>\n",
       "      <td>2767552</td>\n",
       "      <td>451.04</td>\n",
       "      <td>451.49</td>\n",
       "      <td>445.31</td>\n",
       "      <td>445.5</td>\n",
       "      <td>75763259</td>\n",
       "    </tr>\n",
       "  </tbody>\n",
       "</table>\n",
       "</div>"
      ],
      "text/plain": [
       "                              AGG                                        SPY  \\\n",
       "                             open    high       low   close   volume    open   \n",
       "time                                                                           \n",
       "2021-09-10 00:00:00-04:00  115.99  116.01  115.7801  115.87  2767552  451.04   \n",
       "\n",
       "                                                            \n",
       "                             high     low  close    volume  \n",
       "time                                                        \n",
       "2021-09-10 00:00:00-04:00  451.49  445.31  445.5  75763259  "
      ]
     },
     "execution_count": 16,
     "metadata": {},
     "output_type": "execute_result"
    }
   ],
   "source": [
    "# Use the Alpaca get_barset function to get current closing prices the portfolio\n",
    "# Be sure to set the `df` property after the function to format the response object as a DataFrame\n",
    "closing_prices = alpaca.get_barset(\n",
    "    tickers,\n",
    "    timeframe,\n",
    "    start = start_date,\n",
    "    end = end_date\n",
    ").df\n",
    "\n",
    "# Review the Alpaca DataFrame\n",
    "closing_prices\n"
   ]
  },
  {
   "cell_type": "markdown",
   "metadata": {},
   "source": [
    "#### Step 5: Navigating the Alpaca response DataFrame, select the `SPY` and `AGG` closing prices, and store them as variables."
   ]
  },
  {
   "cell_type": "code",
   "execution_count": 17,
   "metadata": {},
   "outputs": [
    {
     "name": "stdout",
     "output_type": "stream",
     "text": [
      "115.87\n"
     ]
    }
   ],
   "source": [
    "# Access the closing price for AGG from the Alpaca DataFrame\n",
    "# Converting the value to a floating point number\n",
    "agg_close_price = float(closing_prices[\"AGG\"][\"close\"])\n",
    "\n",
    "# Print the AGG closing price\n",
    "print(agg_close_price)\n"
   ]
  },
  {
   "cell_type": "code",
   "execution_count": 18,
   "metadata": {},
   "outputs": [
    {
     "name": "stdout",
     "output_type": "stream",
     "text": [
      "445.5\n"
     ]
    }
   ],
   "source": [
    "# Access the closing price for SPY from the Alpaca DataFrame\n",
    "# Converting the value to a floating point number\n",
    "spy_close_price = float(closing_prices[\"SPY\"][\"close\"])\n",
    "\n",
    "# Print the SPY closing price\n",
    "print(spy_close_price)\n"
   ]
  },
  {
   "cell_type": "markdown",
   "metadata": {},
   "source": [
    "#### Step 6: Calculate the value, in US dollars, of the current amount of shares in each of the stock and bond portions of the portfolio, and print the results."
   ]
  },
  {
   "cell_type": "code",
   "execution_count": 19,
   "metadata": {},
   "outputs": [
    {
     "name": "stdout",
     "output_type": "stream",
     "text": [
      "The current value of the bond portion of the portfolio is $23174.0\n"
     ]
    }
   ],
   "source": [
    "# Calculate the current value of the bond portion of the portfolio\n",
    "agg_value = agg_close_price * agg_shares\n",
    "\n",
    "# Print the current value of the bond portfolio\n",
    "print(f\"The current value of the bond portion of the portfolio is ${agg_value}\")\n"
   ]
  },
  {
   "cell_type": "code",
   "execution_count": 20,
   "metadata": {},
   "outputs": [
    {
     "name": "stdout",
     "output_type": "stream",
     "text": [
      "The current value of the stock portion of the portfolio is $49005.0\n"
     ]
    }
   ],
   "source": [
    "# Calculate the current value of the stock portion of the portfolio\n",
    "spy_value = spy_close_price * spy_shares\n",
    "\n",
    "# Print the current value of the stock portfolio\n",
    "print(f\"The current value of the stock portion of the portfolio is ${spy_value}\")\n"
   ]
  },
  {
   "cell_type": "code",
   "execution_count": 21,
   "metadata": {},
   "outputs": [
    {
     "name": "stdout",
     "output_type": "stream",
     "text": [
      "The current value of the stock and bond portion of the portfolio is $72179.0\n"
     ]
    }
   ],
   "source": [
    "# Calculate the total value of the stock and bond portion of the portfolio\n",
    "total_stocks_bonds = agg_value + spy_value\n",
    "\n",
    "# Print the current balance of the stock and bond portion of the portfolio\n",
    "print(f\"The current value of the stock and bond portion of the portfolio is ${total_stocks_bonds}\")\n"
   ]
  },
  {
   "cell_type": "code",
   "execution_count": 22,
   "metadata": {},
   "outputs": [
    {
     "name": "stdout",
     "output_type": "stream",
     "text": [
      "The current value of the entire portfolio is $146895.415\n"
     ]
    }
   ],
   "source": [
    "# Calculate the total value of the member's entire savings portfolio\n",
    "# Add the value of the cryptocurrency wallet to the value of the total stocks and bonds\n",
    "total_portfolio = total_stocks_bonds + total_crypto_wallet\n",
    "\n",
    "# Print current cryptocurrency wallet balance\n",
    "print(f\"The current value of the entire portfolio is ${total_portfolio}\")\n"
   ]
  },
  {
   "cell_type": "markdown",
   "metadata": {},
   "source": [
    "### Evaluate the Emergency Fund\n",
    "\n",
    "In this section, you’ll use the valuations for the cryptocurrency wallet and for the stock and bond portions of the portfolio to determine if the credit union member has enough savings to build an emergency fund into their financial plan. To do this, complete the following steps:\n",
    "\n",
    "1. Create a Python list named `savings_data` that has two elements. The first element contains the total value of the cryptocurrency wallet. The second element contains the total value of the stock and bond portions of the portfolio.\n",
    "\n",
    "2. Use the `savings_data` list to create a Pandas DataFrame named `savings_df`, and then display this DataFrame. The function to create the DataFrame should take the following three parameters:\n",
    "\n",
    "    - `savings_data`: Use the list that you just created.\n",
    "\n",
    "    - `columns`: Set this parameter equal to a Python list with a single value called `amount`.\n",
    "\n",
    "    - `index`: Set this parameter equal to a Python list with the values of `crypto` and `stock/bond`.\n",
    "\n",
    "3. Use the `savings_df` DataFrame to plot a pie chart that visualizes the composition of the member’s portfolio. The y-axis of the pie chart uses `amount`. Be sure to add a title.\n",
    "\n",
    "4. Using Python, determine if the current portfolio has enough to create an emergency fund as part of the member’s financial plan. Ideally, an emergency fund should equal to three times the member’s monthly income. To do this, implement the following steps:\n",
    "\n",
    "    1. Create a variable named `emergency_fund_value`, and set it equal to three times the value of the member’s `monthly_income` of $12000. (You set this earlier in Part 1).\n",
    "\n",
    "    2. Create a series of three if statements to determine if the member’s total portfolio is large enough to fund the emergency portfolio:\n",
    "\n",
    "        1. If the total portfolio value is greater than the emergency fund value, display a message congratulating the member for having enough money in this fund.\n",
    "\n",
    "        2. Else if the total portfolio value is equal to the emergency fund value, display a message congratulating the member on reaching this important financial goal.\n",
    "\n",
    "        3. Else the total portfolio is less than the emergency fund value, so display a message showing how many dollars away the member is from reaching the goal. (Subtract the total portfolio value from the emergency fund value.)\n"
   ]
  },
  {
   "cell_type": "markdown",
   "metadata": {},
   "source": [
    "#### Step 1: Create a Python list named `savings_data` that has two elements. The first element contains the total value of the cryptocurrency wallet. The second element contains the total value of the stock and bond portions of the portfolio."
   ]
  },
  {
   "cell_type": "code",
   "execution_count": 23,
   "metadata": {},
   "outputs": [
    {
     "data": {
      "text/plain": [
       "[74716.41500000001, 72179.0]"
      ]
     },
     "execution_count": 23,
     "metadata": {},
     "output_type": "execute_result"
    }
   ],
   "source": [
    "# Consolidate financial assets data into a Python list\n",
    "savings_data = [total_crypto_wallet, total_stocks_bonds]\n",
    "\n",
    "# Review the Python list savings_data\n",
    "savings_data\n",
    "    "
   ]
  },
  {
   "cell_type": "markdown",
   "metadata": {},
   "source": [
    "#### Step 2: Use the `savings_data` list to create a Pandas DataFrame named `savings_df`, and then display this DataFrame. The function to create the DataFrame should take the following three parameters:\n",
    "\n",
    "- `savings_data`: Use the list that you just created.\n",
    "\n",
    "- `columns`: Set this parameter equal to a Python list with a single value called `amount`.\n",
    "\n",
    "- `index`: Set this parameter equal to a Python list with the values of `crypto` and `stock/bond`.\n"
   ]
  },
  {
   "cell_type": "code",
   "execution_count": 24,
   "metadata": {},
   "outputs": [
    {
     "data": {
      "text/html": [
       "<div>\n",
       "<style scoped>\n",
       "    .dataframe tbody tr th:only-of-type {\n",
       "        vertical-align: middle;\n",
       "    }\n",
       "\n",
       "    .dataframe tbody tr th {\n",
       "        vertical-align: top;\n",
       "    }\n",
       "\n",
       "    .dataframe thead th {\n",
       "        text-align: right;\n",
       "    }\n",
       "</style>\n",
       "<table border=\"1\" class=\"dataframe\">\n",
       "  <thead>\n",
       "    <tr style=\"text-align: right;\">\n",
       "      <th></th>\n",
       "      <th>amount</th>\n",
       "    </tr>\n",
       "  </thead>\n",
       "  <tbody>\n",
       "    <tr>\n",
       "      <th>crypto</th>\n",
       "      <td>74716.415</td>\n",
       "    </tr>\n",
       "    <tr>\n",
       "      <th>stocks/bonds</th>\n",
       "      <td>72179.000</td>\n",
       "    </tr>\n",
       "  </tbody>\n",
       "</table>\n",
       "</div>"
      ],
      "text/plain": [
       "                 amount\n",
       "crypto        74716.415\n",
       "stocks/bonds  72179.000"
      ]
     },
     "execution_count": 24,
     "metadata": {},
     "output_type": "execute_result"
    }
   ],
   "source": [
    "# Create a Pandas DataFrame called savings_df \n",
    "savings_df = pd.DataFrame(\n",
    "    savings_data,\n",
    "    columns = [\"amount\"],\n",
    "    index = [\"crypto\", \"stocks/bonds\"]\n",
    ")\n",
    "\n",
    "# Display the savings_df DataFrame\n",
    "savings_df\n"
   ]
  },
  {
   "cell_type": "markdown",
   "metadata": {},
   "source": [
    "#### Step 3: Use the `savings_df` DataFrame to plot a pie chart that visualizes the composition of the member’s portfolio. The y-axis of the pie chart uses `amount`. Be sure to add a title."
   ]
  },
  {
   "cell_type": "code",
   "execution_count": 25,
   "metadata": {},
   "outputs": [
    {
     "data": {
      "text/plain": [
       "<AxesSubplot:title={'center':'Portfolio Composition: Crypto vs. Stocks/Bonds'}, ylabel='amount'>"
      ]
     },
     "execution_count": 25,
     "metadata": {},
     "output_type": "execute_result"
    },
    {
     "data": {
      "image/png": "[encoded data removed]",
      "text/plain": [
       "<Figure size 504x504 with 1 Axes>"
      ]
     },
     "metadata": {},
     "output_type": "display_data"
    }
   ],
   "source": [
    "# Plot the total value of the member's portfolio (crypto and stock/bond) in a pie chart\n",
    "savings_df.plot.pie(\n",
    "    figsize = (7,7),\n",
    "    y = 'amount', \n",
    "    title = 'Portfolio Composition: Crypto vs. Stocks/Bonds'\n",
    ")\n"
   ]
  },
  {
   "cell_type": "markdown",
   "metadata": {},
   "source": [
    "#### Step 4: Using Python, determine if the current portfolio has enough to create an emergency fund as part of the member’s financial plan. Ideally, an emergency fund should equal to three times the member’s monthly income. To do this, implement the following steps:\n",
    "\n",
    "Step 1. Create a variable named `emergency_fund_value`, and set it equal to three times the value of the member’s `monthly_income` of 12000. (You set this earlier in Part 1).\n",
    "\n",
    "Step 2. Create a series of three if statements to determine if the member’s total portfolio is large enough to fund the emergency portfolio:\n",
    "\n",
    "* If the total portfolio value is greater than the emergency fund value, display a message congratulating the member for having enough money in this fund.\n",
    "\n",
    "* Else if the total portfolio value is equal to the emergency fund value, display a message congratulating the member on reaching this important financial goal.\n",
    "\n",
    "* Else the total portfolio is less than the emergency fund value, so display a message showing how many dollars away the member is from reaching the goal. (Subtract the total portfolio value from the emergency fund value.)\n"
   ]
  },
  {
   "cell_type": "markdown",
   "metadata": {},
   "source": [
    "##### Step 4-1: Create a variable named `emergency_fund_value`, and set it equal to three times the value of the member’s `monthly_income` of 12000. (You set this earlier in Part 1)."
   ]
  },
  {
   "cell_type": "code",
   "execution_count": 26,
   "metadata": {},
   "outputs": [
    {
     "name": "stdout",
     "output_type": "stream",
     "text": [
      "$36000\n"
     ]
    }
   ],
   "source": [
    "# Create a variable named emergency_fund_value\n",
    "emergency_fund_value = 3 * monthly_income\n",
    "\n",
    "print(f\"${emergency_fund_value}\")\n"
   ]
  },
  {
   "cell_type": "markdown",
   "metadata": {},
   "source": [
    "##### Step 4-2: Create a series of three if statements to determine if the member’s total portfolio is large enough to fund the emergency portfolio:\n",
    "\n",
    "* If the total portfolio value is greater than the emergency fund value, display a message congratulating the member for having enough money in this fund.\n",
    "\n",
    "* Else if the total portfolio value is equal to the emergency fund value, display a message congratulating the member on reaching this important financial goal.\n",
    "\n",
    "* Else the total portfolio is less than the emergency fund value, so display a message showing how many dollars away the member is from reaching the goal. (Subtract the total portfolio value from the emergency fund value.)"
   ]
  },
  {
   "cell_type": "code",
   "execution_count": 27,
   "metadata": {},
   "outputs": [
    {
     "name": "stdout",
     "output_type": "stream",
     "text": [
      "Congrats! You have enough money in your portfolio to create an emergency fund!\n"
     ]
    }
   ],
   "source": [
    "# Evaluate the possibility of creating an emergency fund with 3 conditions:\n",
    "if total_portfolio > emergency_fund_value:\n",
    "    print(\"Congrats! You have enough money in your portfolio to create an emergency fund!\")\n",
    "if total_portfolio == emergency_fund_value:\n",
    "    print(\"Congrats! Your portfolio has reached the amount required to create an emergency fund!\")\n",
    "if total_portfolio < emergency_fund_value:\n",
    "    print(f\"You are ${emergency_fund_value - total_portfolio} away from reaching the amount needed for an emergency fund.\")\n"
   ]
  },
  {
   "cell_type": "markdown",
   "metadata": {},
   "source": [
    "## Part 2: Create a Financial Planner for Retirement"
   ]
  },
  {
   "cell_type": "markdown",
   "metadata": {},
   "source": [
    "### Create the Monte Carlo Simulation\n",
    "\n",
    "In this section, you’ll use the MCForecastTools library to create a Monte Carlo simulation for the member’s savings portfolio. To do this, complete the following steps:\n",
    "\n",
    "1. Make an API call via the Alpaca SDK to get 3 years of historical closing prices for a traditional 60/40 portfolio split: 60% stocks (SPY) and 40% bonds (AGG).\n",
    "\n",
    "2. Run a Monte Carlo simulation of 500 samples and 30 years for the 60/40 portfolio, and then plot the results.The following image shows the overlay line plot resulting from a simulation with these characteristics. However, because a random number generator is used to run each live Monte Carlo simulation, your image will differ slightly from this exact image:\n",
    "\n",
    "![A screenshot depicts the resulting plot.](Images/5-4-monte-carlo-line-plot.png)\n",
    "\n",
    "3. Plot the probability distribution of the Monte Carlo simulation. Plot the probability distribution of the Monte Carlo simulation. The following image shows the histogram plot resulting from a simulation with these characteristics. However, because a random number generator is used to run each live Monte Carlo simulation, your image will differ slightly from this exact image:\n",
    "\n",
    "![A screenshot depicts the histogram plot.](Images/5-4-monte-carlo-histogram.png)\n",
    "\n",
    "4. Generate the summary statistics for the Monte Carlo simulation.\n",
    "\n"
   ]
  },
  {
   "cell_type": "markdown",
   "metadata": {},
   "source": [
    "#### Step 1: Make an API call via the Alpaca SDK to get 3 years of historical closing prices for a traditional 60/40 portfolio split: 60% stocks (SPY) and 40% bonds (AGG)."
   ]
  },
  {
   "cell_type": "code",
   "execution_count": 28,
   "metadata": {},
   "outputs": [],
   "source": [
    "# Set start and end dates of 3 years back from current date\n",
    "start_date = pd.Timestamp(\"2018-09-10\", tz=\"America/New_York\").isoformat()\n",
    "end_date = pd.Timestamp(\"2021-09-10\", tz=\"America/New_York\").isoformat()\n",
    "\n",
    "# Set number of rows to 1000 to retrieve the maximum amount of rows\n",
    "limit_rows = 1000"
   ]
  },
  {
   "cell_type": "code",
   "execution_count": 29,
   "metadata": {},
   "outputs": [
    {
     "data": {
      "text/html": [
       "<div>\n",
       "<style scoped>\n",
       "    .dataframe tbody tr th:only-of-type {\n",
       "        vertical-align: middle;\n",
       "    }\n",
       "\n",
       "    .dataframe tbody tr th {\n",
       "        vertical-align: top;\n",
       "    }\n",
       "\n",
       "    .dataframe thead tr th {\n",
       "        text-align: left;\n",
       "    }\n",
       "\n",
       "    .dataframe thead tr:last-of-type th {\n",
       "        text-align: right;\n",
       "    }\n",
       "</style>\n",
       "<table border=\"1\" class=\"dataframe\">\n",
       "  <thead>\n",
       "    <tr>\n",
       "      <th></th>\n",
       "      <th colspan=\"5\" halign=\"left\">AGG</th>\n",
       "      <th colspan=\"5\" halign=\"left\">SPY</th>\n",
       "    </tr>\n",
       "    <tr>\n",
       "      <th></th>\n",
       "      <th>open</th>\n",
       "      <th>high</th>\n",
       "      <th>low</th>\n",
       "      <th>close</th>\n",
       "      <th>volume</th>\n",
       "      <th>open</th>\n",
       "      <th>high</th>\n",
       "      <th>low</th>\n",
       "      <th>close</th>\n",
       "      <th>volume</th>\n",
       "    </tr>\n",
       "    <tr>\n",
       "      <th>time</th>\n",
       "      <th></th>\n",
       "      <th></th>\n",
       "      <th></th>\n",
       "      <th></th>\n",
       "      <th></th>\n",
       "      <th></th>\n",
       "      <th></th>\n",
       "      <th></th>\n",
       "      <th></th>\n",
       "      <th></th>\n",
       "    </tr>\n",
       "  </thead>\n",
       "  <tbody>\n",
       "    <tr>\n",
       "      <th>2018-09-10 00:00:00-04:00</th>\n",
       "      <td>105.85</td>\n",
       "      <td>105.9500</td>\n",
       "      <td>105.85</td>\n",
       "      <td>105.93</td>\n",
       "      <td>3085654.0</td>\n",
       "      <td>288.76</td>\n",
       "      <td>289.0400</td>\n",
       "      <td>287.880</td>\n",
       "      <td>288.09</td>\n",
       "      <td>32357518</td>\n",
       "    </tr>\n",
       "    <tr>\n",
       "      <th>2018-09-11 00:00:00-04:00</th>\n",
       "      <td>105.78</td>\n",
       "      <td>105.8400</td>\n",
       "      <td>105.70</td>\n",
       "      <td>105.73</td>\n",
       "      <td>1943309.0</td>\n",
       "      <td>287.37</td>\n",
       "      <td>289.5500</td>\n",
       "      <td>286.975</td>\n",
       "      <td>289.11</td>\n",
       "      <td>36335994</td>\n",
       "    </tr>\n",
       "    <tr>\n",
       "      <th>2018-09-12 00:00:00-04:00</th>\n",
       "      <td>105.81</td>\n",
       "      <td>105.8900</td>\n",
       "      <td>105.80</td>\n",
       "      <td>105.80</td>\n",
       "      <td>2083656.0</td>\n",
       "      <td>289.06</td>\n",
       "      <td>289.8000</td>\n",
       "      <td>288.230</td>\n",
       "      <td>289.16</td>\n",
       "      <td>46644377</td>\n",
       "    </tr>\n",
       "    <tr>\n",
       "      <th>2018-09-13 00:00:00-04:00</th>\n",
       "      <td>105.96</td>\n",
       "      <td>106.0000</td>\n",
       "      <td>105.85</td>\n",
       "      <td>105.88</td>\n",
       "      <td>2076503.0</td>\n",
       "      <td>290.32</td>\n",
       "      <td>291.0384</td>\n",
       "      <td>289.995</td>\n",
       "      <td>290.82</td>\n",
       "      <td>38536035</td>\n",
       "    </tr>\n",
       "    <tr>\n",
       "      <th>2018-09-14 00:00:00-04:00</th>\n",
       "      <td>105.72</td>\n",
       "      <td>105.7899</td>\n",
       "      <td>105.66</td>\n",
       "      <td>105.67</td>\n",
       "      <td>2530495.0</td>\n",
       "      <td>291.06</td>\n",
       "      <td>291.2700</td>\n",
       "      <td>290.000</td>\n",
       "      <td>290.90</td>\n",
       "      <td>37322600</td>\n",
       "    </tr>\n",
       "  </tbody>\n",
       "</table>\n",
       "</div>"
      ],
      "text/plain": [
       "                              AGG                                       \\\n",
       "                             open      high     low   close     volume   \n",
       "time                                                                     \n",
       "2018-09-10 00:00:00-04:00  105.85  105.9500  105.85  105.93  3085654.0   \n",
       "2018-09-11 00:00:00-04:00  105.78  105.8400  105.70  105.73  1943309.0   \n",
       "2018-09-12 00:00:00-04:00  105.81  105.8900  105.80  105.80  2083656.0   \n",
       "2018-09-13 00:00:00-04:00  105.96  106.0000  105.85  105.88  2076503.0   \n",
       "2018-09-14 00:00:00-04:00  105.72  105.7899  105.66  105.67  2530495.0   \n",
       "\n",
       "                              SPY                                       \n",
       "                             open      high      low   close    volume  \n",
       "time                                                                    \n",
       "2018-09-10 00:00:00-04:00  288.76  289.0400  287.880  288.09  32357518  \n",
       "2018-09-11 00:00:00-04:00  287.37  289.5500  286.975  289.11  36335994  \n",
       "2018-09-12 00:00:00-04:00  289.06  289.8000  288.230  289.16  46644377  \n",
       "2018-09-13 00:00:00-04:00  290.32  291.0384  289.995  290.82  38536035  \n",
       "2018-09-14 00:00:00-04:00  291.06  291.2700  290.000  290.90  37322600  "
      ]
     },
     "metadata": {},
     "output_type": "display_data"
    },
    {
     "data": {
      "text/html": [
       "<div>\n",
       "<style scoped>\n",
       "    .dataframe tbody tr th:only-of-type {\n",
       "        vertical-align: middle;\n",
       "    }\n",
       "\n",
       "    .dataframe tbody tr th {\n",
       "        vertical-align: top;\n",
       "    }\n",
       "\n",
       "    .dataframe thead tr th {\n",
       "        text-align: left;\n",
       "    }\n",
       "\n",
       "    .dataframe thead tr:last-of-type th {\n",
       "        text-align: right;\n",
       "    }\n",
       "</style>\n",
       "<table border=\"1\" class=\"dataframe\">\n",
       "  <thead>\n",
       "    <tr>\n",
       "      <th></th>\n",
       "      <th colspan=\"5\" halign=\"left\">AGG</th>\n",
       "      <th colspan=\"5\" halign=\"left\">SPY</th>\n",
       "    </tr>\n",
       "    <tr>\n",
       "      <th></th>\n",
       "      <th>open</th>\n",
       "      <th>high</th>\n",
       "      <th>low</th>\n",
       "      <th>close</th>\n",
       "      <th>volume</th>\n",
       "      <th>open</th>\n",
       "      <th>high</th>\n",
       "      <th>low</th>\n",
       "      <th>close</th>\n",
       "      <th>volume</th>\n",
       "    </tr>\n",
       "    <tr>\n",
       "      <th>time</th>\n",
       "      <th></th>\n",
       "      <th></th>\n",
       "      <th></th>\n",
       "      <th></th>\n",
       "      <th></th>\n",
       "      <th></th>\n",
       "      <th></th>\n",
       "      <th></th>\n",
       "      <th></th>\n",
       "      <th></th>\n",
       "    </tr>\n",
       "  </thead>\n",
       "  <tbody>\n",
       "    <tr>\n",
       "      <th>2021-09-03 00:00:00-04:00</th>\n",
       "      <td>115.84</td>\n",
       "      <td>115.8900</td>\n",
       "      <td>115.7707</td>\n",
       "      <td>115.85</td>\n",
       "      <td>4172690.0</td>\n",
       "      <td>451.98</td>\n",
       "      <td>453.63</td>\n",
       "      <td>451.5500</td>\n",
       "      <td>453.06</td>\n",
       "      <td>37843082</td>\n",
       "    </tr>\n",
       "    <tr>\n",
       "      <th>2021-09-07 00:00:00-04:00</th>\n",
       "      <td>115.64</td>\n",
       "      <td>115.6457</td>\n",
       "      <td>115.4737</td>\n",
       "      <td>115.55</td>\n",
       "      <td>3190893.0</td>\n",
       "      <td>452.71</td>\n",
       "      <td>452.81</td>\n",
       "      <td>450.7423</td>\n",
       "      <td>451.52</td>\n",
       "      <td>46091753</td>\n",
       "    </tr>\n",
       "    <tr>\n",
       "      <th>2021-09-08 00:00:00-04:00</th>\n",
       "      <td>115.70</td>\n",
       "      <td>115.8200</td>\n",
       "      <td>115.6200</td>\n",
       "      <td>115.74</td>\n",
       "      <td>3084384.0</td>\n",
       "      <td>450.89</td>\n",
       "      <td>451.67</td>\n",
       "      <td>448.8600</td>\n",
       "      <td>450.96</td>\n",
       "      <td>50695626</td>\n",
       "    </tr>\n",
       "    <tr>\n",
       "      <th>2021-09-09 00:00:00-04:00</th>\n",
       "      <td>115.84</td>\n",
       "      <td>116.1470</td>\n",
       "      <td>115.7550</td>\n",
       "      <td>116.10</td>\n",
       "      <td>3232335.0</td>\n",
       "      <td>450.70</td>\n",
       "      <td>452.57</td>\n",
       "      <td>448.7200</td>\n",
       "      <td>448.94</td>\n",
       "      <td>51603442</td>\n",
       "    </tr>\n",
       "    <tr>\n",
       "      <th>2021-09-10 00:00:00-04:00</th>\n",
       "      <td>115.99</td>\n",
       "      <td>116.0100</td>\n",
       "      <td>115.7801</td>\n",
       "      <td>115.87</td>\n",
       "      <td>2767552.0</td>\n",
       "      <td>451.04</td>\n",
       "      <td>451.49</td>\n",
       "      <td>445.3100</td>\n",
       "      <td>445.50</td>\n",
       "      <td>75763259</td>\n",
       "    </tr>\n",
       "  </tbody>\n",
       "</table>\n",
       "</div>"
      ],
      "text/plain": [
       "                              AGG                                         \\\n",
       "                             open      high       low   close     volume   \n",
       "time                                                                       \n",
       "2021-09-03 00:00:00-04:00  115.84  115.8900  115.7707  115.85  4172690.0   \n",
       "2021-09-07 00:00:00-04:00  115.64  115.6457  115.4737  115.55  3190893.0   \n",
       "2021-09-08 00:00:00-04:00  115.70  115.8200  115.6200  115.74  3084384.0   \n",
       "2021-09-09 00:00:00-04:00  115.84  116.1470  115.7550  116.10  3232335.0   \n",
       "2021-09-10 00:00:00-04:00  115.99  116.0100  115.7801  115.87  2767552.0   \n",
       "\n",
       "                              SPY                                      \n",
       "                             open    high       low   close    volume  \n",
       "time                                                                   \n",
       "2021-09-03 00:00:00-04:00  451.98  453.63  451.5500  453.06  37843082  \n",
       "2021-09-07 00:00:00-04:00  452.71  452.81  450.7423  451.52  46091753  \n",
       "2021-09-08 00:00:00-04:00  450.89  451.67  448.8600  450.96  50695626  \n",
       "2021-09-09 00:00:00-04:00  450.70  452.57  448.7200  448.94  51603442  \n",
       "2021-09-10 00:00:00-04:00  451.04  451.49  445.3100  445.50  75763259  "
      ]
     },
     "metadata": {},
     "output_type": "display_data"
    }
   ],
   "source": [
    "# Use the Alpaca get_barset function to make the API call to get the 3 years worth of pricing data\n",
    "# The tickers and timeframe parameters should have been set in Part 1 of this activity \n",
    "# The start and end dates should be updated with the information set above\n",
    "# Remember to add the df property to the end of the call so the response is returned as a DataFrame\n",
    "price_data = alpaca.get_barset(\n",
    "    tickers,\n",
    "    timeframe,\n",
    "    start = start_date,\n",
    "    end = end_date,\n",
    "    limit = limit_rows\n",
    ").df\n",
    "\n",
    "\n",
    "# Display both the first and last five rows of the DataFrame\n",
    "display(price_data.head())\n",
    "display(price_data.tail())\n"
   ]
  },
  {
   "cell_type": "markdown",
   "metadata": {},
   "source": [
    "#### Step 2: Run a Monte Carlo simulation of 500 samples and 30 years for the 60/40 portfolio, and then plot the results."
   ]
  },
  {
   "cell_type": "code",
   "execution_count": 30,
   "metadata": {},
   "outputs": [
    {
     "data": {
      "text/html": [
       "<div>\n",
       "<style scoped>\n",
       "    .dataframe tbody tr th:only-of-type {\n",
       "        vertical-align: middle;\n",
       "    }\n",
       "\n",
       "    .dataframe tbody tr th {\n",
       "        vertical-align: top;\n",
       "    }\n",
       "\n",
       "    .dataframe thead tr th {\n",
       "        text-align: left;\n",
       "    }\n",
       "\n",
       "    .dataframe thead tr:last-of-type th {\n",
       "        text-align: right;\n",
       "    }\n",
       "</style>\n",
       "<table border=\"1\" class=\"dataframe\">\n",
       "  <thead>\n",
       "    <tr>\n",
       "      <th></th>\n",
       "      <th colspan=\"6\" halign=\"left\">AGG</th>\n",
       "      <th colspan=\"6\" halign=\"left\">SPY</th>\n",
       "    </tr>\n",
       "    <tr>\n",
       "      <th></th>\n",
       "      <th>open</th>\n",
       "      <th>high</th>\n",
       "      <th>low</th>\n",
       "      <th>close</th>\n",
       "      <th>volume</th>\n",
       "      <th>daily_return</th>\n",
       "      <th>open</th>\n",
       "      <th>high</th>\n",
       "      <th>low</th>\n",
       "      <th>close</th>\n",
       "      <th>volume</th>\n",
       "      <th>daily_return</th>\n",
       "    </tr>\n",
       "    <tr>\n",
       "      <th>time</th>\n",
       "      <th></th>\n",
       "      <th></th>\n",
       "      <th></th>\n",
       "      <th></th>\n",
       "      <th></th>\n",
       "      <th></th>\n",
       "      <th></th>\n",
       "      <th></th>\n",
       "      <th></th>\n",
       "      <th></th>\n",
       "      <th></th>\n",
       "      <th></th>\n",
       "    </tr>\n",
       "  </thead>\n",
       "  <tbody>\n",
       "    <tr>\n",
       "      <th>2018-09-10 00:00:00-04:00</th>\n",
       "      <td>105.85</td>\n",
       "      <td>105.9500</td>\n",
       "      <td>105.85</td>\n",
       "      <td>105.93</td>\n",
       "      <td>3085654.0</td>\n",
       "      <td>NaN</td>\n",
       "      <td>288.76</td>\n",
       "      <td>289.0400</td>\n",
       "      <td>287.880</td>\n",
       "      <td>288.09</td>\n",
       "      <td>32357518</td>\n",
       "      <td>NaN</td>\n",
       "    </tr>\n",
       "    <tr>\n",
       "      <th>2018-09-11 00:00:00-04:00</th>\n",
       "      <td>105.78</td>\n",
       "      <td>105.8400</td>\n",
       "      <td>105.70</td>\n",
       "      <td>105.73</td>\n",
       "      <td>1943309.0</td>\n",
       "      <td>-0.001888</td>\n",
       "      <td>287.37</td>\n",
       "      <td>289.5500</td>\n",
       "      <td>286.975</td>\n",
       "      <td>289.11</td>\n",
       "      <td>36335994</td>\n",
       "      <td>0.003541</td>\n",
       "    </tr>\n",
       "    <tr>\n",
       "      <th>2018-09-12 00:00:00-04:00</th>\n",
       "      <td>105.81</td>\n",
       "      <td>105.8900</td>\n",
       "      <td>105.80</td>\n",
       "      <td>105.80</td>\n",
       "      <td>2083656.0</td>\n",
       "      <td>0.000662</td>\n",
       "      <td>289.06</td>\n",
       "      <td>289.8000</td>\n",
       "      <td>288.230</td>\n",
       "      <td>289.16</td>\n",
       "      <td>46644377</td>\n",
       "      <td>0.000173</td>\n",
       "    </tr>\n",
       "    <tr>\n",
       "      <th>2018-09-13 00:00:00-04:00</th>\n",
       "      <td>105.96</td>\n",
       "      <td>106.0000</td>\n",
       "      <td>105.85</td>\n",
       "      <td>105.88</td>\n",
       "      <td>2076503.0</td>\n",
       "      <td>0.000756</td>\n",
       "      <td>290.32</td>\n",
       "      <td>291.0384</td>\n",
       "      <td>289.995</td>\n",
       "      <td>290.82</td>\n",
       "      <td>38536035</td>\n",
       "      <td>0.005741</td>\n",
       "    </tr>\n",
       "    <tr>\n",
       "      <th>2018-09-14 00:00:00-04:00</th>\n",
       "      <td>105.72</td>\n",
       "      <td>105.7899</td>\n",
       "      <td>105.66</td>\n",
       "      <td>105.67</td>\n",
       "      <td>2530495.0</td>\n",
       "      <td>-0.001983</td>\n",
       "      <td>291.06</td>\n",
       "      <td>291.2700</td>\n",
       "      <td>290.000</td>\n",
       "      <td>290.90</td>\n",
       "      <td>37322600</td>\n",
       "      <td>0.000275</td>\n",
       "    </tr>\n",
       "  </tbody>\n",
       "</table>\n",
       "</div>"
      ],
      "text/plain": [
       "                              AGG                                       \\\n",
       "                             open      high     low   close     volume   \n",
       "time                                                                     \n",
       "2018-09-10 00:00:00-04:00  105.85  105.9500  105.85  105.93  3085654.0   \n",
       "2018-09-11 00:00:00-04:00  105.78  105.8400  105.70  105.73  1943309.0   \n",
       "2018-09-12 00:00:00-04:00  105.81  105.8900  105.80  105.80  2083656.0   \n",
       "2018-09-13 00:00:00-04:00  105.96  106.0000  105.85  105.88  2076503.0   \n",
       "2018-09-14 00:00:00-04:00  105.72  105.7899  105.66  105.67  2530495.0   \n",
       "\n",
       "                                           SPY                             \\\n",
       "                          daily_return    open      high      low   close   \n",
       "time                                                                        \n",
       "2018-09-10 00:00:00-04:00          NaN  288.76  289.0400  287.880  288.09   \n",
       "2018-09-11 00:00:00-04:00    -0.001888  287.37  289.5500  286.975  289.11   \n",
       "2018-09-12 00:00:00-04:00     0.000662  289.06  289.8000  288.230  289.16   \n",
       "2018-09-13 00:00:00-04:00     0.000756  290.32  291.0384  289.995  290.82   \n",
       "2018-09-14 00:00:00-04:00    -0.001983  291.06  291.2700  290.000  290.90   \n",
       "\n",
       "                                                  \n",
       "                             volume daily_return  \n",
       "time                                              \n",
       "2018-09-10 00:00:00-04:00  32357518          NaN  \n",
       "2018-09-11 00:00:00-04:00  36335994     0.003541  \n",
       "2018-09-12 00:00:00-04:00  46644377     0.000173  \n",
       "2018-09-13 00:00:00-04:00  38536035     0.005741  \n",
       "2018-09-14 00:00:00-04:00  37322600     0.000275  "
      ]
     },
     "execution_count": 30,
     "metadata": {},
     "output_type": "execute_result"
    }
   ],
   "source": [
    "# Configure the Monte Carlo simulation to forecast 30 years cumulative returns\n",
    "# The weights should be split 40% to AGG and 60% to SPY.\n",
    "# Run 500 samples.\n",
    "MC_60_40 = MCSimulation(\n",
    "    portfolio_data = price_data,\n",
    "    weights = [0.4, 0.6],\n",
    "    num_simulation = 500,\n",
    "    num_trading_days = 252*30\n",
    ")\n",
    "\n",
    "# Review the simulation input data\n",
    "MC_60_40.portfolio_data.head()\n"
   ]
  },
  {
   "cell_type": "code",
   "execution_count": 31,
   "metadata": {},
   "outputs": [
    {
     "name": "stdout",
     "output_type": "stream",
     "text": [
      "Running Monte Carlo simulation number 0.\n",
      "Running Monte Carlo simulation number 10.\n",
      "Running Monte Carlo simulation number 20.\n",
      "Running Monte Carlo simulation number 30.\n",
      "Running Monte Carlo simulation number 40.\n",
      "Running Monte Carlo simulation number 50.\n",
      "Running Monte Carlo simulation number 60.\n",
      "Running Monte Carlo simulation number 70.\n",
      "Running Monte Carlo simulation number 80.\n",
      "Running Monte Carlo simulation number 90.\n",
      "Running Monte Carlo simulation number 100.\n",
      "Running Monte Carlo simulation number 110.\n",
      "Running Monte Carlo simulation number 120.\n",
      "Running Monte Carlo simulation number 130.\n",
      "Running Monte Carlo simulation number 140.\n",
      "Running Monte Carlo simulation number 150.\n",
      "Running Monte Carlo simulation number 160.\n",
      "Running Monte Carlo simulation number 170.\n",
      "Running Monte Carlo simulation number 180.\n",
      "Running Monte Carlo simulation number 190.\n",
      "Running Monte Carlo simulation number 200.\n",
      "Running Monte Carlo simulation number 210.\n",
      "Running Monte Carlo simulation number 220.\n",
      "Running Monte Carlo simulation number 230.\n",
      "Running Monte Carlo simulation number 240.\n",
      "Running Monte Carlo simulation number 250.\n",
      "Running Monte Carlo simulation number 260.\n",
      "Running Monte Carlo simulation number 270.\n",
      "Running Monte Carlo simulation number 280.\n",
      "Running Monte Carlo simulation number 290.\n",
      "Running Monte Carlo simulation number 300.\n",
      "Running Monte Carlo simulation number 310.\n",
      "Running Monte Carlo simulation number 320.\n",
      "Running Monte Carlo simulation number 330.\n",
      "Running Monte Carlo simulation number 340.\n",
      "Running Monte Carlo simulation number 350.\n",
      "Running Monte Carlo simulation number 360.\n",
      "Running Monte Carlo simulation number 370.\n",
      "Running Monte Carlo simulation number 380.\n",
      "Running Monte Carlo simulation number 390.\n",
      "Running Monte Carlo simulation number 400.\n",
      "Running Monte Carlo simulation number 410.\n",
      "Running Monte Carlo simulation number 420.\n",
      "Running Monte Carlo simulation number 430.\n",
      "Running Monte Carlo simulation number 440.\n",
      "Running Monte Carlo simulation number 450.\n",
      "Running Monte Carlo simulation number 460.\n",
      "Running Monte Carlo simulation number 470.\n",
      "Running Monte Carlo simulation number 480.\n",
      "Running Monte Carlo simulation number 490.\n"
     ]
    },
    {
     "data": {
      "text/html": [
       "<div>\n",
       "<style scoped>\n",
       "    .dataframe tbody tr th:only-of-type {\n",
       "        vertical-align: middle;\n",
       "    }\n",
       "\n",
       "    .dataframe tbody tr th {\n",
       "        vertical-align: top;\n",
       "    }\n",
       "\n",
       "    .dataframe thead th {\n",
       "        text-align: right;\n",
       "    }\n",
       "</style>\n",
       "<table border=\"1\" class=\"dataframe\">\n",
       "  <thead>\n",
       "    <tr style=\"text-align: right;\">\n",
       "      <th></th>\n",
       "      <th>0</th>\n",
       "      <th>1</th>\n",
       "      <th>2</th>\n",
       "      <th>3</th>\n",
       "      <th>4</th>\n",
       "      <th>5</th>\n",
       "      <th>6</th>\n",
       "      <th>7</th>\n",
       "      <th>8</th>\n",
       "      <th>9</th>\n",
       "      <th>...</th>\n",
       "      <th>490</th>\n",
       "      <th>491</th>\n",
       "      <th>492</th>\n",
       "      <th>493</th>\n",
       "      <th>494</th>\n",
       "      <th>495</th>\n",
       "      <th>496</th>\n",
       "      <th>497</th>\n",
       "      <th>498</th>\n",
       "      <th>499</th>\n",
       "    </tr>\n",
       "  </thead>\n",
       "  <tbody>\n",
       "    <tr>\n",
       "      <th>0</th>\n",
       "      <td>1.000000</td>\n",
       "      <td>1.000000</td>\n",
       "      <td>1.000000</td>\n",
       "      <td>1.000000</td>\n",
       "      <td>1.000000</td>\n",
       "      <td>1.000000</td>\n",
       "      <td>1.000000</td>\n",
       "      <td>1.000000</td>\n",
       "      <td>1.000000</td>\n",
       "      <td>1.000000</td>\n",
       "      <td>...</td>\n",
       "      <td>1.000000</td>\n",
       "      <td>1.000000</td>\n",
       "      <td>1.000000</td>\n",
       "      <td>1.000000</td>\n",
       "      <td>1.000000</td>\n",
       "      <td>1.000000</td>\n",
       "      <td>1.000000</td>\n",
       "      <td>1.000000</td>\n",
       "      <td>1.000000</td>\n",
       "      <td>1.000000</td>\n",
       "    </tr>\n",
       "    <tr>\n",
       "      <th>1</th>\n",
       "      <td>1.007467</td>\n",
       "      <td>0.995167</td>\n",
       "      <td>0.996989</td>\n",
       "      <td>1.003233</td>\n",
       "      <td>1.009429</td>\n",
       "      <td>1.000106</td>\n",
       "      <td>1.003285</td>\n",
       "      <td>1.002684</td>\n",
       "      <td>1.006580</td>\n",
       "      <td>0.994953</td>\n",
       "      <td>...</td>\n",
       "      <td>0.989942</td>\n",
       "      <td>0.998694</td>\n",
       "      <td>1.013540</td>\n",
       "      <td>0.998471</td>\n",
       "      <td>0.996456</td>\n",
       "      <td>1.003053</td>\n",
       "      <td>0.995685</td>\n",
       "      <td>0.990246</td>\n",
       "      <td>1.010088</td>\n",
       "      <td>0.998080</td>\n",
       "    </tr>\n",
       "    <tr>\n",
       "      <th>2</th>\n",
       "      <td>1.004695</td>\n",
       "      <td>0.980873</td>\n",
       "      <td>0.984411</td>\n",
       "      <td>1.006364</td>\n",
       "      <td>1.002073</td>\n",
       "      <td>1.023032</td>\n",
       "      <td>1.006922</td>\n",
       "      <td>1.007952</td>\n",
       "      <td>1.000213</td>\n",
       "      <td>0.994869</td>\n",
       "      <td>...</td>\n",
       "      <td>0.983170</td>\n",
       "      <td>1.003343</td>\n",
       "      <td>1.015477</td>\n",
       "      <td>0.996160</td>\n",
       "      <td>1.002033</td>\n",
       "      <td>0.983284</td>\n",
       "      <td>1.013223</td>\n",
       "      <td>0.988601</td>\n",
       "      <td>1.017314</td>\n",
       "      <td>0.989193</td>\n",
       "    </tr>\n",
       "    <tr>\n",
       "      <th>3</th>\n",
       "      <td>1.006467</td>\n",
       "      <td>0.982632</td>\n",
       "      <td>0.987403</td>\n",
       "      <td>0.981663</td>\n",
       "      <td>0.981683</td>\n",
       "      <td>1.035435</td>\n",
       "      <td>1.025077</td>\n",
       "      <td>1.014843</td>\n",
       "      <td>0.996004</td>\n",
       "      <td>1.005752</td>\n",
       "      <td>...</td>\n",
       "      <td>0.966360</td>\n",
       "      <td>1.020519</td>\n",
       "      <td>1.013858</td>\n",
       "      <td>0.999153</td>\n",
       "      <td>0.993856</td>\n",
       "      <td>0.980874</td>\n",
       "      <td>1.027797</td>\n",
       "      <td>0.998325</td>\n",
       "      <td>1.024683</td>\n",
       "      <td>0.990600</td>\n",
       "    </tr>\n",
       "    <tr>\n",
       "      <th>4</th>\n",
       "      <td>1.015504</td>\n",
       "      <td>0.973812</td>\n",
       "      <td>0.994629</td>\n",
       "      <td>0.982625</td>\n",
       "      <td>0.994115</td>\n",
       "      <td>1.038549</td>\n",
       "      <td>1.017926</td>\n",
       "      <td>1.008817</td>\n",
       "      <td>0.990472</td>\n",
       "      <td>0.995770</td>\n",
       "      <td>...</td>\n",
       "      <td>0.969747</td>\n",
       "      <td>1.030776</td>\n",
       "      <td>1.020823</td>\n",
       "      <td>1.003102</td>\n",
       "      <td>0.998308</td>\n",
       "      <td>0.990412</td>\n",
       "      <td>1.033877</td>\n",
       "      <td>1.002641</td>\n",
       "      <td>1.028017</td>\n",
       "      <td>0.992137</td>\n",
       "    </tr>\n",
       "    <tr>\n",
       "      <th>...</th>\n",
       "      <td>...</td>\n",
       "      <td>...</td>\n",
       "      <td>...</td>\n",
       "      <td>...</td>\n",
       "      <td>...</td>\n",
       "      <td>...</td>\n",
       "      <td>...</td>\n",
       "      <td>...</td>\n",
       "      <td>...</td>\n",
       "      <td>...</td>\n",
       "      <td>...</td>\n",
       "      <td>...</td>\n",
       "      <td>...</td>\n",
       "      <td>...</td>\n",
       "      <td>...</td>\n",
       "      <td>...</td>\n",
       "      <td>...</td>\n",
       "      <td>...</td>\n",
       "      <td>...</td>\n",
       "      <td>...</td>\n",
       "      <td>...</td>\n",
       "    </tr>\n",
       "    <tr>\n",
       "      <th>7556</th>\n",
       "      <td>23.805523</td>\n",
       "      <td>16.880644</td>\n",
       "      <td>28.882398</td>\n",
       "      <td>13.306006</td>\n",
       "      <td>33.883514</td>\n",
       "      <td>39.551152</td>\n",
       "      <td>65.672304</td>\n",
       "      <td>6.576105</td>\n",
       "      <td>29.012358</td>\n",
       "      <td>26.651943</td>\n",
       "      <td>...</td>\n",
       "      <td>36.267021</td>\n",
       "      <td>11.264076</td>\n",
       "      <td>12.483433</td>\n",
       "      <td>43.812798</td>\n",
       "      <td>33.788111</td>\n",
       "      <td>16.356364</td>\n",
       "      <td>18.700062</td>\n",
       "      <td>43.590827</td>\n",
       "      <td>26.913773</td>\n",
       "      <td>8.918388</td>\n",
       "    </tr>\n",
       "    <tr>\n",
       "      <th>7557</th>\n",
       "      <td>23.759219</td>\n",
       "      <td>16.818008</td>\n",
       "      <td>28.976845</td>\n",
       "      <td>13.324901</td>\n",
       "      <td>34.357873</td>\n",
       "      <td>39.865112</td>\n",
       "      <td>65.696785</td>\n",
       "      <td>6.564004</td>\n",
       "      <td>28.818434</td>\n",
       "      <td>26.770505</td>\n",
       "      <td>...</td>\n",
       "      <td>36.254478</td>\n",
       "      <td>11.284467</td>\n",
       "      <td>12.450663</td>\n",
       "      <td>44.804328</td>\n",
       "      <td>33.812035</td>\n",
       "      <td>16.373193</td>\n",
       "      <td>18.796647</td>\n",
       "      <td>43.286028</td>\n",
       "      <td>26.838631</td>\n",
       "      <td>9.015158</td>\n",
       "    </tr>\n",
       "    <tr>\n",
       "      <th>7558</th>\n",
       "      <td>23.613404</td>\n",
       "      <td>16.660763</td>\n",
       "      <td>29.157682</td>\n",
       "      <td>13.369051</td>\n",
       "      <td>34.407909</td>\n",
       "      <td>40.237201</td>\n",
       "      <td>65.644510</td>\n",
       "      <td>6.573485</td>\n",
       "      <td>28.276823</td>\n",
       "      <td>26.842562</td>\n",
       "      <td>...</td>\n",
       "      <td>35.838539</td>\n",
       "      <td>11.305073</td>\n",
       "      <td>12.521676</td>\n",
       "      <td>44.829959</td>\n",
       "      <td>33.902947</td>\n",
       "      <td>16.370314</td>\n",
       "      <td>18.819156</td>\n",
       "      <td>43.743579</td>\n",
       "      <td>27.139581</td>\n",
       "      <td>9.111002</td>\n",
       "    </tr>\n",
       "    <tr>\n",
       "      <th>7559</th>\n",
       "      <td>23.760729</td>\n",
       "      <td>16.616927</td>\n",
       "      <td>28.964605</td>\n",
       "      <td>13.451074</td>\n",
       "      <td>34.747011</td>\n",
       "      <td>40.199473</td>\n",
       "      <td>65.887410</td>\n",
       "      <td>6.544084</td>\n",
       "      <td>28.346618</td>\n",
       "      <td>26.941051</td>\n",
       "      <td>...</td>\n",
       "      <td>36.264481</td>\n",
       "      <td>11.195153</td>\n",
       "      <td>12.479613</td>\n",
       "      <td>45.565357</td>\n",
       "      <td>34.298892</td>\n",
       "      <td>16.222707</td>\n",
       "      <td>18.905482</td>\n",
       "      <td>43.364774</td>\n",
       "      <td>27.501055</td>\n",
       "      <td>9.081526</td>\n",
       "    </tr>\n",
       "    <tr>\n",
       "      <th>7560</th>\n",
       "      <td>23.728695</td>\n",
       "      <td>16.479229</td>\n",
       "      <td>28.680459</td>\n",
       "      <td>13.561690</td>\n",
       "      <td>34.739437</td>\n",
       "      <td>40.032527</td>\n",
       "      <td>65.609423</td>\n",
       "      <td>6.563116</td>\n",
       "      <td>28.340051</td>\n",
       "      <td>27.616392</td>\n",
       "      <td>...</td>\n",
       "      <td>36.719355</td>\n",
       "      <td>11.220894</td>\n",
       "      <td>12.455952</td>\n",
       "      <td>45.276954</td>\n",
       "      <td>34.648024</td>\n",
       "      <td>16.429151</td>\n",
       "      <td>19.003926</td>\n",
       "      <td>43.797913</td>\n",
       "      <td>27.400000</td>\n",
       "      <td>9.187461</td>\n",
       "    </tr>\n",
       "  </tbody>\n",
       "</table>\n",
       "<p>7561 rows × 500 columns</p>\n",
       "</div>"
      ],
      "text/plain": [
       "            0          1          2          3          4          5    \\\n",
       "0      1.000000   1.000000   1.000000   1.000000   1.000000   1.000000   \n",
       "1      1.007467   0.995167   0.996989   1.003233   1.009429   1.000106   \n",
       "2      1.004695   0.980873   0.984411   1.006364   1.002073   1.023032   \n",
       "3      1.006467   0.982632   0.987403   0.981663   0.981683   1.035435   \n",
       "4      1.015504   0.973812   0.994629   0.982625   0.994115   1.038549   \n",
       "...         ...        ...        ...        ...        ...        ...   \n",
       "7556  23.805523  16.880644  28.882398  13.306006  33.883514  39.551152   \n",
       "7557  23.759219  16.818008  28.976845  13.324901  34.357873  39.865112   \n",
       "7558  23.613404  16.660763  29.157682  13.369051  34.407909  40.237201   \n",
       "7559  23.760729  16.616927  28.964605  13.451074  34.747011  40.199473   \n",
       "7560  23.728695  16.479229  28.680459  13.561690  34.739437  40.032527   \n",
       "\n",
       "            6         7          8          9    ...        490        491  \\\n",
       "0      1.000000  1.000000   1.000000   1.000000  ...   1.000000   1.000000   \n",
       "1      1.003285  1.002684   1.006580   0.994953  ...   0.989942   0.998694   \n",
       "2      1.006922  1.007952   1.000213   0.994869  ...   0.983170   1.003343   \n",
       "3      1.025077  1.014843   0.996004   1.005752  ...   0.966360   1.020519   \n",
       "4      1.017926  1.008817   0.990472   0.995770  ...   0.969747   1.030776   \n",
       "...         ...       ...        ...        ...  ...        ...        ...   \n",
       "7556  65.672304  6.576105  29.012358  26.651943  ...  36.267021  11.264076   \n",
       "7557  65.696785  6.564004  28.818434  26.770505  ...  36.254478  11.284467   \n",
       "7558  65.644510  6.573485  28.276823  26.842562  ...  35.838539  11.305073   \n",
       "7559  65.887410  6.544084  28.346618  26.941051  ...  36.264481  11.195153   \n",
       "7560  65.609423  6.563116  28.340051  27.616392  ...  36.719355  11.220894   \n",
       "\n",
       "            492        493        494        495        496        497  \\\n",
       "0      1.000000   1.000000   1.000000   1.000000   1.000000   1.000000   \n",
       "1      1.013540   0.998471   0.996456   1.003053   0.995685   0.990246   \n",
       "2      1.015477   0.996160   1.002033   0.983284   1.013223   0.988601   \n",
       "3      1.013858   0.999153   0.993856   0.980874   1.027797   0.998325   \n",
       "4      1.020823   1.003102   0.998308   0.990412   1.033877   1.002641   \n",
       "...         ...        ...        ...        ...        ...        ...   \n",
       "7556  12.483433  43.812798  33.788111  16.356364  18.700062  43.590827   \n",
       "7557  12.450663  44.804328  33.812035  16.373193  18.796647  43.286028   \n",
       "7558  12.521676  44.829959  33.902947  16.370314  18.819156  43.743579   \n",
       "7559  12.479613  45.565357  34.298892  16.222707  18.905482  43.364774   \n",
       "7560  12.455952  45.276954  34.648024  16.429151  19.003926  43.797913   \n",
       "\n",
       "            498       499  \n",
       "0      1.000000  1.000000  \n",
       "1      1.010088  0.998080  \n",
       "2      1.017314  0.989193  \n",
       "3      1.024683  0.990600  \n",
       "4      1.028017  0.992137  \n",
       "...         ...       ...  \n",
       "7556  26.913773  8.918388  \n",
       "7557  26.838631  9.015158  \n",
       "7558  27.139581  9.111002  \n",
       "7559  27.501055  9.081526  \n",
       "7560  27.400000  9.187461  \n",
       "\n",
       "[7561 rows x 500 columns]"
      ]
     },
     "execution_count": 31,
     "metadata": {},
     "output_type": "execute_result"
    }
   ],
   "source": [
    "# Run the Monte Carlo simulation to forecast 30 years cumulative returns\n",
    "MC_60_40.calc_cumulative_return()\n"
   ]
  },
  {
   "cell_type": "code",
   "execution_count": 32,
   "metadata": {},
   "outputs": [
    {
     "data": {
      "image/png": "[encoded data removed]",
      "text/plain": [
       "<Figure size 432x288 with 1 Axes>"
      ]
     },
     "metadata": {
      "needs_background": "light"
     },
     "output_type": "display_data"
    }
   ],
   "source": [
    "# Visualize the 30-year Monte Carlo simulation by creating an\n",
    "# overlay line plot\n",
    "MC_60_40_line_plot = MC_60_40.plot_simulation()"
   ]
  },
  {
   "cell_type": "markdown",
   "metadata": {},
   "source": [
    "#### Step 3: Plot the probability distribution of the Monte Carlo simulation."
   ]
  },
  {
   "cell_type": "code",
   "execution_count": 33,
   "metadata": {},
   "outputs": [
    {
     "data": {
      "image/png": "[encoded data removed]",
      "text/plain": [
       "<Figure size 432x288 with 1 Axes>"
      ]
     },
     "metadata": {
      "needs_background": "light"
     },
     "output_type": "display_data"
    }
   ],
   "source": [
    "# Visualize the probability distribution of the 30-year Monte Carlo simulation \n",
    "# by plotting a histogram\n",
    "MC_60_40_distribution_plot = MC_60_40.plot_distribution()\n"
   ]
  },
  {
   "cell_type": "markdown",
   "metadata": {},
   "source": [
    "#### Step 4: Generate the summary statistics for the Monte Carlo simulation."
   ]
  },
  {
   "cell_type": "code",
   "execution_count": 34,
   "metadata": {},
   "outputs": [
    {
     "data": {
      "text/plain": [
       "count           500.000000\n",
       "mean             31.611480\n",
       "std              27.905454\n",
       "min               2.557540\n",
       "25%              13.319705\n",
       "50%              23.013909\n",
       "75%              39.904966\n",
       "max             206.291824\n",
       "95% CI Lower      5.114512\n",
       "95% CI Upper    105.441621\n",
       "Name: 7560, dtype: float64"
      ]
     },
     "execution_count": 34,
     "metadata": {},
     "output_type": "execute_result"
    }
   ],
   "source": [
    "# Generate summary statistics from the 30-year Monte Carlo simulation results\n",
    "# Save the results as a variable\n",
    "MC_60_40_table = MC_60_40.summarize_cumulative_return()\n",
    "\n",
    "\n",
    "# Review the 30-year Monte Carlo summary statistics\n",
    "MC_60_40_table"
   ]
  },
  {
   "cell_type": "markdown",
   "metadata": {},
   "source": [
    "### Analyze the Retirement Portfolio Forecasts\n",
    "\n",
    "Using the current value of only the stock and bond portion of the member's portfolio and the summary statistics that you generated from the Monte Carlo simulation, answer the following question in your Jupyter notebook:\n",
    "\n",
    "-  What are the lower and upper bounds for the expected value of the portfolio with a 95% confidence interval?\n"
   ]
  },
  {
   "cell_type": "code",
   "execution_count": 35,
   "metadata": {},
   "outputs": [
    {
     "name": "stdout",
     "output_type": "stream",
     "text": [
      "The current balance of the stock and bond portion of the member's portfolio is $72179.0\n"
     ]
    }
   ],
   "source": [
    "# Print the current balance of the stock and bond portion of the members portfolio\n",
    "print(f\"The current balance of the stock and bond portion of the member's\"\n",
    "      f\" portfolio is ${total_stocks_bonds}\")\n"
   ]
  },
  {
   "cell_type": "code",
   "execution_count": 36,
   "metadata": {},
   "outputs": [
    {
     "name": "stdout",
     "output_type": "stream",
     "text": [
      "Over the next 30 years, there is a 95% chance that the stock/bond portion of the portfolio with a 60/40 weighted SPY/AGG will end within the range of $369160.35 and $7610670.8.\n"
     ]
    }
   ],
   "source": [
    "# Use the lower and upper `95%` confidence intervals to calculate the range of the possible outcomes for the current stock/bond portfolio\n",
    "ci_lower_95_30years = round(MC_60_40_table[8] * total_stocks_bonds, 2)\n",
    "ci_upper_95_30years = round(MC_60_40_table[9] * total_stocks_bonds, 2)\n",
    "\n",
    "# Print the result of your calculations\n",
    "print(f\"Over the next 30 years, there is a 95% chance that the stock/bond portion of the portfolio\"\n",
    "      f\" with a 60/40 weighted SPY/AGG will end within the range of\"\n",
    "      f\" ${ci_lower_95_30years} and ${ci_upper_95_30years}.\")\n"
   ]
  },
  {
   "cell_type": "markdown",
   "metadata": {},
   "source": [
    "### Forecast Cumulative Returns in 10 Years\n",
    "\n",
    "The CTO of the credit union is impressed with your work on these planning tools but wonders if 30 years is a long time to wait until retirement. So, your next task is to adjust the retirement portfolio and run a new Monte Carlo simulation to find out if the changes will allow members to retire earlier.\n",
    "\n",
    "For this new Monte Carlo simulation, do the following: \n",
    "\n",
    "- Forecast the cumulative returns for 10 years from now. Because of the shortened investment horizon (30 years to 10 years), the portfolio needs to invest more heavily in the riskier asset&mdash;that is, stock&mdash;to help accumulate wealth for retirement. \n",
    "\n",
    "- Adjust the weights of the retirement portfolio so that the composition for the Monte Carlo simulation consists of 20% bonds and 80% stocks. \n",
    "\n",
    "- Run the simulation over 500 samples, and use the same data that the API call to Alpaca generated.\n",
    "\n",
    "- Based on the new Monte Carlo simulation, answer the following questions in your Jupyter notebook:\n",
    "\n",
    "    - Using the current value of only the stock and bond portion of the member's portfolio and the summary statistics that you generated from the new Monte Carlo simulation, what are the lower and upper bounds for the expected value of the portfolio (with the new weights) with a 95% confidence interval?\n",
    "\n",
    "    - Will weighting the portfolio more heavily toward stocks allow the credit union members to retire after only 10 years?\n"
   ]
  },
  {
   "cell_type": "code",
   "execution_count": 37,
   "metadata": {},
   "outputs": [
    {
     "data": {
      "text/html": [
       "<div>\n",
       "<style scoped>\n",
       "    .dataframe tbody tr th:only-of-type {\n",
       "        vertical-align: middle;\n",
       "    }\n",
       "\n",
       "    .dataframe tbody tr th {\n",
       "        vertical-align: top;\n",
       "    }\n",
       "\n",
       "    .dataframe thead tr th {\n",
       "        text-align: left;\n",
       "    }\n",
       "\n",
       "    .dataframe thead tr:last-of-type th {\n",
       "        text-align: right;\n",
       "    }\n",
       "</style>\n",
       "<table border=\"1\" class=\"dataframe\">\n",
       "  <thead>\n",
       "    <tr>\n",
       "      <th></th>\n",
       "      <th colspan=\"6\" halign=\"left\">AGG</th>\n",
       "      <th colspan=\"6\" halign=\"left\">SPY</th>\n",
       "    </tr>\n",
       "    <tr>\n",
       "      <th></th>\n",
       "      <th>open</th>\n",
       "      <th>high</th>\n",
       "      <th>low</th>\n",
       "      <th>close</th>\n",
       "      <th>volume</th>\n",
       "      <th>daily_return</th>\n",
       "      <th>open</th>\n",
       "      <th>high</th>\n",
       "      <th>low</th>\n",
       "      <th>close</th>\n",
       "      <th>volume</th>\n",
       "      <th>daily_return</th>\n",
       "    </tr>\n",
       "    <tr>\n",
       "      <th>time</th>\n",
       "      <th></th>\n",
       "      <th></th>\n",
       "      <th></th>\n",
       "      <th></th>\n",
       "      <th></th>\n",
       "      <th></th>\n",
       "      <th></th>\n",
       "      <th></th>\n",
       "      <th></th>\n",
       "      <th></th>\n",
       "      <th></th>\n",
       "      <th></th>\n",
       "    </tr>\n",
       "  </thead>\n",
       "  <tbody>\n",
       "    <tr>\n",
       "      <th>2018-09-10 00:00:00-04:00</th>\n",
       "      <td>105.85</td>\n",
       "      <td>105.9500</td>\n",
       "      <td>105.85</td>\n",
       "      <td>105.93</td>\n",
       "      <td>3085654.0</td>\n",
       "      <td>NaN</td>\n",
       "      <td>288.76</td>\n",
       "      <td>289.0400</td>\n",
       "      <td>287.880</td>\n",
       "      <td>288.09</td>\n",
       "      <td>32357518</td>\n",
       "      <td>NaN</td>\n",
       "    </tr>\n",
       "    <tr>\n",
       "      <th>2018-09-11 00:00:00-04:00</th>\n",
       "      <td>105.78</td>\n",
       "      <td>105.8400</td>\n",
       "      <td>105.70</td>\n",
       "      <td>105.73</td>\n",
       "      <td>1943309.0</td>\n",
       "      <td>-0.001888</td>\n",
       "      <td>287.37</td>\n",
       "      <td>289.5500</td>\n",
       "      <td>286.975</td>\n",
       "      <td>289.11</td>\n",
       "      <td>36335994</td>\n",
       "      <td>0.003541</td>\n",
       "    </tr>\n",
       "    <tr>\n",
       "      <th>2018-09-12 00:00:00-04:00</th>\n",
       "      <td>105.81</td>\n",
       "      <td>105.8900</td>\n",
       "      <td>105.80</td>\n",
       "      <td>105.80</td>\n",
       "      <td>2083656.0</td>\n",
       "      <td>0.000662</td>\n",
       "      <td>289.06</td>\n",
       "      <td>289.8000</td>\n",
       "      <td>288.230</td>\n",
       "      <td>289.16</td>\n",
       "      <td>46644377</td>\n",
       "      <td>0.000173</td>\n",
       "    </tr>\n",
       "    <tr>\n",
       "      <th>2018-09-13 00:00:00-04:00</th>\n",
       "      <td>105.96</td>\n",
       "      <td>106.0000</td>\n",
       "      <td>105.85</td>\n",
       "      <td>105.88</td>\n",
       "      <td>2076503.0</td>\n",
       "      <td>0.000756</td>\n",
       "      <td>290.32</td>\n",
       "      <td>291.0384</td>\n",
       "      <td>289.995</td>\n",
       "      <td>290.82</td>\n",
       "      <td>38536035</td>\n",
       "      <td>0.005741</td>\n",
       "    </tr>\n",
       "    <tr>\n",
       "      <th>2018-09-14 00:00:00-04:00</th>\n",
       "      <td>105.72</td>\n",
       "      <td>105.7899</td>\n",
       "      <td>105.66</td>\n",
       "      <td>105.67</td>\n",
       "      <td>2530495.0</td>\n",
       "      <td>-0.001983</td>\n",
       "      <td>291.06</td>\n",
       "      <td>291.2700</td>\n",
       "      <td>290.000</td>\n",
       "      <td>290.90</td>\n",
       "      <td>37322600</td>\n",
       "      <td>0.000275</td>\n",
       "    </tr>\n",
       "  </tbody>\n",
       "</table>\n",
       "</div>"
      ],
      "text/plain": [
       "                              AGG                                       \\\n",
       "                             open      high     low   close     volume   \n",
       "time                                                                     \n",
       "2018-09-10 00:00:00-04:00  105.85  105.9500  105.85  105.93  3085654.0   \n",
       "2018-09-11 00:00:00-04:00  105.78  105.8400  105.70  105.73  1943309.0   \n",
       "2018-09-12 00:00:00-04:00  105.81  105.8900  105.80  105.80  2083656.0   \n",
       "2018-09-13 00:00:00-04:00  105.96  106.0000  105.85  105.88  2076503.0   \n",
       "2018-09-14 00:00:00-04:00  105.72  105.7899  105.66  105.67  2530495.0   \n",
       "\n",
       "                                           SPY                             \\\n",
       "                          daily_return    open      high      low   close   \n",
       "time                                                                        \n",
       "2018-09-10 00:00:00-04:00          NaN  288.76  289.0400  287.880  288.09   \n",
       "2018-09-11 00:00:00-04:00    -0.001888  287.37  289.5500  286.975  289.11   \n",
       "2018-09-12 00:00:00-04:00     0.000662  289.06  289.8000  288.230  289.16   \n",
       "2018-09-13 00:00:00-04:00     0.000756  290.32  291.0384  289.995  290.82   \n",
       "2018-09-14 00:00:00-04:00    -0.001983  291.06  291.2700  290.000  290.90   \n",
       "\n",
       "                                                  \n",
       "                             volume daily_return  \n",
       "time                                              \n",
       "2018-09-10 00:00:00-04:00  32357518          NaN  \n",
       "2018-09-11 00:00:00-04:00  36335994     0.003541  \n",
       "2018-09-12 00:00:00-04:00  46644377     0.000173  \n",
       "2018-09-13 00:00:00-04:00  38536035     0.005741  \n",
       "2018-09-14 00:00:00-04:00  37322600     0.000275  "
      ]
     },
     "execution_count": 37,
     "metadata": {},
     "output_type": "execute_result"
    }
   ],
   "source": [
    "# Configure a Monte Carlo simulation to forecast 10 years cumulative returns\n",
    "# The weights should be split 20% to AGG and 80% to SPY.\n",
    "# Run 500 samples.\n",
    "MC_80_20 = MCSimulation(\n",
    "    portfolio_data = price_data,\n",
    "    weights = [0.2, 0.8],\n",
    "    num_simulation = 500,\n",
    "    num_trading_days = 252*10\n",
    ")\n",
    "\n",
    "# Review the simulation input data\n",
    "MC_80_20.portfolio_data.head()\n"
   ]
  },
  {
   "cell_type": "code",
   "execution_count": 38,
   "metadata": {},
   "outputs": [
    {
     "name": "stdout",
     "output_type": "stream",
     "text": [
      "Running Monte Carlo simulation number 0.\n",
      "Running Monte Carlo simulation number 10.\n",
      "Running Monte Carlo simulation number 20.\n",
      "Running Monte Carlo simulation number 30.\n",
      "Running Monte Carlo simulation number 40.\n",
      "Running Monte Carlo simulation number 50.\n",
      "Running Monte Carlo simulation number 60.\n",
      "Running Monte Carlo simulation number 70.\n",
      "Running Monte Carlo simulation number 80.\n",
      "Running Monte Carlo simulation number 90.\n",
      "Running Monte Carlo simulation number 100.\n",
      "Running Monte Carlo simulation number 110.\n",
      "Running Monte Carlo simulation number 120.\n",
      "Running Monte Carlo simulation number 130.\n",
      "Running Monte Carlo simulation number 140.\n",
      "Running Monte Carlo simulation number 150.\n",
      "Running Monte Carlo simulation number 160.\n",
      "Running Monte Carlo simulation number 170.\n",
      "Running Monte Carlo simulation number 180.\n",
      "Running Monte Carlo simulation number 190.\n",
      "Running Monte Carlo simulation number 200.\n",
      "Running Monte Carlo simulation number 210.\n",
      "Running Monte Carlo simulation number 220.\n",
      "Running Monte Carlo simulation number 230.\n",
      "Running Monte Carlo simulation number 240.\n",
      "Running Monte Carlo simulation number 250.\n",
      "Running Monte Carlo simulation number 260.\n",
      "Running Monte Carlo simulation number 270.\n",
      "Running Monte Carlo simulation number 280.\n",
      "Running Monte Carlo simulation number 290.\n",
      "Running Monte Carlo simulation number 300.\n",
      "Running Monte Carlo simulation number 310.\n",
      "Running Monte Carlo simulation number 320.\n",
      "Running Monte Carlo simulation number 330.\n",
      "Running Monte Carlo simulation number 340.\n",
      "Running Monte Carlo simulation number 350.\n",
      "Running Monte Carlo simulation number 360.\n",
      "Running Monte Carlo simulation number 370.\n",
      "Running Monte Carlo simulation number 380.\n",
      "Running Monte Carlo simulation number 390.\n",
      "Running Monte Carlo simulation number 400.\n",
      "Running Monte Carlo simulation number 410.\n",
      "Running Monte Carlo simulation number 420.\n",
      "Running Monte Carlo simulation number 430.\n",
      "Running Monte Carlo simulation number 440.\n",
      "Running Monte Carlo simulation number 450.\n",
      "Running Monte Carlo simulation number 460.\n",
      "Running Monte Carlo simulation number 470.\n",
      "Running Monte Carlo simulation number 480.\n",
      "Running Monte Carlo simulation number 490.\n"
     ]
    },
    {
     "data": {
      "text/html": [
       "<div>\n",
       "<style scoped>\n",
       "    .dataframe tbody tr th:only-of-type {\n",
       "        vertical-align: middle;\n",
       "    }\n",
       "\n",
       "    .dataframe tbody tr th {\n",
       "        vertical-align: top;\n",
       "    }\n",
       "\n",
       "    .dataframe thead th {\n",
       "        text-align: right;\n",
       "    }\n",
       "</style>\n",
       "<table border=\"1\" class=\"dataframe\">\n",
       "  <thead>\n",
       "    <tr style=\"text-align: right;\">\n",
       "      <th></th>\n",
       "      <th>0</th>\n",
       "      <th>1</th>\n",
       "      <th>2</th>\n",
       "      <th>3</th>\n",
       "      <th>4</th>\n",
       "      <th>5</th>\n",
       "      <th>6</th>\n",
       "      <th>7</th>\n",
       "      <th>8</th>\n",
       "      <th>9</th>\n",
       "      <th>...</th>\n",
       "      <th>490</th>\n",
       "      <th>491</th>\n",
       "      <th>492</th>\n",
       "      <th>493</th>\n",
       "      <th>494</th>\n",
       "      <th>495</th>\n",
       "      <th>496</th>\n",
       "      <th>497</th>\n",
       "      <th>498</th>\n",
       "      <th>499</th>\n",
       "    </tr>\n",
       "  </thead>\n",
       "  <tbody>\n",
       "    <tr>\n",
       "      <th>0</th>\n",
       "      <td>1.000000</td>\n",
       "      <td>1.000000</td>\n",
       "      <td>1.000000</td>\n",
       "      <td>1.000000</td>\n",
       "      <td>1.000000</td>\n",
       "      <td>1.000000</td>\n",
       "      <td>1.000000</td>\n",
       "      <td>1.000000</td>\n",
       "      <td>1.000000</td>\n",
       "      <td>1.000000</td>\n",
       "      <td>...</td>\n",
       "      <td>1.000000</td>\n",
       "      <td>1.000000</td>\n",
       "      <td>1.000000</td>\n",
       "      <td>1.000000</td>\n",
       "      <td>1.000000</td>\n",
       "      <td>1.000000</td>\n",
       "      <td>1.000000</td>\n",
       "      <td>1.000000</td>\n",
       "      <td>1.000000</td>\n",
       "      <td>1.000000</td>\n",
       "    </tr>\n",
       "    <tr>\n",
       "      <th>1</th>\n",
       "      <td>1.019259</td>\n",
       "      <td>0.991808</td>\n",
       "      <td>0.991347</td>\n",
       "      <td>1.010405</td>\n",
       "      <td>1.004801</td>\n",
       "      <td>0.989493</td>\n",
       "      <td>0.998976</td>\n",
       "      <td>0.998776</td>\n",
       "      <td>1.002654</td>\n",
       "      <td>1.009087</td>\n",
       "      <td>...</td>\n",
       "      <td>1.010085</td>\n",
       "      <td>1.010357</td>\n",
       "      <td>1.000780</td>\n",
       "      <td>1.000532</td>\n",
       "      <td>0.980949</td>\n",
       "      <td>0.994684</td>\n",
       "      <td>1.003820</td>\n",
       "      <td>0.998882</td>\n",
       "      <td>0.995616</td>\n",
       "      <td>1.023304</td>\n",
       "    </tr>\n",
       "    <tr>\n",
       "      <th>2</th>\n",
       "      <td>1.033030</td>\n",
       "      <td>0.974685</td>\n",
       "      <td>0.992826</td>\n",
       "      <td>1.033674</td>\n",
       "      <td>1.037252</td>\n",
       "      <td>0.991971</td>\n",
       "      <td>1.004491</td>\n",
       "      <td>1.003397</td>\n",
       "      <td>1.010075</td>\n",
       "      <td>1.003426</td>\n",
       "      <td>...</td>\n",
       "      <td>0.999318</td>\n",
       "      <td>1.009819</td>\n",
       "      <td>1.004937</td>\n",
       "      <td>0.979544</td>\n",
       "      <td>0.963487</td>\n",
       "      <td>0.994705</td>\n",
       "      <td>1.011492</td>\n",
       "      <td>1.016943</td>\n",
       "      <td>0.975642</td>\n",
       "      <td>0.995891</td>\n",
       "    </tr>\n",
       "    <tr>\n",
       "      <th>3</th>\n",
       "      <td>1.036946</td>\n",
       "      <td>0.960600</td>\n",
       "      <td>0.986288</td>\n",
       "      <td>1.042077</td>\n",
       "      <td>1.017493</td>\n",
       "      <td>0.996159</td>\n",
       "      <td>1.020981</td>\n",
       "      <td>1.030893</td>\n",
       "      <td>1.015332</td>\n",
       "      <td>0.998499</td>\n",
       "      <td>...</td>\n",
       "      <td>0.984432</td>\n",
       "      <td>0.996620</td>\n",
       "      <td>1.005818</td>\n",
       "      <td>0.987255</td>\n",
       "      <td>0.973458</td>\n",
       "      <td>0.999014</td>\n",
       "      <td>1.030440</td>\n",
       "      <td>1.032031</td>\n",
       "      <td>0.980887</td>\n",
       "      <td>1.001843</td>\n",
       "    </tr>\n",
       "    <tr>\n",
       "      <th>4</th>\n",
       "      <td>1.016371</td>\n",
       "      <td>0.963479</td>\n",
       "      <td>0.977033</td>\n",
       "      <td>1.048911</td>\n",
       "      <td>1.030618</td>\n",
       "      <td>0.998382</td>\n",
       "      <td>1.038450</td>\n",
       "      <td>1.033905</td>\n",
       "      <td>1.023758</td>\n",
       "      <td>1.006796</td>\n",
       "      <td>...</td>\n",
       "      <td>0.989769</td>\n",
       "      <td>0.985226</td>\n",
       "      <td>0.998331</td>\n",
       "      <td>0.971311</td>\n",
       "      <td>0.983776</td>\n",
       "      <td>0.999223</td>\n",
       "      <td>1.025717</td>\n",
       "      <td>1.047557</td>\n",
       "      <td>0.977077</td>\n",
       "      <td>1.009914</td>\n",
       "    </tr>\n",
       "    <tr>\n",
       "      <th>...</th>\n",
       "      <td>...</td>\n",
       "      <td>...</td>\n",
       "      <td>...</td>\n",
       "      <td>...</td>\n",
       "      <td>...</td>\n",
       "      <td>...</td>\n",
       "      <td>...</td>\n",
       "      <td>...</td>\n",
       "      <td>...</td>\n",
       "      <td>...</td>\n",
       "      <td>...</td>\n",
       "      <td>...</td>\n",
       "      <td>...</td>\n",
       "      <td>...</td>\n",
       "      <td>...</td>\n",
       "      <td>...</td>\n",
       "      <td>...</td>\n",
       "      <td>...</td>\n",
       "      <td>...</td>\n",
       "      <td>...</td>\n",
       "      <td>...</td>\n",
       "    </tr>\n",
       "    <tr>\n",
       "      <th>2516</th>\n",
       "      <td>9.509510</td>\n",
       "      <td>4.117327</td>\n",
       "      <td>10.904847</td>\n",
       "      <td>0.629563</td>\n",
       "      <td>5.193071</td>\n",
       "      <td>1.887547</td>\n",
       "      <td>3.739437</td>\n",
       "      <td>2.152523</td>\n",
       "      <td>2.053512</td>\n",
       "      <td>6.871954</td>\n",
       "      <td>...</td>\n",
       "      <td>4.155472</td>\n",
       "      <td>2.084819</td>\n",
       "      <td>10.090084</td>\n",
       "      <td>3.687697</td>\n",
       "      <td>1.958678</td>\n",
       "      <td>2.672027</td>\n",
       "      <td>2.279985</td>\n",
       "      <td>1.839110</td>\n",
       "      <td>3.500111</td>\n",
       "      <td>0.978245</td>\n",
       "    </tr>\n",
       "    <tr>\n",
       "      <th>2517</th>\n",
       "      <td>9.479341</td>\n",
       "      <td>4.124838</td>\n",
       "      <td>11.022178</td>\n",
       "      <td>0.636157</td>\n",
       "      <td>5.228179</td>\n",
       "      <td>1.859936</td>\n",
       "      <td>3.777826</td>\n",
       "      <td>2.123851</td>\n",
       "      <td>2.050573</td>\n",
       "      <td>6.909432</td>\n",
       "      <td>...</td>\n",
       "      <td>4.020803</td>\n",
       "      <td>2.074976</td>\n",
       "      <td>10.246508</td>\n",
       "      <td>3.680847</td>\n",
       "      <td>1.978046</td>\n",
       "      <td>2.699159</td>\n",
       "      <td>2.255445</td>\n",
       "      <td>1.842329</td>\n",
       "      <td>3.487994</td>\n",
       "      <td>0.975443</td>\n",
       "    </tr>\n",
       "    <tr>\n",
       "      <th>2518</th>\n",
       "      <td>9.509183</td>\n",
       "      <td>4.134226</td>\n",
       "      <td>10.888189</td>\n",
       "      <td>0.642365</td>\n",
       "      <td>5.212303</td>\n",
       "      <td>1.827500</td>\n",
       "      <td>3.822950</td>\n",
       "      <td>2.090930</td>\n",
       "      <td>2.051097</td>\n",
       "      <td>6.885540</td>\n",
       "      <td>...</td>\n",
       "      <td>3.998432</td>\n",
       "      <td>2.067998</td>\n",
       "      <td>9.914272</td>\n",
       "      <td>3.685416</td>\n",
       "      <td>1.965686</td>\n",
       "      <td>2.701990</td>\n",
       "      <td>2.240218</td>\n",
       "      <td>1.828596</td>\n",
       "      <td>3.488831</td>\n",
       "      <td>0.956211</td>\n",
       "    </tr>\n",
       "    <tr>\n",
       "      <th>2519</th>\n",
       "      <td>9.368676</td>\n",
       "      <td>4.113415</td>\n",
       "      <td>10.922294</td>\n",
       "      <td>0.641239</td>\n",
       "      <td>5.076567</td>\n",
       "      <td>1.859701</td>\n",
       "      <td>3.857158</td>\n",
       "      <td>2.146440</td>\n",
       "      <td>2.065787</td>\n",
       "      <td>6.745970</td>\n",
       "      <td>...</td>\n",
       "      <td>4.026765</td>\n",
       "      <td>2.065532</td>\n",
       "      <td>10.083959</td>\n",
       "      <td>3.650439</td>\n",
       "      <td>1.983375</td>\n",
       "      <td>2.693086</td>\n",
       "      <td>2.217362</td>\n",
       "      <td>1.860461</td>\n",
       "      <td>3.463395</td>\n",
       "      <td>0.967760</td>\n",
       "    </tr>\n",
       "    <tr>\n",
       "      <th>2520</th>\n",
       "      <td>9.283614</td>\n",
       "      <td>4.105500</td>\n",
       "      <td>10.885381</td>\n",
       "      <td>0.655364</td>\n",
       "      <td>5.103030</td>\n",
       "      <td>1.890482</td>\n",
       "      <td>3.786331</td>\n",
       "      <td>2.123024</td>\n",
       "      <td>2.063099</td>\n",
       "      <td>6.683608</td>\n",
       "      <td>...</td>\n",
       "      <td>4.027037</td>\n",
       "      <td>2.103072</td>\n",
       "      <td>10.139268</td>\n",
       "      <td>3.760853</td>\n",
       "      <td>1.988653</td>\n",
       "      <td>2.686025</td>\n",
       "      <td>2.246124</td>\n",
       "      <td>1.876333</td>\n",
       "      <td>3.467076</td>\n",
       "      <td>0.966908</td>\n",
       "    </tr>\n",
       "  </tbody>\n",
       "</table>\n",
       "<p>2521 rows × 500 columns</p>\n",
       "</div>"
      ],
      "text/plain": [
       "           0         1          2         3         4         5         6    \\\n",
       "0     1.000000  1.000000   1.000000  1.000000  1.000000  1.000000  1.000000   \n",
       "1     1.019259  0.991808   0.991347  1.010405  1.004801  0.989493  0.998976   \n",
       "2     1.033030  0.974685   0.992826  1.033674  1.037252  0.991971  1.004491   \n",
       "3     1.036946  0.960600   0.986288  1.042077  1.017493  0.996159  1.020981   \n",
       "4     1.016371  0.963479   0.977033  1.048911  1.030618  0.998382  1.038450   \n",
       "...        ...       ...        ...       ...       ...       ...       ...   \n",
       "2516  9.509510  4.117327  10.904847  0.629563  5.193071  1.887547  3.739437   \n",
       "2517  9.479341  4.124838  11.022178  0.636157  5.228179  1.859936  3.777826   \n",
       "2518  9.509183  4.134226  10.888189  0.642365  5.212303  1.827500  3.822950   \n",
       "2519  9.368676  4.113415  10.922294  0.641239  5.076567  1.859701  3.857158   \n",
       "2520  9.283614  4.105500  10.885381  0.655364  5.103030  1.890482  3.786331   \n",
       "\n",
       "           7         8         9    ...       490       491        492  \\\n",
       "0     1.000000  1.000000  1.000000  ...  1.000000  1.000000   1.000000   \n",
       "1     0.998776  1.002654  1.009087  ...  1.010085  1.010357   1.000780   \n",
       "2     1.003397  1.010075  1.003426  ...  0.999318  1.009819   1.004937   \n",
       "3     1.030893  1.015332  0.998499  ...  0.984432  0.996620   1.005818   \n",
       "4     1.033905  1.023758  1.006796  ...  0.989769  0.985226   0.998331   \n",
       "...        ...       ...       ...  ...       ...       ...        ...   \n",
       "2516  2.152523  2.053512  6.871954  ...  4.155472  2.084819  10.090084   \n",
       "2517  2.123851  2.050573  6.909432  ...  4.020803  2.074976  10.246508   \n",
       "2518  2.090930  2.051097  6.885540  ...  3.998432  2.067998   9.914272   \n",
       "2519  2.146440  2.065787  6.745970  ...  4.026765  2.065532  10.083959   \n",
       "2520  2.123024  2.063099  6.683608  ...  4.027037  2.103072  10.139268   \n",
       "\n",
       "           493       494       495       496       497       498       499  \n",
       "0     1.000000  1.000000  1.000000  1.000000  1.000000  1.000000  1.000000  \n",
       "1     1.000532  0.980949  0.994684  1.003820  0.998882  0.995616  1.023304  \n",
       "2     0.979544  0.963487  0.994705  1.011492  1.016943  0.975642  0.995891  \n",
       "3     0.987255  0.973458  0.999014  1.030440  1.032031  0.980887  1.001843  \n",
       "4     0.971311  0.983776  0.999223  1.025717  1.047557  0.977077  1.009914  \n",
       "...        ...       ...       ...       ...       ...       ...       ...  \n",
       "2516  3.687697  1.958678  2.672027  2.279985  1.839110  3.500111  0.978245  \n",
       "2517  3.680847  1.978046  2.699159  2.255445  1.842329  3.487994  0.975443  \n",
       "2518  3.685416  1.965686  2.701990  2.240218  1.828596  3.488831  0.956211  \n",
       "2519  3.650439  1.983375  2.693086  2.217362  1.860461  3.463395  0.967760  \n",
       "2520  3.760853  1.988653  2.686025  2.246124  1.876333  3.467076  0.966908  \n",
       "\n",
       "[2521 rows x 500 columns]"
      ]
     },
     "execution_count": 38,
     "metadata": {},
     "output_type": "execute_result"
    }
   ],
   "source": [
    "# Run the Monte Carlo simulation to forecast 10 years cumulative returns\n",
    "MC_80_20.calc_cumulative_return()\n"
   ]
  },
  {
   "cell_type": "code",
   "execution_count": 39,
   "metadata": {},
   "outputs": [
    {
     "data": {
      "image/png": "[encoded data removed]",
      "text/plain": [
       "<Figure size 432x288 with 1 Axes>"
      ]
     },
     "metadata": {
      "needs_background": "light"
     },
     "output_type": "display_data"
    }
   ],
   "source": [
    "# Visualize the 10-year Monte Carlo simulation by creating an\n",
    "# overlay line plot\n",
    "MC_80_20_line_plot = MC_80_20.plot_simulation()\n"
   ]
  },
  {
   "cell_type": "code",
   "execution_count": 40,
   "metadata": {},
   "outputs": [
    {
     "data": {
      "image/png": "[encoded data removed]",
      "text/plain": [
       "<Figure size 432x288 with 1 Axes>"
      ]
     },
     "metadata": {
      "needs_background": "light"
     },
     "output_type": "display_data"
    }
   ],
   "source": [
    "# Visualize the probability distribution of the 10-year Monte Carlo simulation \n",
    "# by plotting a histogram\n",
    "MC_80_20_distribution_plot = MC_80_20.plot_distribution()\n"
   ]
  },
  {
   "cell_type": "code",
   "execution_count": 41,
   "metadata": {},
   "outputs": [
    {
     "data": {
      "text/plain": [
       "count           500.000000\n",
       "mean              4.249958\n",
       "std               2.960784\n",
       "min               0.655364\n",
       "25%               2.164376\n",
       "50%               3.451091\n",
       "75%               5.342262\n",
       "max              29.539482\n",
       "95% CI Lower      1.138864\n",
       "95% CI Upper     11.530893\n",
       "Name: 2520, dtype: float64"
      ]
     },
     "execution_count": 41,
     "metadata": {},
     "output_type": "execute_result"
    }
   ],
   "source": [
    "# Generate summary statistics from the 10-year Monte Carlo simulation results\n",
    "# Save the results as a variable\n",
    "MC_80_20_table = MC_80_20.summarize_cumulative_return()\n",
    "\n",
    "\n",
    "# Review the 10-year Monte Carlo summary statistics\n",
    "MC_80_20_table"
   ]
  },
  {
   "cell_type": "markdown",
   "metadata": {},
   "source": [
    "### Answer the following questions:"
   ]
  },
  {
   "cell_type": "markdown",
   "metadata": {},
   "source": [
    "#### Question: Using the current value of only the stock and bond portion of the member's portfolio and the summary statistics that you generated from the new Monte Carlo simulation, what are the lower and upper bounds for the expected value of the portfolio (with the new weights) with a 95% confidence interval?"
   ]
  },
  {
   "cell_type": "code",
   "execution_count": 42,
   "metadata": {},
   "outputs": [
    {
     "name": "stdout",
     "output_type": "stream",
     "text": [
      "The current balance of the stock and bond portion of the member's portfolio is $72179.0\n"
     ]
    }
   ],
   "source": [
    "# Print the current balance of the stock and bond portion of the members portfolio\n",
    "print(f\"The current balance of the stock and bond portion of the member's\"\n",
    "      f\" portfolio is ${total_stocks_bonds}\")\n"
   ]
  },
  {
   "cell_type": "code",
   "execution_count": 43,
   "metadata": {},
   "outputs": [
    {
     "name": "stdout",
     "output_type": "stream",
     "text": [
      "Over the next 10 years, there is a 95% chance that the stock/bond portion of the portfolio with a 80/20 weighted SPY/AGG will end within the range of $82202.09 and $832288.36.\n"
     ]
    }
   ],
   "source": [
    "# Use the lower and upper `95%` confidence intervals to calculate the range of the possible outcomes for the current stock/bond portfolio\n",
    "ci_lower_95_10years = round(MC_80_20_table[8] * total_stocks_bonds, 2)\n",
    "ci_upper_95_10years = round(MC_80_20_table[9] * total_stocks_bonds, 2)\n",
    "\n",
    "# Print the result of your calculations\n",
    "print(f\"Over the next 10 years, there is a 95% chance that the stock/bond portion of the portfolio\"\n",
    "      f\" with a 80/20 weighted SPY/AGG will end within the range of\"\n",
    "      f\" ${ci_lower_95_10years} and ${ci_upper_95_10years}.\")\n"
   ]
  },
  {
   "cell_type": "markdown",
   "metadata": {},
   "source": [
    "#### Question: Will weighting the portfolio more heavily to stocks allow the credit union members to retire after only 10 years?"
   ]
  },
  {
   "cell_type": "markdown",
   "metadata": {},
   "source": [
    "**Answer** \n",
    "\n",
    "`A \"sufficient\" retirement portfolio will differ depending on many factors, including a person's age, spending habits, debts, etc., so there's no definite answer. However, the 10 year estimated returns seem a bit low for the average retirment lifestyle. A more agressive portfolio (80/20 - stocks/bonds) can increase the growth rate from a traditional 60/40 portfolio, but it can also expose you to more risk. This was shown by the minimum returns in each simulation: the 10-year saw a negative return (0.65 x original investment) compared to the 30-year which saw a positive return (2.56 x original investment). It seems that the 10-year 80/20 portfolio did not produce a high enough return for most people to be comfortable in retirement. This shows that the amount of time in the market really matters, and with more time there is more opportunity for compounding growth while maintaining a less risky portfolio composition. After 30 years in a 60/40 portfolio, the maximum return could be as great as 7.6 million dollars!`"
   ]
  },
  {
   "cell_type": "code",
   "execution_count": null,
   "metadata": {},
   "outputs": [],
   "source": []
  }
 ],
 "metadata": {
  "kernelspec": {
   "display_name": "dev",
   "language": "python",
   "name": "dev"
  },
  "language_info": {
   "codemirror_mode": {
    "name": "ipython",
    "version": 3
   },
   "file_extension": ".py",
   "mimetype": "text/x-python",
   "name": "python",
   "nbconvert_exporter": "python",
   "pygments_lexer": "ipython3",
   "version": "3.7.10"
  }
 },
 "nbformat": 4,
 "nbformat_minor": 4
}
