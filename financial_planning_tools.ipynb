{
 "cells": [
  {
   "cell_type": "markdown",
   "metadata": {},
   "source": [
    "# Financial Planning with APIs and Simulations\n",
    "\n",
    "In this Challenge, you’ll create two financial analysis tools by using a single Jupyter notebook:\n",
    "\n",
    "Part 1: A financial planner for emergencies. The members will be able to use this tool to visualize their current savings. The members can then determine if they have enough reserves for an emergency fund.\n",
    "\n",
    "Part 2: A financial planner for retirement. This tool will forecast the performance of their retirement portfolio in 30 years. To do this, the tool will make an Alpaca API call via the Alpaca SDK to get historical price data for use in Monte Carlo simulations.\n",
    "\n",
    "You’ll use the information from the Monte Carlo simulation to answer questions about the portfolio in your Jupyter notebook.\n",
    "\n"
   ]
  },
  {
   "cell_type": "code",
   "execution_count": 1,
   "metadata": {},
   "outputs": [],
   "source": [
    "# Import the required libraries and dependencies\n",
    "import os\n",
    "import requests\n",
    "import json\n",
    "import pandas as pd\n",
    "from dotenv import load_dotenv\n",
    "import alpaca_trade_api as tradeapi\n",
    "from MCForecastTools import MCSimulation\n",
    "\n",
    "%matplotlib inline"
   ]
  },
  {
   "cell_type": "code",
   "execution_count": 2,
   "metadata": {},
   "outputs": [
    {
     "data": {
      "text/plain": [
       "True"
      ]
     },
     "execution_count": 2,
     "metadata": {},
     "output_type": "execute_result"
    }
   ],
   "source": [
    "# Load the environment variables from the .env file\n",
    "#by calling the load_dotenv function\n",
    "load_dotenv()"
   ]
  },
  {
   "cell_type": "markdown",
   "metadata": {},
   "source": [
    "## Part 1: Create a Financial Planner for Emergencies"
   ]
  },
  {
   "cell_type": "markdown",
   "metadata": {},
   "source": [
    "### Evaluate the Cryptocurrency Wallet by Using the Requests Library\n",
    "\n",
    "In this section, you’ll determine the current value of a member’s cryptocurrency wallet. You’ll collect the current prices for the Bitcoin and Ethereum cryptocurrencies by using the Python Requests library. For the prototype, you’ll assume that the member holds the 1.2 Bitcoins (BTC) and 5.3 Ethereum coins (ETH). To do all this, complete the following steps:\n",
    "\n",
    "1. Create a variable named `monthly_income`, and set its value to `12000`.\n",
    "\n",
    "2. Use the Requests library to get the current price (in US dollars) of Bitcoin (BTC) and Ethereum (ETH) by using the API endpoints that the starter code supplies.\n",
    "\n",
    "3. Navigate the JSON response object to access the current price of each coin, and store each in a variable.\n",
    "\n",
    "    > **Hint** Note the specific identifier for each cryptocurrency in the API JSON response. The Bitcoin identifier is `1`, and the Ethereum identifier is `1027`.\n",
    "\n",
    "4. Calculate the value, in US dollars, of the current amount of each cryptocurrency and of the entire cryptocurrency wallet.\n",
    "\n"
   ]
  },
  {
   "cell_type": "code",
   "execution_count": 3,
   "metadata": {},
   "outputs": [],
   "source": [
    "# The current number of coins for each cryptocurrency asset held in the portfolio.\n",
    "btc_coins = 1.2\n",
    "eth_coins = 5.3"
   ]
  },
  {
   "cell_type": "markdown",
   "metadata": {},
   "source": [
    "#### Step 1: Create a variable named `monthly_income`, and set its value to `12000`."
   ]
  },
  {
   "cell_type": "code",
   "execution_count": 4,
   "metadata": {},
   "outputs": [],
   "source": [
    "# The monthly amount for the member's household income\n",
    "monthly_income = 12000\n"
   ]
  },
  {
   "cell_type": "markdown",
   "metadata": {},
   "source": [
    "#### Review the endpoint URLs for the API calls to Free Crypto API in order to get the current pricing information for both BTC and ETH."
   ]
  },
  {
   "cell_type": "code",
   "execution_count": 5,
   "metadata": {},
   "outputs": [],
   "source": [
    "# The Free Crypto API Call endpoint URLs for the held cryptocurrency assets\n",
    "btc_url = \"https://api.alternative.me/v2/ticker/Bitcoin/?convert=USD\"\n",
    "eth_url = \"https://api.alternative.me/v2/ticker/Ethereum/?convert=USD\""
   ]
  },
  {
   "cell_type": "markdown",
   "metadata": {},
   "source": [
    "#### Step 2. Use the Requests library to get the current price (in US dollars) of Bitcoin (BTC) and Ethereum (ETH) by using the API endpoints that the starter code supplied."
   ]
  },
  {
   "cell_type": "code",
   "execution_count": 6,
   "metadata": {},
   "outputs": [
    {
     "name": "stdout",
     "output_type": "stream",
     "text": [
      "{\n",
      "     \"data\": {\n",
      "          \"1\": {\n",
      "               \"circulating_supply\": 18818956,\n",
      "               \"id\": 1,\n",
      "               \"last_updated\": 1631936021,\n",
      "               \"max_supply\": 21000000,\n",
      "               \"name\": \"Bitcoin\",\n",
      "               \"quotes\": {\n",
      "                    \"USD\": {\n",
      "                         \"market_cap\": 903423070313,\n",
      "                         \"percent_change_1h\": 0.381765285654538,\n",
      "                         \"percent_change_24h\": -0.001913171289888,\n",
      "                         \"percent_change_7d\": 7.18665903786409,\n",
      "                         \"percentage_change_1h\": 0.381765285654538,\n",
      "                         \"percentage_change_24h\": -0.001913171289888,\n",
      "                         \"percentage_change_7d\": 7.18665903786409,\n",
      "                         \"price\": 48022.0,\n",
      "                         \"volume_24h\": 28786541694\n",
      "                    }\n",
      "               },\n",
      "               \"rank\": 1,\n",
      "               \"symbol\": \"BTC\",\n",
      "               \"total_supply\": 18818956,\n",
      "               \"website_slug\": \"bitcoin\"\n",
      "          }\n",
      "     },\n",
      "     \"metadata\": {\n",
      "          \"error\": null,\n",
      "          \"num_cryptocurrencies\": 3105,\n",
      "          \"timestamp\": 1631936021\n",
      "     }\n",
      "}\n"
     ]
    }
   ],
   "source": [
    "# Using the Python requests library, make an API call to access the current price of BTC\n",
    "btc_response = requests.get(btc_url).json()\n",
    "\n",
    "# Use the json.dumps function to review the response data from the API call\n",
    "# Use the indent and sort_keys parameters to make the response object readable\n",
    "print(json.dumps(btc_response, indent=5, sort_keys=True))\n"
   ]
  },
  {
   "cell_type": "code",
   "execution_count": 7,
   "metadata": {},
   "outputs": [
    {
     "name": "stdout",
     "output_type": "stream",
     "text": [
      "{\n",
      "     \"data\": {\n",
      "          \"1027\": {\n",
      "               \"circulating_supply\": 117569044,\n",
      "               \"id\": 1027,\n",
      "               \"last_updated\": 1631936049,\n",
      "               \"max_supply\": 0,\n",
      "               \"name\": \"Ethereum\",\n",
      "               \"quotes\": {\n",
      "                    \"USD\": {\n",
      "                         \"market_cap\": 405789609667,\n",
      "                         \"percent_change_1h\": 0.442370102470957,\n",
      "                         \"percent_change_24h\": -3.50425988355688,\n",
      "                         \"percent_change_7d\": 7.63028391090358,\n",
      "                         \"percentage_change_1h\": 0.442370102470957,\n",
      "                         \"percentage_change_24h\": -3.50425988355688,\n",
      "                         \"percentage_change_7d\": 7.63028391090358,\n",
      "                         \"price\": 3454.84,\n",
      "                         \"volume_24h\": 18752223331\n",
      "                    }\n",
      "               },\n",
      "               \"rank\": 2,\n",
      "               \"symbol\": \"ETH\",\n",
      "               \"total_supply\": 117569044,\n",
      "               \"website_slug\": \"ethereum\"\n",
      "          }\n",
      "     },\n",
      "     \"metadata\": {\n",
      "          \"error\": null,\n",
      "          \"num_cryptocurrencies\": 3105,\n",
      "          \"timestamp\": 1631936049\n",
      "     }\n",
      "}\n"
     ]
    }
   ],
   "source": [
    "# Using the Python requests library, make an API call to access the current price ETH\n",
    "eth_response = requests.get(eth_url).json()\n",
    "\n",
    "# Use the json.dumps function to review the response data from the API call\n",
    "# Use the indent and sort_keys parameters to make the response object readable\n",
    "print(json.dumps(eth_response, indent=5, sort_keys=True))\n"
   ]
  },
  {
   "cell_type": "markdown",
   "metadata": {},
   "source": [
    "#### Step 3: Navigate the JSON response object to access the current price of each coin, and store each in a variable."
   ]
  },
  {
   "cell_type": "code",
   "execution_count": 8,
   "metadata": {},
   "outputs": [
    {
     "name": "stdout",
     "output_type": "stream",
     "text": [
      "The current price of Bitcoin is $48022.0\n"
     ]
    }
   ],
   "source": [
    "# Navigate the BTC response object to access the current price of BTC\n",
    "btc_price = btc_response[\"data\"][\"1\"][\"quotes\"][\"USD\"][\"price\"]\n",
    "\n",
    "# Print the current price of BTC\n",
    "print(f\"The current price of Bitcoin is ${btc_price}\")\n"
   ]
  },
  {
   "cell_type": "code",
   "execution_count": 9,
   "metadata": {},
   "outputs": [
    {
     "name": "stdout",
     "output_type": "stream",
     "text": [
      "The current price of Ethereum is $3454.84\n"
     ]
    }
   ],
   "source": [
    "# Navigate the BTC response object to access the current price of ETH\n",
    "eth_price = eth_response[\"data\"][\"1027\"][\"quotes\"][\"USD\"][\"price\"]\n",
    "\n",
    "# Print the current price of ETH\n",
    "print(f\"The current price of Ethereum is ${eth_price}\")\n"
   ]
  },
  {
   "cell_type": "markdown",
   "metadata": {},
   "source": [
    "### Step 4: Calculate the value, in US dollars, of the current amount of each cryptocurrency and of the entire cryptocurrency wallet."
   ]
  },
  {
   "cell_type": "code",
   "execution_count": 10,
   "metadata": {},
   "outputs": [
    {
     "name": "stdout",
     "output_type": "stream",
     "text": [
      "The current value of BTC holdings is $57626.4\n"
     ]
    }
   ],
   "source": [
    "# Compute the current value of the BTC holding \n",
    "btc_value = btc_price * btc_coins\n",
    "\n",
    "# Print current value of your holding in BTC\n",
    "print(f\"The current value of BTC holdings is ${btc_value}\")\n"
   ]
  },
  {
   "cell_type": "code",
   "execution_count": 11,
   "metadata": {},
   "outputs": [
    {
     "name": "stdout",
     "output_type": "stream",
     "text": [
      "The current value of ETH holdings is $18310.652000000002\n"
     ]
    }
   ],
   "source": [
    "# Compute the current value of the ETH holding \n",
    "eth_value = eth_price * eth_coins\n",
    "\n",
    "# Print current value of your holding in ETH\n",
    "print(f\"The current value of ETH holdings is ${eth_value}\")\n"
   ]
  },
  {
   "cell_type": "code",
   "execution_count": 12,
   "metadata": {},
   "outputs": [
    {
     "name": "stdout",
     "output_type": "stream",
     "text": [
      "The curent value of the cryptocurrency wallet is $75937.052\n"
     ]
    }
   ],
   "source": [
    "# Compute the total value of the cryptocurrency wallet\n",
    "# Add the value of the BTC holding to the value of the ETH holding\n",
    "total_crypto_wallet = btc_value + eth_value\n",
    "\n",
    "# Print current cryptocurrency wallet balance\n",
    "print(f\"The curent value of the cryptocurrency wallet is ${total_crypto_wallet}\")\n"
   ]
  },
  {
   "cell_type": "markdown",
   "metadata": {},
   "source": [
    "### Evaluate the Stock and Bond Holdings by Using the Alpaca SDK\n",
    "\n",
    "In this section, you’ll determine the current value of a member’s stock and bond holdings. You’ll make an API call to Alpaca via the Alpaca SDK to get the current closing prices of the SPDR S&P 500 ETF Trust (ticker: SPY) and of the iShares Core US Aggregate Bond ETF (ticker: AGG). For the prototype, assume that the member holds 110 shares of SPY, which represents the stock portion of their portfolio, and 200 shares of AGG, which represents the bond portion. To do all this, complete the following steps:\n",
    "\n",
    "1. In the `Starter_Code` folder, create an environment file (`.env`) to store the values of your Alpaca API key and Alpaca secret key.\n",
    "\n",
    "2. Set the variables for the Alpaca API and secret keys. Using the Alpaca SDK, create the Alpaca `tradeapi.REST` object. In this object, include the parameters for the Alpaca API key, the secret key, and the version number.\n",
    "\n",
    "3. Set the following parameters for the Alpaca API call:\n",
    "\n",
    "    - `tickers`: Use the tickers for the member’s stock and bond holdings.\n",
    "\n",
    "    - `timeframe`: Use a time frame of one day.\n",
    "\n",
    "    - `start_date` and `end_date`: Use the same date for these parameters, and format them with the date of the previous weekday (or `2020-08-07`). This is because you want the one closing price for the most-recent trading day.\n",
    "\n",
    "4. Get the current closing prices for `SPY` and `AGG` by using the Alpaca `get_barset` function. Format the response as a Pandas DataFrame by including the `df` property at the end of the `get_barset` function.\n",
    "\n",
    "5. Navigating the Alpaca response DataFrame, select the `SPY` and `AGG` closing prices, and store them as variables.\n",
    "\n",
    "6. Calculate the value, in US dollars, of the current amount of shares in each of the stock and bond portions of the portfolio, and print the results.\n"
   ]
  },
  {
   "cell_type": "markdown",
   "metadata": {},
   "source": [
    "#### Review the total number of shares held in both (SPY) and (AGG)."
   ]
  },
  {
   "cell_type": "code",
   "execution_count": 13,
   "metadata": {},
   "outputs": [],
   "source": [
    "# Current amount of shares held in both the stock (SPY) and bond (AGG) portion of the portfolio.\n",
    "spy_shares = 110\n",
    "agg_shares = 200\n"
   ]
  },
  {
   "cell_type": "markdown",
   "metadata": {},
   "source": [
    "#### Step 1: In the `Starter_Code` folder, create an environment file (`.env`) to store the values of your Alpaca API key and Alpaca secret key."
   ]
  },
  {
   "cell_type": "markdown",
   "metadata": {},
   "source": [
    "#### Step 2: Set the variables for the Alpaca API and secret keys. Using the Alpaca SDK, create the Alpaca `tradeapi.REST` object. In this object, include the parameters for the Alpaca API key, the secret key, and the version number."
   ]
  },
  {
   "cell_type": "code",
   "execution_count": 14,
   "metadata": {},
   "outputs": [
    {
     "data": {
      "text/plain": [
       "str"
      ]
     },
     "metadata": {},
     "output_type": "display_data"
    },
    {
     "data": {
      "text/plain": [
       "str"
      ]
     },
     "metadata": {},
     "output_type": "display_data"
    }
   ],
   "source": [
    "# Set the variables for the Alpaca API and secret keys\n",
    "alpaca_api_key = os.getenv(\"ALPACA_API_KEY\")\n",
    "alpaca_secret_key = os.getenv(\"ALPACA_SECRET_KEY\")\n",
    "\n",
    "# Create the Alpaca tradeapi.REST object\n",
    "alpaca = tradeapi.REST(\n",
    "    alpaca_api_key,\n",
    "    alpaca_secret_key,\n",
    "    api_version = \"v2\"\n",
    ")\n",
    "\n",
    "display(type(alpaca_api_key))\n",
    "display(type(alpaca_secret_key))"
   ]
  },
  {
   "cell_type": "markdown",
   "metadata": {},
   "source": [
    "#### Step 3: Set the following parameters for the Alpaca API call:\n",
    "\n",
    "- `tickers`: Use the tickers for the member’s stock and bond holdings.\n",
    "\n",
    "- `timeframe`: Use a time frame of one day.\n",
    "\n",
    "- `start_date` and `end_date`: Use the same date for these parameters, and format them with the date of the previous weekday (or `2020-08-07`). This is because you want the one closing price for the most-recent trading day.\n"
   ]
  },
  {
   "cell_type": "code",
   "execution_count": 15,
   "metadata": {},
   "outputs": [],
   "source": [
    "# Set the tickers for both the bond and stock portion of the portfolio\n",
    "tickers = [\"SPY\", \"AGG\"]\n",
    "\n",
    "# Set timeframe to 1D \n",
    "timeframe = \"1D\"\n",
    "\n",
    "# Format current date as ISO format\n",
    "# Set both the start and end date at the date of your prior weekday \n",
    "# This will give you the closing price of the previous trading day\n",
    "# Alternatively you can use a start and end date of 2020-08-07\n",
    "start_date = pd.Timestamp(\"2021-09-10\", tz=\"America/New_York\").isoformat()\n",
    "end_date = pd.Timestamp(\"2021-09-10\", tz=\"America/New_York\").isoformat()\n"
   ]
  },
  {
   "cell_type": "markdown",
   "metadata": {},
   "source": [
    "#### Step 4: Get the current closing prices for `SPY` and `AGG` by using the Alpaca `get_barset` function. Format the response as a Pandas DataFrame by including the `df` property at the end of the `get_barset` function."
   ]
  },
  {
   "cell_type": "code",
   "execution_count": 16,
   "metadata": {},
   "outputs": [
    {
     "data": {
      "text/html": [
       "<div>\n",
       "<style scoped>\n",
       "    .dataframe tbody tr th:only-of-type {\n",
       "        vertical-align: middle;\n",
       "    }\n",
       "\n",
       "    .dataframe tbody tr th {\n",
       "        vertical-align: top;\n",
       "    }\n",
       "\n",
       "    .dataframe thead tr th {\n",
       "        text-align: left;\n",
       "    }\n",
       "\n",
       "    .dataframe thead tr:last-of-type th {\n",
       "        text-align: right;\n",
       "    }\n",
       "</style>\n",
       "<table border=\"1\" class=\"dataframe\">\n",
       "  <thead>\n",
       "    <tr>\n",
       "      <th></th>\n",
       "      <th colspan=\"5\" halign=\"left\">AGG</th>\n",
       "      <th colspan=\"5\" halign=\"left\">SPY</th>\n",
       "    </tr>\n",
       "    <tr>\n",
       "      <th></th>\n",
       "      <th>open</th>\n",
       "      <th>high</th>\n",
       "      <th>low</th>\n",
       "      <th>close</th>\n",
       "      <th>volume</th>\n",
       "      <th>open</th>\n",
       "      <th>high</th>\n",
       "      <th>low</th>\n",
       "      <th>close</th>\n",
       "      <th>volume</th>\n",
       "    </tr>\n",
       "    <tr>\n",
       "      <th>time</th>\n",
       "      <th></th>\n",
       "      <th></th>\n",
       "      <th></th>\n",
       "      <th></th>\n",
       "      <th></th>\n",
       "      <th></th>\n",
       "      <th></th>\n",
       "      <th></th>\n",
       "      <th></th>\n",
       "      <th></th>\n",
       "    </tr>\n",
       "  </thead>\n",
       "  <tbody>\n",
       "    <tr>\n",
       "      <th>2021-09-10 00:00:00-04:00</th>\n",
       "      <td>115.99</td>\n",
       "      <td>116.01</td>\n",
       "      <td>115.7801</td>\n",
       "      <td>115.87</td>\n",
       "      <td>2767552</td>\n",
       "      <td>451.04</td>\n",
       "      <td>451.49</td>\n",
       "      <td>445.31</td>\n",
       "      <td>445.5</td>\n",
       "      <td>75763259</td>\n",
       "    </tr>\n",
       "  </tbody>\n",
       "</table>\n",
       "</div>"
      ],
      "text/plain": [
       "                              AGG                                        SPY  \\\n",
       "                             open    high       low   close   volume    open   \n",
       "time                                                                           \n",
       "2021-09-10 00:00:00-04:00  115.99  116.01  115.7801  115.87  2767552  451.04   \n",
       "\n",
       "                                                            \n",
       "                             high     low  close    volume  \n",
       "time                                                        \n",
       "2021-09-10 00:00:00-04:00  451.49  445.31  445.5  75763259  "
      ]
     },
     "execution_count": 16,
     "metadata": {},
     "output_type": "execute_result"
    }
   ],
   "source": [
    "# Use the Alpaca get_barset function to get current closing prices the portfolio\n",
    "# Be sure to set the `df` property after the function to format the response object as a DataFrame\n",
    "closing_prices = alpaca.get_barset(\n",
    "    tickers,\n",
    "    timeframe,\n",
    "    start = start_date,\n",
    "    end = end_date\n",
    ").df\n",
    "\n",
    "# Review the Alpaca DataFrame\n",
    "closing_prices\n"
   ]
  },
  {
   "cell_type": "markdown",
   "metadata": {},
   "source": [
    "#### Step 5: Navigating the Alpaca response DataFrame, select the `SPY` and `AGG` closing prices, and store them as variables."
   ]
  },
  {
   "cell_type": "code",
   "execution_count": 17,
   "metadata": {},
   "outputs": [
    {
     "name": "stdout",
     "output_type": "stream",
     "text": [
      "115.87\n"
     ]
    }
   ],
   "source": [
    "# Access the closing price for AGG from the Alpaca DataFrame\n",
    "# Converting the value to a floating point number\n",
    "agg_close_price = float(closing_prices[\"AGG\"][\"close\"])\n",
    "\n",
    "# Print the AGG closing price\n",
    "print(agg_close_price)\n"
   ]
  },
  {
   "cell_type": "code",
   "execution_count": 18,
   "metadata": {},
   "outputs": [
    {
     "name": "stdout",
     "output_type": "stream",
     "text": [
      "445.5\n"
     ]
    }
   ],
   "source": [
    "# Access the closing price for SPY from the Alpaca DataFrame\n",
    "# Converting the value to a floating point number\n",
    "spy_close_price = float(closing_prices[\"SPY\"][\"close\"])\n",
    "\n",
    "# Print the SPY closing price\n",
    "print(spy_close_price)\n"
   ]
  },
  {
   "cell_type": "markdown",
   "metadata": {},
   "source": [
    "#### Step 6: Calculate the value, in US dollars, of the current amount of shares in each of the stock and bond portions of the portfolio, and print the results."
   ]
  },
  {
   "cell_type": "code",
   "execution_count": 19,
   "metadata": {},
   "outputs": [
    {
     "name": "stdout",
     "output_type": "stream",
     "text": [
      "The current value of the bond portion of the portfolio is $23174.0\n"
     ]
    }
   ],
   "source": [
    "# Calculate the current value of the bond portion of the portfolio\n",
    "agg_value = agg_close_price * agg_shares\n",
    "\n",
    "# Print the current value of the bond portfolio\n",
    "print(f\"The current value of the bond portion of the portfolio is ${agg_value}\")\n"
   ]
  },
  {
   "cell_type": "code",
   "execution_count": 20,
   "metadata": {},
   "outputs": [
    {
     "name": "stdout",
     "output_type": "stream",
     "text": [
      "The current value of the stock portion of the portfolio is $49005.0\n"
     ]
    }
   ],
   "source": [
    "# Calculate the current value of the stock portion of the portfolio\n",
    "spy_value = spy_close_price * spy_shares\n",
    "\n",
    "# Print the current value of the stock portfolio\n",
    "print(f\"The current value of the stock portion of the portfolio is ${spy_value}\")\n"
   ]
  },
  {
   "cell_type": "code",
   "execution_count": 21,
   "metadata": {},
   "outputs": [
    {
     "name": "stdout",
     "output_type": "stream",
     "text": [
      "The current value of the stock and bond portion of the portfolio is $72179.0\n"
     ]
    }
   ],
   "source": [
    "# Calculate the total value of the stock and bond portion of the portfolio\n",
    "total_stocks_bonds = agg_value + spy_value\n",
    "\n",
    "# Print the current balance of the stock and bond portion of the portfolio\n",
    "print(f\"The current value of the stock and bond portion of the portfolio is ${total_stocks_bonds}\")\n"
   ]
  },
  {
   "cell_type": "code",
   "execution_count": 22,
   "metadata": {},
   "outputs": [
    {
     "name": "stdout",
     "output_type": "stream",
     "text": [
      "The current value of the entire portfolio is $148116.052\n"
     ]
    }
   ],
   "source": [
    "# Calculate the total value of the member's entire savings portfolio\n",
    "# Add the value of the cryptocurrency wallet to the value of the total stocks and bonds\n",
    "total_portfolio = total_stocks_bonds + total_crypto_wallet\n",
    "\n",
    "# Print current cryptocurrency wallet balance\n",
    "print(f\"The current value of the entire portfolio is ${total_portfolio}\")\n"
   ]
  },
  {
   "cell_type": "markdown",
   "metadata": {},
   "source": [
    "### Evaluate the Emergency Fund\n",
    "\n",
    "In this section, you’ll use the valuations for the cryptocurrency wallet and for the stock and bond portions of the portfolio to determine if the credit union member has enough savings to build an emergency fund into their financial plan. To do this, complete the following steps:\n",
    "\n",
    "1. Create a Python list named `savings_data` that has two elements. The first element contains the total value of the cryptocurrency wallet. The second element contains the total value of the stock and bond portions of the portfolio.\n",
    "\n",
    "2. Use the `savings_data` list to create a Pandas DataFrame named `savings_df`, and then display this DataFrame. The function to create the DataFrame should take the following three parameters:\n",
    "\n",
    "    - `savings_data`: Use the list that you just created.\n",
    "\n",
    "    - `columns`: Set this parameter equal to a Python list with a single value called `amount`.\n",
    "\n",
    "    - `index`: Set this parameter equal to a Python list with the values of `crypto` and `stock/bond`.\n",
    "\n",
    "3. Use the `savings_df` DataFrame to plot a pie chart that visualizes the composition of the member’s portfolio. The y-axis of the pie chart uses `amount`. Be sure to add a title.\n",
    "\n",
    "4. Using Python, determine if the current portfolio has enough to create an emergency fund as part of the member’s financial plan. Ideally, an emergency fund should equal to three times the member’s monthly income. To do this, implement the following steps:\n",
    "\n",
    "    1. Create a variable named `emergency_fund_value`, and set it equal to three times the value of the member’s `monthly_income` of $12000. (You set this earlier in Part 1).\n",
    "\n",
    "    2. Create a series of three if statements to determine if the member’s total portfolio is large enough to fund the emergency portfolio:\n",
    "\n",
    "        1. If the total portfolio value is greater than the emergency fund value, display a message congratulating the member for having enough money in this fund.\n",
    "\n",
    "        2. Else if the total portfolio value is equal to the emergency fund value, display a message congratulating the member on reaching this important financial goal.\n",
    "\n",
    "        3. Else the total portfolio is less than the emergency fund value, so display a message showing how many dollars away the member is from reaching the goal. (Subtract the total portfolio value from the emergency fund value.)\n"
   ]
  },
  {
   "cell_type": "markdown",
   "metadata": {},
   "source": [
    "#### Step 1: Create a Python list named `savings_data` that has two elements. The first element contains the total value of the cryptocurrency wallet. The second element contains the total value of the stock and bond portions of the portfolio."
   ]
  },
  {
   "cell_type": "code",
   "execution_count": 23,
   "metadata": {},
   "outputs": [
    {
     "data": {
      "text/plain": [
       "[75937.052, 72179.0]"
      ]
     },
     "execution_count": 23,
     "metadata": {},
     "output_type": "execute_result"
    }
   ],
   "source": [
    "# Consolidate financial assets data into a Python list\n",
    "savings_data = [total_crypto_wallet, total_stocks_bonds]\n",
    "\n",
    "# Review the Python list savings_data\n",
    "savings_data\n",
    "    "
   ]
  },
  {
   "cell_type": "markdown",
   "metadata": {},
   "source": [
    "#### Step 2: Use the `savings_data` list to create a Pandas DataFrame named `savings_df`, and then display this DataFrame. The function to create the DataFrame should take the following three parameters:\n",
    "\n",
    "- `savings_data`: Use the list that you just created.\n",
    "\n",
    "- `columns`: Set this parameter equal to a Python list with a single value called `amount`.\n",
    "\n",
    "- `index`: Set this parameter equal to a Python list with the values of `crypto` and `stock/bond`.\n"
   ]
  },
  {
   "cell_type": "code",
   "execution_count": 24,
   "metadata": {},
   "outputs": [
    {
     "data": {
      "text/html": [
       "<div>\n",
       "<style scoped>\n",
       "    .dataframe tbody tr th:only-of-type {\n",
       "        vertical-align: middle;\n",
       "    }\n",
       "\n",
       "    .dataframe tbody tr th {\n",
       "        vertical-align: top;\n",
       "    }\n",
       "\n",
       "    .dataframe thead th {\n",
       "        text-align: right;\n",
       "    }\n",
       "</style>\n",
       "<table border=\"1\" class=\"dataframe\">\n",
       "  <thead>\n",
       "    <tr style=\"text-align: right;\">\n",
       "      <th></th>\n",
       "      <th>amount</th>\n",
       "    </tr>\n",
       "  </thead>\n",
       "  <tbody>\n",
       "    <tr>\n",
       "      <th>crypto</th>\n",
       "      <td>75937.052</td>\n",
       "    </tr>\n",
       "    <tr>\n",
       "      <th>stocks/bonds</th>\n",
       "      <td>72179.000</td>\n",
       "    </tr>\n",
       "  </tbody>\n",
       "</table>\n",
       "</div>"
      ],
      "text/plain": [
       "                 amount\n",
       "crypto        75937.052\n",
       "stocks/bonds  72179.000"
      ]
     },
     "execution_count": 24,
     "metadata": {},
     "output_type": "execute_result"
    }
   ],
   "source": [
    "# Create a Pandas DataFrame called savings_df \n",
    "savings_df = pd.DataFrame(\n",
    "    savings_data,\n",
    "    columns = [\"amount\"],\n",
    "    index = [\"crypto\", \"stocks/bonds\"]\n",
    ")\n",
    "\n",
    "# Display the savings_df DataFrame\n",
    "savings_df\n"
   ]
  },
  {
   "cell_type": "markdown",
   "metadata": {},
   "source": [
    "#### Step 3: Use the `savings_df` DataFrame to plot a pie chart that visualizes the composition of the member’s portfolio. The y-axis of the pie chart uses `amount`. Be sure to add a title."
   ]
  },
  {
   "cell_type": "code",
   "execution_count": 25,
   "metadata": {},
   "outputs": [
    {
     "data": {
      "text/plain": [
       "<AxesSubplot:title={'center':'Portfolio Composition: Crypto vs. Stocks/Bonds'}, ylabel='amount'>"
      ]
     },
     "execution_count": 25,
     "metadata": {},
     "output_type": "execute_result"
    },
    {
     "data": {
      "image/png": "[encoded data removed]",
      "text/plain": [
       "<Figure size 504x504 with 1 Axes>"
      ]
     },
     "metadata": {},
     "output_type": "display_data"
    }
   ],
   "source": [
    "# Plot the total value of the member's portfolio (crypto and stock/bond) in a pie chart\n",
    "savings_df.plot.pie(\n",
    "    figsize = (7,7),\n",
    "    y = 'amount', \n",
    "    title = 'Portfolio Composition: Crypto vs. Stocks/Bonds'\n",
    ")\n"
   ]
  },
  {
   "cell_type": "markdown",
   "metadata": {},
   "source": [
    "#### Step 4: Using Python, determine if the current portfolio has enough to create an emergency fund as part of the member’s financial plan. Ideally, an emergency fund should equal to three times the member’s monthly income. To do this, implement the following steps:\n",
    "\n",
    "Step 1. Create a variable named `emergency_fund_value`, and set it equal to three times the value of the member’s `monthly_income` of 12000. (You set this earlier in Part 1).\n",
    "\n",
    "Step 2. Create a series of three if statements to determine if the member’s total portfolio is large enough to fund the emergency portfolio:\n",
    "\n",
    "* If the total portfolio value is greater than the emergency fund value, display a message congratulating the member for having enough money in this fund.\n",
    "\n",
    "* Else if the total portfolio value is equal to the emergency fund value, display a message congratulating the member on reaching this important financial goal.\n",
    "\n",
    "* Else the total portfolio is less than the emergency fund value, so display a message showing how many dollars away the member is from reaching the goal. (Subtract the total portfolio value from the emergency fund value.)\n"
   ]
  },
  {
   "cell_type": "markdown",
   "metadata": {},
   "source": [
    "##### Step 4-1: Create a variable named `emergency_fund_value`, and set it equal to three times the value of the member’s `monthly_income` of 12000. (You set this earlier in Part 1)."
   ]
  },
  {
   "cell_type": "code",
   "execution_count": 26,
   "metadata": {},
   "outputs": [
    {
     "name": "stdout",
     "output_type": "stream",
     "text": [
      "$36000\n"
     ]
    }
   ],
   "source": [
    "# Create a variable named emergency_fund_value\n",
    "emergency_fund_value = 3 * monthly_income\n",
    "\n",
    "print(f\"${emergency_fund_value}\")\n"
   ]
  },
  {
   "cell_type": "markdown",
   "metadata": {},
   "source": [
    "##### Step 4-2: Create a series of three if statements to determine if the member’s total portfolio is large enough to fund the emergency portfolio:\n",
    "\n",
    "* If the total portfolio value is greater than the emergency fund value, display a message congratulating the member for having enough money in this fund.\n",
    "\n",
    "* Else if the total portfolio value is equal to the emergency fund value, display a message congratulating the member on reaching this important financial goal.\n",
    "\n",
    "* Else the total portfolio is less than the emergency fund value, so display a message showing how many dollars away the member is from reaching the goal. (Subtract the total portfolio value from the emergency fund value.)"
   ]
  },
  {
   "cell_type": "code",
   "execution_count": 27,
   "metadata": {},
   "outputs": [
    {
     "name": "stdout",
     "output_type": "stream",
     "text": [
      "Congrats! You have enough money in your portfolio to create an emergency fund!\n"
     ]
    }
   ],
   "source": [
    "# Evaluate the possibility of creating an emergency fund with 3 conditions:\n",
    "if total_portfolio > emergency_fund_value:\n",
    "    print(\"Congrats! You have enough money in your portfolio to create an emergency fund!\")\n",
    "if total_portfolio == emergency_fund_value:\n",
    "    print(\"Congrats! Your portfolio has reached the amount required to create an emergency fund!\")\n",
    "if total_portfolio < emergency_fund_value:\n",
    "    print(f\"You are ${emergency_fund_value - total_portfolio} away from reaching the amount needed for an emergency fund.\")\n"
   ]
  },
  {
   "cell_type": "markdown",
   "metadata": {},
   "source": [
    "## Part 2: Create a Financial Planner for Retirement"
   ]
  },
  {
   "cell_type": "markdown",
   "metadata": {},
   "source": [
    "### Create the Monte Carlo Simulation\n",
    "\n",
    "In this section, you’ll use the MCForecastTools library to create a Monte Carlo simulation for the member’s savings portfolio. To do this, complete the following steps:\n",
    "\n",
    "1. Make an API call via the Alpaca SDK to get 3 years of historical closing prices for a traditional 60/40 portfolio split: 60% stocks (SPY) and 40% bonds (AGG).\n",
    "\n",
    "2. Run a Monte Carlo simulation of 500 samples and 30 years for the 60/40 portfolio, and then plot the results.The following image shows the overlay line plot resulting from a simulation with these characteristics. However, because a random number generator is used to run each live Monte Carlo simulation, your image will differ slightly from this exact image:\n",
    "\n",
    "![A screenshot depicts the resulting plot.](Images/5-4-monte-carlo-line-plot.png)\n",
    "\n",
    "3. Plot the probability distribution of the Monte Carlo simulation. Plot the probability distribution of the Monte Carlo simulation. The following image shows the histogram plot resulting from a simulation with these characteristics. However, because a random number generator is used to run each live Monte Carlo simulation, your image will differ slightly from this exact image:\n",
    "\n",
    "![A screenshot depicts the histogram plot.](Images/5-4-monte-carlo-histogram.png)\n",
    "\n",
    "4. Generate the summary statistics for the Monte Carlo simulation.\n",
    "\n"
   ]
  },
  {
   "cell_type": "markdown",
   "metadata": {},
   "source": [
    "#### Step 1: Make an API call via the Alpaca SDK to get 3 years of historical closing prices for a traditional 60/40 portfolio split: 60% stocks (SPY) and 40% bonds (AGG)."
   ]
  },
  {
   "cell_type": "code",
   "execution_count": 28,
   "metadata": {},
   "outputs": [],
   "source": [
    "# Set start and end dates of 3 years back from current date\n",
    "start_date = pd.Timestamp(\"2018-09-10\", tz=\"America/New_York\").isoformat()\n",
    "end_date = pd.Timestamp(\"2021-09-10\", tz=\"America/New_York\").isoformat()\n",
    "\n",
    "# Set number of rows to 1000 to retrieve the maximum amount of rows\n",
    "limit_rows = 1000"
   ]
  },
  {
   "cell_type": "code",
   "execution_count": 29,
   "metadata": {},
   "outputs": [
    {
     "data": {
      "text/html": [
       "<div>\n",
       "<style scoped>\n",
       "    .dataframe tbody tr th:only-of-type {\n",
       "        vertical-align: middle;\n",
       "    }\n",
       "\n",
       "    .dataframe tbody tr th {\n",
       "        vertical-align: top;\n",
       "    }\n",
       "\n",
       "    .dataframe thead tr th {\n",
       "        text-align: left;\n",
       "    }\n",
       "\n",
       "    .dataframe thead tr:last-of-type th {\n",
       "        text-align: right;\n",
       "    }\n",
       "</style>\n",
       "<table border=\"1\" class=\"dataframe\">\n",
       "  <thead>\n",
       "    <tr>\n",
       "      <th></th>\n",
       "      <th colspan=\"5\" halign=\"left\">AGG</th>\n",
       "      <th colspan=\"5\" halign=\"left\">SPY</th>\n",
       "    </tr>\n",
       "    <tr>\n",
       "      <th></th>\n",
       "      <th>open</th>\n",
       "      <th>high</th>\n",
       "      <th>low</th>\n",
       "      <th>close</th>\n",
       "      <th>volume</th>\n",
       "      <th>open</th>\n",
       "      <th>high</th>\n",
       "      <th>low</th>\n",
       "      <th>close</th>\n",
       "      <th>volume</th>\n",
       "    </tr>\n",
       "    <tr>\n",
       "      <th>time</th>\n",
       "      <th></th>\n",
       "      <th></th>\n",
       "      <th></th>\n",
       "      <th></th>\n",
       "      <th></th>\n",
       "      <th></th>\n",
       "      <th></th>\n",
       "      <th></th>\n",
       "      <th></th>\n",
       "      <th></th>\n",
       "    </tr>\n",
       "  </thead>\n",
       "  <tbody>\n",
       "    <tr>\n",
       "      <th>2018-09-10 00:00:00-04:00</th>\n",
       "      <td>105.85</td>\n",
       "      <td>105.9500</td>\n",
       "      <td>105.85</td>\n",
       "      <td>105.93</td>\n",
       "      <td>3085654.0</td>\n",
       "      <td>288.76</td>\n",
       "      <td>289.0400</td>\n",
       "      <td>287.880</td>\n",
       "      <td>288.09</td>\n",
       "      <td>32357518</td>\n",
       "    </tr>\n",
       "    <tr>\n",
       "      <th>2018-09-11 00:00:00-04:00</th>\n",
       "      <td>105.78</td>\n",
       "      <td>105.8400</td>\n",
       "      <td>105.70</td>\n",
       "      <td>105.73</td>\n",
       "      <td>1943309.0</td>\n",
       "      <td>287.37</td>\n",
       "      <td>289.5500</td>\n",
       "      <td>286.975</td>\n",
       "      <td>289.11</td>\n",
       "      <td>36335994</td>\n",
       "    </tr>\n",
       "    <tr>\n",
       "      <th>2018-09-12 00:00:00-04:00</th>\n",
       "      <td>105.81</td>\n",
       "      <td>105.8900</td>\n",
       "      <td>105.80</td>\n",
       "      <td>105.80</td>\n",
       "      <td>2083656.0</td>\n",
       "      <td>289.06</td>\n",
       "      <td>289.8000</td>\n",
       "      <td>288.230</td>\n",
       "      <td>289.16</td>\n",
       "      <td>46644377</td>\n",
       "    </tr>\n",
       "    <tr>\n",
       "      <th>2018-09-13 00:00:00-04:00</th>\n",
       "      <td>105.96</td>\n",
       "      <td>106.0000</td>\n",
       "      <td>105.85</td>\n",
       "      <td>105.88</td>\n",
       "      <td>2076503.0</td>\n",
       "      <td>290.32</td>\n",
       "      <td>291.0384</td>\n",
       "      <td>289.995</td>\n",
       "      <td>290.82</td>\n",
       "      <td>38536035</td>\n",
       "    </tr>\n",
       "    <tr>\n",
       "      <th>2018-09-14 00:00:00-04:00</th>\n",
       "      <td>105.72</td>\n",
       "      <td>105.7899</td>\n",
       "      <td>105.66</td>\n",
       "      <td>105.67</td>\n",
       "      <td>2530495.0</td>\n",
       "      <td>291.06</td>\n",
       "      <td>291.2700</td>\n",
       "      <td>290.000</td>\n",
       "      <td>290.90</td>\n",
       "      <td>37322600</td>\n",
       "    </tr>\n",
       "  </tbody>\n",
       "</table>\n",
       "</div>"
      ],
      "text/plain": [
       "                              AGG                                       \\\n",
       "                             open      high     low   close     volume   \n",
       "time                                                                     \n",
       "2018-09-10 00:00:00-04:00  105.85  105.9500  105.85  105.93  3085654.0   \n",
       "2018-09-11 00:00:00-04:00  105.78  105.8400  105.70  105.73  1943309.0   \n",
       "2018-09-12 00:00:00-04:00  105.81  105.8900  105.80  105.80  2083656.0   \n",
       "2018-09-13 00:00:00-04:00  105.96  106.0000  105.85  105.88  2076503.0   \n",
       "2018-09-14 00:00:00-04:00  105.72  105.7899  105.66  105.67  2530495.0   \n",
       "\n",
       "                              SPY                                       \n",
       "                             open      high      low   close    volume  \n",
       "time                                                                    \n",
       "2018-09-10 00:00:00-04:00  288.76  289.0400  287.880  288.09  32357518  \n",
       "2018-09-11 00:00:00-04:00  287.37  289.5500  286.975  289.11  36335994  \n",
       "2018-09-12 00:00:00-04:00  289.06  289.8000  288.230  289.16  46644377  \n",
       "2018-09-13 00:00:00-04:00  290.32  291.0384  289.995  290.82  38536035  \n",
       "2018-09-14 00:00:00-04:00  291.06  291.2700  290.000  290.90  37322600  "
      ]
     },
     "metadata": {},
     "output_type": "display_data"
    },
    {
     "data": {
      "text/html": [
       "<div>\n",
       "<style scoped>\n",
       "    .dataframe tbody tr th:only-of-type {\n",
       "        vertical-align: middle;\n",
       "    }\n",
       "\n",
       "    .dataframe tbody tr th {\n",
       "        vertical-align: top;\n",
       "    }\n",
       "\n",
       "    .dataframe thead tr th {\n",
       "        text-align: left;\n",
       "    }\n",
       "\n",
       "    .dataframe thead tr:last-of-type th {\n",
       "        text-align: right;\n",
       "    }\n",
       "</style>\n",
       "<table border=\"1\" class=\"dataframe\">\n",
       "  <thead>\n",
       "    <tr>\n",
       "      <th></th>\n",
       "      <th colspan=\"5\" halign=\"left\">AGG</th>\n",
       "      <th colspan=\"5\" halign=\"left\">SPY</th>\n",
       "    </tr>\n",
       "    <tr>\n",
       "      <th></th>\n",
       "      <th>open</th>\n",
       "      <th>high</th>\n",
       "      <th>low</th>\n",
       "      <th>close</th>\n",
       "      <th>volume</th>\n",
       "      <th>open</th>\n",
       "      <th>high</th>\n",
       "      <th>low</th>\n",
       "      <th>close</th>\n",
       "      <th>volume</th>\n",
       "    </tr>\n",
       "    <tr>\n",
       "      <th>time</th>\n",
       "      <th></th>\n",
       "      <th></th>\n",
       "      <th></th>\n",
       "      <th></th>\n",
       "      <th></th>\n",
       "      <th></th>\n",
       "      <th></th>\n",
       "      <th></th>\n",
       "      <th></th>\n",
       "      <th></th>\n",
       "    </tr>\n",
       "  </thead>\n",
       "  <tbody>\n",
       "    <tr>\n",
       "      <th>2021-09-03 00:00:00-04:00</th>\n",
       "      <td>115.84</td>\n",
       "      <td>115.8900</td>\n",
       "      <td>115.7707</td>\n",
       "      <td>115.85</td>\n",
       "      <td>4172690.0</td>\n",
       "      <td>451.98</td>\n",
       "      <td>453.63</td>\n",
       "      <td>451.5500</td>\n",
       "      <td>453.06</td>\n",
       "      <td>37843082</td>\n",
       "    </tr>\n",
       "    <tr>\n",
       "      <th>2021-09-07 00:00:00-04:00</th>\n",
       "      <td>115.64</td>\n",
       "      <td>115.6457</td>\n",
       "      <td>115.4737</td>\n",
       "      <td>115.55</td>\n",
       "      <td>3190893.0</td>\n",
       "      <td>452.71</td>\n",
       "      <td>452.81</td>\n",
       "      <td>450.7423</td>\n",
       "      <td>451.52</td>\n",
       "      <td>46091753</td>\n",
       "    </tr>\n",
       "    <tr>\n",
       "      <th>2021-09-08 00:00:00-04:00</th>\n",
       "      <td>115.70</td>\n",
       "      <td>115.8200</td>\n",
       "      <td>115.6200</td>\n",
       "      <td>115.74</td>\n",
       "      <td>3084384.0</td>\n",
       "      <td>450.89</td>\n",
       "      <td>451.67</td>\n",
       "      <td>448.8600</td>\n",
       "      <td>450.96</td>\n",
       "      <td>50695626</td>\n",
       "    </tr>\n",
       "    <tr>\n",
       "      <th>2021-09-09 00:00:00-04:00</th>\n",
       "      <td>115.84</td>\n",
       "      <td>116.1470</td>\n",
       "      <td>115.7550</td>\n",
       "      <td>116.10</td>\n",
       "      <td>3232335.0</td>\n",
       "      <td>450.70</td>\n",
       "      <td>452.57</td>\n",
       "      <td>448.7200</td>\n",
       "      <td>448.94</td>\n",
       "      <td>51603442</td>\n",
       "    </tr>\n",
       "    <tr>\n",
       "      <th>2021-09-10 00:00:00-04:00</th>\n",
       "      <td>115.99</td>\n",
       "      <td>116.0100</td>\n",
       "      <td>115.7801</td>\n",
       "      <td>115.87</td>\n",
       "      <td>2767552.0</td>\n",
       "      <td>451.04</td>\n",
       "      <td>451.49</td>\n",
       "      <td>445.3100</td>\n",
       "      <td>445.50</td>\n",
       "      <td>75763259</td>\n",
       "    </tr>\n",
       "  </tbody>\n",
       "</table>\n",
       "</div>"
      ],
      "text/plain": [
       "                              AGG                                         \\\n",
       "                             open      high       low   close     volume   \n",
       "time                                                                       \n",
       "2021-09-03 00:00:00-04:00  115.84  115.8900  115.7707  115.85  4172690.0   \n",
       "2021-09-07 00:00:00-04:00  115.64  115.6457  115.4737  115.55  3190893.0   \n",
       "2021-09-08 00:00:00-04:00  115.70  115.8200  115.6200  115.74  3084384.0   \n",
       "2021-09-09 00:00:00-04:00  115.84  116.1470  115.7550  116.10  3232335.0   \n",
       "2021-09-10 00:00:00-04:00  115.99  116.0100  115.7801  115.87  2767552.0   \n",
       "\n",
       "                              SPY                                      \n",
       "                             open    high       low   close    volume  \n",
       "time                                                                   \n",
       "2021-09-03 00:00:00-04:00  451.98  453.63  451.5500  453.06  37843082  \n",
       "2021-09-07 00:00:00-04:00  452.71  452.81  450.7423  451.52  46091753  \n",
       "2021-09-08 00:00:00-04:00  450.89  451.67  448.8600  450.96  50695626  \n",
       "2021-09-09 00:00:00-04:00  450.70  452.57  448.7200  448.94  51603442  \n",
       "2021-09-10 00:00:00-04:00  451.04  451.49  445.3100  445.50  75763259  "
      ]
     },
     "metadata": {},
     "output_type": "display_data"
    }
   ],
   "source": [
    "# Use the Alpaca get_barset function to make the API call to get the 3 years worth of pricing data\n",
    "# The tickers and timeframe parameters should have been set in Part 1 of this activity \n",
    "# The start and end dates should be updated with the information set above\n",
    "# Remember to add the df property to the end of the call so the response is returned as a DataFrame\n",
    "price_data = alpaca.get_barset(\n",
    "    tickers,\n",
    "    timeframe,\n",
    "    start = start_date,\n",
    "    end = end_date,\n",
    "    limit = limit_rows\n",
    ").df\n",
    "\n",
    "\n",
    "# Display both the first and last five rows of the DataFrame\n",
    "display(price_data.head())\n",
    "display(price_data.tail())\n"
   ]
  },
  {
   "cell_type": "markdown",
   "metadata": {},
   "source": [
    "#### Step 2: Run a Monte Carlo simulation of 500 samples and 30 years for the 60/40 portfolio, and then plot the results."
   ]
  },
  {
   "cell_type": "code",
   "execution_count": 30,
   "metadata": {},
   "outputs": [
    {
     "data": {
      "text/html": [
       "<div>\n",
       "<style scoped>\n",
       "    .dataframe tbody tr th:only-of-type {\n",
       "        vertical-align: middle;\n",
       "    }\n",
       "\n",
       "    .dataframe tbody tr th {\n",
       "        vertical-align: top;\n",
       "    }\n",
       "\n",
       "    .dataframe thead tr th {\n",
       "        text-align: left;\n",
       "    }\n",
       "\n",
       "    .dataframe thead tr:last-of-type th {\n",
       "        text-align: right;\n",
       "    }\n",
       "</style>\n",
       "<table border=\"1\" class=\"dataframe\">\n",
       "  <thead>\n",
       "    <tr>\n",
       "      <th></th>\n",
       "      <th colspan=\"6\" halign=\"left\">AGG</th>\n",
       "      <th colspan=\"6\" halign=\"left\">SPY</th>\n",
       "    </tr>\n",
       "    <tr>\n",
       "      <th></th>\n",
       "      <th>open</th>\n",
       "      <th>high</th>\n",
       "      <th>low</th>\n",
       "      <th>close</th>\n",
       "      <th>volume</th>\n",
       "      <th>daily_return</th>\n",
       "      <th>open</th>\n",
       "      <th>high</th>\n",
       "      <th>low</th>\n",
       "      <th>close</th>\n",
       "      <th>volume</th>\n",
       "      <th>daily_return</th>\n",
       "    </tr>\n",
       "    <tr>\n",
       "      <th>time</th>\n",
       "      <th></th>\n",
       "      <th></th>\n",
       "      <th></th>\n",
       "      <th></th>\n",
       "      <th></th>\n",
       "      <th></th>\n",
       "      <th></th>\n",
       "      <th></th>\n",
       "      <th></th>\n",
       "      <th></th>\n",
       "      <th></th>\n",
       "      <th></th>\n",
       "    </tr>\n",
       "  </thead>\n",
       "  <tbody>\n",
       "    <tr>\n",
       "      <th>2018-09-10 00:00:00-04:00</th>\n",
       "      <td>105.85</td>\n",
       "      <td>105.9500</td>\n",
       "      <td>105.85</td>\n",
       "      <td>105.93</td>\n",
       "      <td>3085654.0</td>\n",
       "      <td>NaN</td>\n",
       "      <td>288.76</td>\n",
       "      <td>289.0400</td>\n",
       "      <td>287.880</td>\n",
       "      <td>288.09</td>\n",
       "      <td>32357518</td>\n",
       "      <td>NaN</td>\n",
       "    </tr>\n",
       "    <tr>\n",
       "      <th>2018-09-11 00:00:00-04:00</th>\n",
       "      <td>105.78</td>\n",
       "      <td>105.8400</td>\n",
       "      <td>105.70</td>\n",
       "      <td>105.73</td>\n",
       "      <td>1943309.0</td>\n",
       "      <td>-0.001888</td>\n",
       "      <td>287.37</td>\n",
       "      <td>289.5500</td>\n",
       "      <td>286.975</td>\n",
       "      <td>289.11</td>\n",
       "      <td>36335994</td>\n",
       "      <td>0.003541</td>\n",
       "    </tr>\n",
       "    <tr>\n",
       "      <th>2018-09-12 00:00:00-04:00</th>\n",
       "      <td>105.81</td>\n",
       "      <td>105.8900</td>\n",
       "      <td>105.80</td>\n",
       "      <td>105.80</td>\n",
       "      <td>2083656.0</td>\n",
       "      <td>0.000662</td>\n",
       "      <td>289.06</td>\n",
       "      <td>289.8000</td>\n",
       "      <td>288.230</td>\n",
       "      <td>289.16</td>\n",
       "      <td>46644377</td>\n",
       "      <td>0.000173</td>\n",
       "    </tr>\n",
       "    <tr>\n",
       "      <th>2018-09-13 00:00:00-04:00</th>\n",
       "      <td>105.96</td>\n",
       "      <td>106.0000</td>\n",
       "      <td>105.85</td>\n",
       "      <td>105.88</td>\n",
       "      <td>2076503.0</td>\n",
       "      <td>0.000756</td>\n",
       "      <td>290.32</td>\n",
       "      <td>291.0384</td>\n",
       "      <td>289.995</td>\n",
       "      <td>290.82</td>\n",
       "      <td>38536035</td>\n",
       "      <td>0.005741</td>\n",
       "    </tr>\n",
       "    <tr>\n",
       "      <th>2018-09-14 00:00:00-04:00</th>\n",
       "      <td>105.72</td>\n",
       "      <td>105.7899</td>\n",
       "      <td>105.66</td>\n",
       "      <td>105.67</td>\n",
       "      <td>2530495.0</td>\n",
       "      <td>-0.001983</td>\n",
       "      <td>291.06</td>\n",
       "      <td>291.2700</td>\n",
       "      <td>290.000</td>\n",
       "      <td>290.90</td>\n",
       "      <td>37322600</td>\n",
       "      <td>0.000275</td>\n",
       "    </tr>\n",
       "  </tbody>\n",
       "</table>\n",
       "</div>"
      ],
      "text/plain": [
       "                              AGG                                       \\\n",
       "                             open      high     low   close     volume   \n",
       "time                                                                     \n",
       "2018-09-10 00:00:00-04:00  105.85  105.9500  105.85  105.93  3085654.0   \n",
       "2018-09-11 00:00:00-04:00  105.78  105.8400  105.70  105.73  1943309.0   \n",
       "2018-09-12 00:00:00-04:00  105.81  105.8900  105.80  105.80  2083656.0   \n",
       "2018-09-13 00:00:00-04:00  105.96  106.0000  105.85  105.88  2076503.0   \n",
       "2018-09-14 00:00:00-04:00  105.72  105.7899  105.66  105.67  2530495.0   \n",
       "\n",
       "                                           SPY                             \\\n",
       "                          daily_return    open      high      low   close   \n",
       "time                                                                        \n",
       "2018-09-10 00:00:00-04:00          NaN  288.76  289.0400  287.880  288.09   \n",
       "2018-09-11 00:00:00-04:00    -0.001888  287.37  289.5500  286.975  289.11   \n",
       "2018-09-12 00:00:00-04:00     0.000662  289.06  289.8000  288.230  289.16   \n",
       "2018-09-13 00:00:00-04:00     0.000756  290.32  291.0384  289.995  290.82   \n",
       "2018-09-14 00:00:00-04:00    -0.001983  291.06  291.2700  290.000  290.90   \n",
       "\n",
       "                                                  \n",
       "                             volume daily_return  \n",
       "time                                              \n",
       "2018-09-10 00:00:00-04:00  32357518          NaN  \n",
       "2018-09-11 00:00:00-04:00  36335994     0.003541  \n",
       "2018-09-12 00:00:00-04:00  46644377     0.000173  \n",
       "2018-09-13 00:00:00-04:00  38536035     0.005741  \n",
       "2018-09-14 00:00:00-04:00  37322600     0.000275  "
      ]
     },
     "execution_count": 30,
     "metadata": {},
     "output_type": "execute_result"
    }
   ],
   "source": [
    "# Configure the Monte Carlo simulation to forecast 30 years cumulative returns\n",
    "# The weights should be split 40% to AGG and 60% to SPY.\n",
    "# Run 500 samples.\n",
    "MC_60_40 = MCSimulation(\n",
    "    portfolio_data = price_data,\n",
    "    weights = [0.4, 0.6],\n",
    "    num_simulation = 500,\n",
    "    num_trading_days = 252*30\n",
    ")\n",
    "\n",
    "# Review the simulation input data\n",
    "MC_60_40.portfolio_data.head()\n"
   ]
  },
  {
   "cell_type": "code",
   "execution_count": 31,
   "metadata": {},
   "outputs": [
    {
     "name": "stdout",
     "output_type": "stream",
     "text": [
      "Running Monte Carlo simulation number 0.\n",
      "Running Monte Carlo simulation number 10.\n",
      "Running Monte Carlo simulation number 20.\n",
      "Running Monte Carlo simulation number 30.\n",
      "Running Monte Carlo simulation number 40.\n",
      "Running Monte Carlo simulation number 50.\n",
      "Running Monte Carlo simulation number 60.\n",
      "Running Monte Carlo simulation number 70.\n",
      "Running Monte Carlo simulation number 80.\n",
      "Running Monte Carlo simulation number 90.\n",
      "Running Monte Carlo simulation number 100.\n",
      "Running Monte Carlo simulation number 110.\n",
      "Running Monte Carlo simulation number 120.\n",
      "Running Monte Carlo simulation number 130.\n",
      "Running Monte Carlo simulation number 140.\n",
      "Running Monte Carlo simulation number 150.\n",
      "Running Monte Carlo simulation number 160.\n",
      "Running Monte Carlo simulation number 170.\n",
      "Running Monte Carlo simulation number 180.\n",
      "Running Monte Carlo simulation number 190.\n",
      "Running Monte Carlo simulation number 200.\n",
      "Running Monte Carlo simulation number 210.\n",
      "Running Monte Carlo simulation number 220.\n",
      "Running Monte Carlo simulation number 230.\n",
      "Running Monte Carlo simulation number 240.\n",
      "Running Monte Carlo simulation number 250.\n",
      "Running Monte Carlo simulation number 260.\n",
      "Running Monte Carlo simulation number 270.\n",
      "Running Monte Carlo simulation number 280.\n",
      "Running Monte Carlo simulation number 290.\n",
      "Running Monte Carlo simulation number 300.\n",
      "Running Monte Carlo simulation number 310.\n",
      "Running Monte Carlo simulation number 320.\n",
      "Running Monte Carlo simulation number 330.\n",
      "Running Monte Carlo simulation number 340.\n",
      "Running Monte Carlo simulation number 350.\n",
      "Running Monte Carlo simulation number 360.\n",
      "Running Monte Carlo simulation number 370.\n",
      "Running Monte Carlo simulation number 380.\n",
      "Running Monte Carlo simulation number 390.\n",
      "Running Monte Carlo simulation number 400.\n",
      "Running Monte Carlo simulation number 410.\n",
      "Running Monte Carlo simulation number 420.\n",
      "Running Monte Carlo simulation number 430.\n",
      "Running Monte Carlo simulation number 440.\n",
      "Running Monte Carlo simulation number 450.\n",
      "Running Monte Carlo simulation number 460.\n",
      "Running Monte Carlo simulation number 470.\n",
      "Running Monte Carlo simulation number 480.\n",
      "Running Monte Carlo simulation number 490.\n"
     ]
    },
    {
     "data": {
      "text/html": [
       "<div>\n",
       "<style scoped>\n",
       "    .dataframe tbody tr th:only-of-type {\n",
       "        vertical-align: middle;\n",
       "    }\n",
       "\n",
       "    .dataframe tbody tr th {\n",
       "        vertical-align: top;\n",
       "    }\n",
       "\n",
       "    .dataframe thead th {\n",
       "        text-align: right;\n",
       "    }\n",
       "</style>\n",
       "<table border=\"1\" class=\"dataframe\">\n",
       "  <thead>\n",
       "    <tr style=\"text-align: right;\">\n",
       "      <th></th>\n",
       "      <th>0</th>\n",
       "      <th>1</th>\n",
       "      <th>2</th>\n",
       "      <th>3</th>\n",
       "      <th>4</th>\n",
       "      <th>5</th>\n",
       "      <th>6</th>\n",
       "      <th>7</th>\n",
       "      <th>8</th>\n",
       "      <th>9</th>\n",
       "      <th>...</th>\n",
       "      <th>490</th>\n",
       "      <th>491</th>\n",
       "      <th>492</th>\n",
       "      <th>493</th>\n",
       "      <th>494</th>\n",
       "      <th>495</th>\n",
       "      <th>496</th>\n",
       "      <th>497</th>\n",
       "      <th>498</th>\n",
       "      <th>499</th>\n",
       "    </tr>\n",
       "  </thead>\n",
       "  <tbody>\n",
       "    <tr>\n",
       "      <th>0</th>\n",
       "      <td>1.000000</td>\n",
       "      <td>1.000000</td>\n",
       "      <td>1.000000</td>\n",
       "      <td>1.000000</td>\n",
       "      <td>1.000000</td>\n",
       "      <td>1.000000</td>\n",
       "      <td>1.000000</td>\n",
       "      <td>1.000000</td>\n",
       "      <td>1.000000</td>\n",
       "      <td>1.000000</td>\n",
       "      <td>...</td>\n",
       "      <td>1.000000</td>\n",
       "      <td>1.000000</td>\n",
       "      <td>1.000000</td>\n",
       "      <td>1.000000</td>\n",
       "      <td>1.000000</td>\n",
       "      <td>1.000000</td>\n",
       "      <td>1.000000</td>\n",
       "      <td>1.000000</td>\n",
       "      <td>1.000000</td>\n",
       "      <td>1.000000</td>\n",
       "    </tr>\n",
       "    <tr>\n",
       "      <th>1</th>\n",
       "      <td>1.002064</td>\n",
       "      <td>0.994516</td>\n",
       "      <td>0.997752</td>\n",
       "      <td>1.013631</td>\n",
       "      <td>0.994567</td>\n",
       "      <td>0.992530</td>\n",
       "      <td>0.983521</td>\n",
       "      <td>1.006302</td>\n",
       "      <td>1.002953</td>\n",
       "      <td>0.987162</td>\n",
       "      <td>...</td>\n",
       "      <td>1.007119</td>\n",
       "      <td>1.003171</td>\n",
       "      <td>0.995836</td>\n",
       "      <td>0.985105</td>\n",
       "      <td>1.001958</td>\n",
       "      <td>0.985983</td>\n",
       "      <td>0.987790</td>\n",
       "      <td>1.009967</td>\n",
       "      <td>1.004597</td>\n",
       "      <td>0.998777</td>\n",
       "    </tr>\n",
       "    <tr>\n",
       "      <th>2</th>\n",
       "      <td>1.004827</td>\n",
       "      <td>0.992686</td>\n",
       "      <td>0.983871</td>\n",
       "      <td>1.017082</td>\n",
       "      <td>0.999960</td>\n",
       "      <td>0.997031</td>\n",
       "      <td>0.994359</td>\n",
       "      <td>1.007547</td>\n",
       "      <td>1.006816</td>\n",
       "      <td>0.976852</td>\n",
       "      <td>...</td>\n",
       "      <td>1.003365</td>\n",
       "      <td>1.013542</td>\n",
       "      <td>0.999664</td>\n",
       "      <td>0.984098</td>\n",
       "      <td>0.986306</td>\n",
       "      <td>0.984833</td>\n",
       "      <td>1.002146</td>\n",
       "      <td>1.025034</td>\n",
       "      <td>1.013353</td>\n",
       "      <td>0.988588</td>\n",
       "    </tr>\n",
       "    <tr>\n",
       "      <th>3</th>\n",
       "      <td>0.998343</td>\n",
       "      <td>0.991951</td>\n",
       "      <td>0.986694</td>\n",
       "      <td>1.015017</td>\n",
       "      <td>1.000733</td>\n",
       "      <td>1.007928</td>\n",
       "      <td>1.020665</td>\n",
       "      <td>0.998761</td>\n",
       "      <td>0.992240</td>\n",
       "      <td>0.977416</td>\n",
       "      <td>...</td>\n",
       "      <td>0.993939</td>\n",
       "      <td>1.007200</td>\n",
       "      <td>0.993059</td>\n",
       "      <td>0.986554</td>\n",
       "      <td>0.982165</td>\n",
       "      <td>0.979976</td>\n",
       "      <td>0.991501</td>\n",
       "      <td>1.019912</td>\n",
       "      <td>1.007185</td>\n",
       "      <td>1.000347</td>\n",
       "    </tr>\n",
       "    <tr>\n",
       "      <th>4</th>\n",
       "      <td>0.982107</td>\n",
       "      <td>0.996475</td>\n",
       "      <td>0.995006</td>\n",
       "      <td>1.008984</td>\n",
       "      <td>1.017797</td>\n",
       "      <td>1.022867</td>\n",
       "      <td>1.024570</td>\n",
       "      <td>0.981546</td>\n",
       "      <td>0.994901</td>\n",
       "      <td>0.986450</td>\n",
       "      <td>...</td>\n",
       "      <td>0.994507</td>\n",
       "      <td>1.003735</td>\n",
       "      <td>0.983759</td>\n",
       "      <td>0.970986</td>\n",
       "      <td>0.970702</td>\n",
       "      <td>0.975715</td>\n",
       "      <td>0.980371</td>\n",
       "      <td>1.024437</td>\n",
       "      <td>1.019055</td>\n",
       "      <td>1.015975</td>\n",
       "    </tr>\n",
       "    <tr>\n",
       "      <th>...</th>\n",
       "      <td>...</td>\n",
       "      <td>...</td>\n",
       "      <td>...</td>\n",
       "      <td>...</td>\n",
       "      <td>...</td>\n",
       "      <td>...</td>\n",
       "      <td>...</td>\n",
       "      <td>...</td>\n",
       "      <td>...</td>\n",
       "      <td>...</td>\n",
       "      <td>...</td>\n",
       "      <td>...</td>\n",
       "      <td>...</td>\n",
       "      <td>...</td>\n",
       "      <td>...</td>\n",
       "      <td>...</td>\n",
       "      <td>...</td>\n",
       "      <td>...</td>\n",
       "      <td>...</td>\n",
       "      <td>...</td>\n",
       "      <td>...</td>\n",
       "    </tr>\n",
       "    <tr>\n",
       "      <th>7556</th>\n",
       "      <td>31.699539</td>\n",
       "      <td>55.060141</td>\n",
       "      <td>39.867855</td>\n",
       "      <td>10.519837</td>\n",
       "      <td>29.639302</td>\n",
       "      <td>68.693644</td>\n",
       "      <td>23.885927</td>\n",
       "      <td>28.976563</td>\n",
       "      <td>24.310357</td>\n",
       "      <td>17.048997</td>\n",
       "      <td>...</td>\n",
       "      <td>80.437425</td>\n",
       "      <td>20.896265</td>\n",
       "      <td>4.904177</td>\n",
       "      <td>39.314945</td>\n",
       "      <td>31.328836</td>\n",
       "      <td>28.182391</td>\n",
       "      <td>19.953493</td>\n",
       "      <td>29.277412</td>\n",
       "      <td>40.426200</td>\n",
       "      <td>22.609478</td>\n",
       "    </tr>\n",
       "    <tr>\n",
       "      <th>7557</th>\n",
       "      <td>31.822863</td>\n",
       "      <td>54.581121</td>\n",
       "      <td>40.159248</td>\n",
       "      <td>10.429617</td>\n",
       "      <td>29.192793</td>\n",
       "      <td>68.453467</td>\n",
       "      <td>24.283352</td>\n",
       "      <td>28.892793</td>\n",
       "      <td>24.580760</td>\n",
       "      <td>16.845721</td>\n",
       "      <td>...</td>\n",
       "      <td>79.222043</td>\n",
       "      <td>20.970148</td>\n",
       "      <td>4.901252</td>\n",
       "      <td>38.734340</td>\n",
       "      <td>31.636513</td>\n",
       "      <td>28.077413</td>\n",
       "      <td>19.924265</td>\n",
       "      <td>28.722598</td>\n",
       "      <td>40.303824</td>\n",
       "      <td>22.779251</td>\n",
       "    </tr>\n",
       "    <tr>\n",
       "      <th>7558</th>\n",
       "      <td>32.082967</td>\n",
       "      <td>55.855596</td>\n",
       "      <td>39.905636</td>\n",
       "      <td>10.474126</td>\n",
       "      <td>28.876901</td>\n",
       "      <td>68.155988</td>\n",
       "      <td>24.552863</td>\n",
       "      <td>29.037713</td>\n",
       "      <td>24.802849</td>\n",
       "      <td>17.011881</td>\n",
       "      <td>...</td>\n",
       "      <td>79.776073</td>\n",
       "      <td>20.940587</td>\n",
       "      <td>4.978260</td>\n",
       "      <td>38.462751</td>\n",
       "      <td>31.328051</td>\n",
       "      <td>28.075381</td>\n",
       "      <td>19.789259</td>\n",
       "      <td>28.577489</td>\n",
       "      <td>40.067469</td>\n",
       "      <td>22.730791</td>\n",
       "    </tr>\n",
       "    <tr>\n",
       "      <th>7559</th>\n",
       "      <td>32.482930</td>\n",
       "      <td>55.690740</td>\n",
       "      <td>40.333466</td>\n",
       "      <td>10.785682</td>\n",
       "      <td>28.250646</td>\n",
       "      <td>68.341587</td>\n",
       "      <td>24.068695</td>\n",
       "      <td>28.851304</td>\n",
       "      <td>24.849267</td>\n",
       "      <td>17.008480</td>\n",
       "      <td>...</td>\n",
       "      <td>79.513905</td>\n",
       "      <td>20.683567</td>\n",
       "      <td>4.919378</td>\n",
       "      <td>39.222204</td>\n",
       "      <td>31.571986</td>\n",
       "      <td>28.214567</td>\n",
       "      <td>19.587318</td>\n",
       "      <td>28.454291</td>\n",
       "      <td>40.456516</td>\n",
       "      <td>22.721574</td>\n",
       "    </tr>\n",
       "    <tr>\n",
       "      <th>7560</th>\n",
       "      <td>32.307793</td>\n",
       "      <td>55.825281</td>\n",
       "      <td>40.441347</td>\n",
       "      <td>10.769014</td>\n",
       "      <td>28.350667</td>\n",
       "      <td>68.720783</td>\n",
       "      <td>24.099136</td>\n",
       "      <td>29.108835</td>\n",
       "      <td>25.053828</td>\n",
       "      <td>16.983702</td>\n",
       "      <td>...</td>\n",
       "      <td>79.283580</td>\n",
       "      <td>20.842868</td>\n",
       "      <td>4.850373</td>\n",
       "      <td>39.606704</td>\n",
       "      <td>31.448790</td>\n",
       "      <td>28.257564</td>\n",
       "      <td>19.922421</td>\n",
       "      <td>28.473041</td>\n",
       "      <td>40.548758</td>\n",
       "      <td>22.762176</td>\n",
       "    </tr>\n",
       "  </tbody>\n",
       "</table>\n",
       "<p>7561 rows × 500 columns</p>\n",
       "</div>"
      ],
      "text/plain": [
       "            0          1          2          3          4          5    \\\n",
       "0      1.000000   1.000000   1.000000   1.000000   1.000000   1.000000   \n",
       "1      1.002064   0.994516   0.997752   1.013631   0.994567   0.992530   \n",
       "2      1.004827   0.992686   0.983871   1.017082   0.999960   0.997031   \n",
       "3      0.998343   0.991951   0.986694   1.015017   1.000733   1.007928   \n",
       "4      0.982107   0.996475   0.995006   1.008984   1.017797   1.022867   \n",
       "...         ...        ...        ...        ...        ...        ...   \n",
       "7556  31.699539  55.060141  39.867855  10.519837  29.639302  68.693644   \n",
       "7557  31.822863  54.581121  40.159248  10.429617  29.192793  68.453467   \n",
       "7558  32.082967  55.855596  39.905636  10.474126  28.876901  68.155988   \n",
       "7559  32.482930  55.690740  40.333466  10.785682  28.250646  68.341587   \n",
       "7560  32.307793  55.825281  40.441347  10.769014  28.350667  68.720783   \n",
       "\n",
       "            6          7          8          9    ...        490        491  \\\n",
       "0      1.000000   1.000000   1.000000   1.000000  ...   1.000000   1.000000   \n",
       "1      0.983521   1.006302   1.002953   0.987162  ...   1.007119   1.003171   \n",
       "2      0.994359   1.007547   1.006816   0.976852  ...   1.003365   1.013542   \n",
       "3      1.020665   0.998761   0.992240   0.977416  ...   0.993939   1.007200   \n",
       "4      1.024570   0.981546   0.994901   0.986450  ...   0.994507   1.003735   \n",
       "...         ...        ...        ...        ...  ...        ...        ...   \n",
       "7556  23.885927  28.976563  24.310357  17.048997  ...  80.437425  20.896265   \n",
       "7557  24.283352  28.892793  24.580760  16.845721  ...  79.222043  20.970148   \n",
       "7558  24.552863  29.037713  24.802849  17.011881  ...  79.776073  20.940587   \n",
       "7559  24.068695  28.851304  24.849267  17.008480  ...  79.513905  20.683567   \n",
       "7560  24.099136  29.108835  25.053828  16.983702  ...  79.283580  20.842868   \n",
       "\n",
       "           492        493        494        495        496        497  \\\n",
       "0     1.000000   1.000000   1.000000   1.000000   1.000000   1.000000   \n",
       "1     0.995836   0.985105   1.001958   0.985983   0.987790   1.009967   \n",
       "2     0.999664   0.984098   0.986306   0.984833   1.002146   1.025034   \n",
       "3     0.993059   0.986554   0.982165   0.979976   0.991501   1.019912   \n",
       "4     0.983759   0.970986   0.970702   0.975715   0.980371   1.024437   \n",
       "...        ...        ...        ...        ...        ...        ...   \n",
       "7556  4.904177  39.314945  31.328836  28.182391  19.953493  29.277412   \n",
       "7557  4.901252  38.734340  31.636513  28.077413  19.924265  28.722598   \n",
       "7558  4.978260  38.462751  31.328051  28.075381  19.789259  28.577489   \n",
       "7559  4.919378  39.222204  31.571986  28.214567  19.587318  28.454291   \n",
       "7560  4.850373  39.606704  31.448790  28.257564  19.922421  28.473041   \n",
       "\n",
       "            498        499  \n",
       "0      1.000000   1.000000  \n",
       "1      1.004597   0.998777  \n",
       "2      1.013353   0.988588  \n",
       "3      1.007185   1.000347  \n",
       "4      1.019055   1.015975  \n",
       "...         ...        ...  \n",
       "7556  40.426200  22.609478  \n",
       "7557  40.303824  22.779251  \n",
       "7558  40.067469  22.730791  \n",
       "7559  40.456516  22.721574  \n",
       "7560  40.548758  22.762176  \n",
       "\n",
       "[7561 rows x 500 columns]"
      ]
     },
     "execution_count": 31,
     "metadata": {},
     "output_type": "execute_result"
    }
   ],
   "source": [
    "# Run the Monte Carlo simulation to forecast 30 years cumulative returns\n",
    "MC_60_40.calc_cumulative_return()\n"
   ]
  },
  {
   "cell_type": "code",
   "execution_count": 32,
   "metadata": {},
   "outputs": [
    {
     "data": {
      "image/png": "[encoded data removed]",
      "text/plain": [
       "<Figure size 432x288 with 1 Axes>"
      ]
     },
     "metadata": {
      "needs_background": "light"
     },
     "output_type": "display_data"
    }
   ],
   "source": [
    "# Visualize the 30-year Monte Carlo simulation by creating an\n",
    "# overlay line plot\n",
    "MC_60_40_line_plot = MC_60_40.plot_simulation()"
   ]
  },
  {
   "cell_type": "markdown",
   "metadata": {},
   "source": [
    "#### Step 3: Plot the probability distribution of the Monte Carlo simulation."
   ]
  },
  {
   "cell_type": "code",
   "execution_count": 33,
   "metadata": {},
   "outputs": [
    {
     "data": {
      "image/png": "[encoded data removed]",
      "text/plain": [
       "<Figure size 432x288 with 1 Axes>"
      ]
     },
     "metadata": {
      "needs_background": "light"
     },
     "output_type": "display_data"
    }
   ],
   "source": [
    "# Visualize the probability distribution of the 30-year Monte Carlo simulation \n",
    "# by plotting a histogram\n",
    "MC_60_40_distribution_plot = MC_60_40.plot_distribution()\n"
   ]
  },
  {
   "cell_type": "markdown",
   "metadata": {},
   "source": [
    "#### Step 4: Generate the summary statistics for the Monte Carlo simulation."
   ]
  },
  {
   "cell_type": "code",
   "execution_count": 34,
   "metadata": {},
   "outputs": [
    {
     "data": {
      "text/plain": [
       "count           500.000000\n",
       "mean             30.784264\n",
       "std              24.633202\n",
       "min               3.281383\n",
       "25%              14.215654\n",
       "50%              24.660256\n",
       "75%              39.996068\n",
       "max             183.131024\n",
       "95% CI Lower      6.027306\n",
       "95% CI Upper     95.518840\n",
       "Name: 7560, dtype: float64"
      ]
     },
     "execution_count": 34,
     "metadata": {},
     "output_type": "execute_result"
    }
   ],
   "source": [
    "# Generate summary statistics from the 30-year Monte Carlo simulation results\n",
    "# Save the results as a variable\n",
    "MC_60_40_table = MC_60_40.summarize_cumulative_return()\n",
    "\n",
    "\n",
    "# Review the 30-year Monte Carlo summary statistics\n",
    "MC_60_40_table"
   ]
  },
  {
   "cell_type": "markdown",
   "metadata": {},
   "source": [
    "### Analyze the Retirement Portfolio Forecasts\n",
    "\n",
    "Using the current value of only the stock and bond portion of the member's portfolio and the summary statistics that you generated from the Monte Carlo simulation, answer the following question in your Jupyter notebook:\n",
    "\n",
    "-  What are the lower and upper bounds for the expected value of the portfolio with a 95% confidence interval?\n"
   ]
  },
  {
   "cell_type": "code",
   "execution_count": 35,
   "metadata": {},
   "outputs": [
    {
     "name": "stdout",
     "output_type": "stream",
     "text": [
      "The current balance of the stock and bond portion of the member's portfolio is $72179.0\n"
     ]
    }
   ],
   "source": [
    "# Print the current balance of the stock and bond portion of the members portfolio\n",
    "print(f\"The current balance of the stock and bond portion of the member's\"\n",
    "      f\" portfolio is ${total_stocks_bonds}\")\n"
   ]
  },
  {
   "cell_type": "code",
   "execution_count": 36,
   "metadata": {},
   "outputs": [
    {
     "name": "stdout",
     "output_type": "stream",
     "text": [
      "Over the next 30 years, there is a 95% chance that the stock/bond portion of the portfolio with a 60/40 weighted SPY/AGG will end within the range of $435044.91 and $6894454.37.\n"
     ]
    }
   ],
   "source": [
    "# Use the lower and upper `95%` confidence intervals to calculate the range of the possible outcomes for the current stock/bond portfolio\n",
    "ci_lower_95_30years = round(MC_60_40_table[8] * total_stocks_bonds, 2)\n",
    "ci_upper_95_30years = round(MC_60_40_table[9] * total_stocks_bonds, 2)\n",
    "\n",
    "# Print the result of your calculations\n",
    "print(f\"Over the next 30 years, there is a 95% chance that the stock/bond portion of the portfolio\"\n",
    "      f\" with a 60/40 weighted SPY/AGG will end within the range of\"\n",
    "      f\" ${ci_lower_95_30years} and ${ci_upper_95_30years}.\")\n"
   ]
  },
  {
   "cell_type": "markdown",
   "metadata": {},
   "source": [
    "### Forecast Cumulative Returns in 10 Years\n",
    "\n",
    "The CTO of the credit union is impressed with your work on these planning tools but wonders if 30 years is a long time to wait until retirement. So, your next task is to adjust the retirement portfolio and run a new Monte Carlo simulation to find out if the changes will allow members to retire earlier.\n",
    "\n",
    "For this new Monte Carlo simulation, do the following: \n",
    "\n",
    "- Forecast the cumulative returns for 10 years from now. Because of the shortened investment horizon (30 years to 10 years), the portfolio needs to invest more heavily in the riskier asset&mdash;that is, stock&mdash;to help accumulate wealth for retirement. \n",
    "\n",
    "- Adjust the weights of the retirement portfolio so that the composition for the Monte Carlo simulation consists of 20% bonds and 80% stocks. \n",
    "\n",
    "- Run the simulation over 500 samples, and use the same data that the API call to Alpaca generated.\n",
    "\n",
    "- Based on the new Monte Carlo simulation, answer the following questions in your Jupyter notebook:\n",
    "\n",
    "    - Using the current value of only the stock and bond portion of the member's portfolio and the summary statistics that you generated from the new Monte Carlo simulation, what are the lower and upper bounds for the expected value of the portfolio (with the new weights) with a 95% confidence interval?\n",
    "\n",
    "    - Will weighting the portfolio more heavily toward stocks allow the credit union members to retire after only 10 years?\n"
   ]
  },
  {
   "cell_type": "code",
   "execution_count": 37,
   "metadata": {},
   "outputs": [
    {
     "data": {
      "text/html": [
       "<div>\n",
       "<style scoped>\n",
       "    .dataframe tbody tr th:only-of-type {\n",
       "        vertical-align: middle;\n",
       "    }\n",
       "\n",
       "    .dataframe tbody tr th {\n",
       "        vertical-align: top;\n",
       "    }\n",
       "\n",
       "    .dataframe thead tr th {\n",
       "        text-align: left;\n",
       "    }\n",
       "\n",
       "    .dataframe thead tr:last-of-type th {\n",
       "        text-align: right;\n",
       "    }\n",
       "</style>\n",
       "<table border=\"1\" class=\"dataframe\">\n",
       "  <thead>\n",
       "    <tr>\n",
       "      <th></th>\n",
       "      <th colspan=\"6\" halign=\"left\">AGG</th>\n",
       "      <th colspan=\"6\" halign=\"left\">SPY</th>\n",
       "    </tr>\n",
       "    <tr>\n",
       "      <th></th>\n",
       "      <th>open</th>\n",
       "      <th>high</th>\n",
       "      <th>low</th>\n",
       "      <th>close</th>\n",
       "      <th>volume</th>\n",
       "      <th>daily_return</th>\n",
       "      <th>open</th>\n",
       "      <th>high</th>\n",
       "      <th>low</th>\n",
       "      <th>close</th>\n",
       "      <th>volume</th>\n",
       "      <th>daily_return</th>\n",
       "    </tr>\n",
       "    <tr>\n",
       "      <th>time</th>\n",
       "      <th></th>\n",
       "      <th></th>\n",
       "      <th></th>\n",
       "      <th></th>\n",
       "      <th></th>\n",
       "      <th></th>\n",
       "      <th></th>\n",
       "      <th></th>\n",
       "      <th></th>\n",
       "      <th></th>\n",
       "      <th></th>\n",
       "      <th></th>\n",
       "    </tr>\n",
       "  </thead>\n",
       "  <tbody>\n",
       "    <tr>\n",
       "      <th>2018-09-10 00:00:00-04:00</th>\n",
       "      <td>105.85</td>\n",
       "      <td>105.9500</td>\n",
       "      <td>105.85</td>\n",
       "      <td>105.93</td>\n",
       "      <td>3085654.0</td>\n",
       "      <td>NaN</td>\n",
       "      <td>288.76</td>\n",
       "      <td>289.0400</td>\n",
       "      <td>287.880</td>\n",
       "      <td>288.09</td>\n",
       "      <td>32357518</td>\n",
       "      <td>NaN</td>\n",
       "    </tr>\n",
       "    <tr>\n",
       "      <th>2018-09-11 00:00:00-04:00</th>\n",
       "      <td>105.78</td>\n",
       "      <td>105.8400</td>\n",
       "      <td>105.70</td>\n",
       "      <td>105.73</td>\n",
       "      <td>1943309.0</td>\n",
       "      <td>-0.001888</td>\n",
       "      <td>287.37</td>\n",
       "      <td>289.5500</td>\n",
       "      <td>286.975</td>\n",
       "      <td>289.11</td>\n",
       "      <td>36335994</td>\n",
       "      <td>0.003541</td>\n",
       "    </tr>\n",
       "    <tr>\n",
       "      <th>2018-09-12 00:00:00-04:00</th>\n",
       "      <td>105.81</td>\n",
       "      <td>105.8900</td>\n",
       "      <td>105.80</td>\n",
       "      <td>105.80</td>\n",
       "      <td>2083656.0</td>\n",
       "      <td>0.000662</td>\n",
       "      <td>289.06</td>\n",
       "      <td>289.8000</td>\n",
       "      <td>288.230</td>\n",
       "      <td>289.16</td>\n",
       "      <td>46644377</td>\n",
       "      <td>0.000173</td>\n",
       "    </tr>\n",
       "    <tr>\n",
       "      <th>2018-09-13 00:00:00-04:00</th>\n",
       "      <td>105.96</td>\n",
       "      <td>106.0000</td>\n",
       "      <td>105.85</td>\n",
       "      <td>105.88</td>\n",
       "      <td>2076503.0</td>\n",
       "      <td>0.000756</td>\n",
       "      <td>290.32</td>\n",
       "      <td>291.0384</td>\n",
       "      <td>289.995</td>\n",
       "      <td>290.82</td>\n",
       "      <td>38536035</td>\n",
       "      <td>0.005741</td>\n",
       "    </tr>\n",
       "    <tr>\n",
       "      <th>2018-09-14 00:00:00-04:00</th>\n",
       "      <td>105.72</td>\n",
       "      <td>105.7899</td>\n",
       "      <td>105.66</td>\n",
       "      <td>105.67</td>\n",
       "      <td>2530495.0</td>\n",
       "      <td>-0.001983</td>\n",
       "      <td>291.06</td>\n",
       "      <td>291.2700</td>\n",
       "      <td>290.000</td>\n",
       "      <td>290.90</td>\n",
       "      <td>37322600</td>\n",
       "      <td>0.000275</td>\n",
       "    </tr>\n",
       "  </tbody>\n",
       "</table>\n",
       "</div>"
      ],
      "text/plain": [
       "                              AGG                                       \\\n",
       "                             open      high     low   close     volume   \n",
       "time                                                                     \n",
       "2018-09-10 00:00:00-04:00  105.85  105.9500  105.85  105.93  3085654.0   \n",
       "2018-09-11 00:00:00-04:00  105.78  105.8400  105.70  105.73  1943309.0   \n",
       "2018-09-12 00:00:00-04:00  105.81  105.8900  105.80  105.80  2083656.0   \n",
       "2018-09-13 00:00:00-04:00  105.96  106.0000  105.85  105.88  2076503.0   \n",
       "2018-09-14 00:00:00-04:00  105.72  105.7899  105.66  105.67  2530495.0   \n",
       "\n",
       "                                           SPY                             \\\n",
       "                          daily_return    open      high      low   close   \n",
       "time                                                                        \n",
       "2018-09-10 00:00:00-04:00          NaN  288.76  289.0400  287.880  288.09   \n",
       "2018-09-11 00:00:00-04:00    -0.001888  287.37  289.5500  286.975  289.11   \n",
       "2018-09-12 00:00:00-04:00     0.000662  289.06  289.8000  288.230  289.16   \n",
       "2018-09-13 00:00:00-04:00     0.000756  290.32  291.0384  289.995  290.82   \n",
       "2018-09-14 00:00:00-04:00    -0.001983  291.06  291.2700  290.000  290.90   \n",
       "\n",
       "                                                  \n",
       "                             volume daily_return  \n",
       "time                                              \n",
       "2018-09-10 00:00:00-04:00  32357518          NaN  \n",
       "2018-09-11 00:00:00-04:00  36335994     0.003541  \n",
       "2018-09-12 00:00:00-04:00  46644377     0.000173  \n",
       "2018-09-13 00:00:00-04:00  38536035     0.005741  \n",
       "2018-09-14 00:00:00-04:00  37322600     0.000275  "
      ]
     },
     "execution_count": 37,
     "metadata": {},
     "output_type": "execute_result"
    }
   ],
   "source": [
    "# Configure a Monte Carlo simulation to forecast 10 years cumulative returns\n",
    "# The weights should be split 20% to AGG and 80% to SPY.\n",
    "# Run 500 samples.\n",
    "MC_80_20 = MCSimulation(\n",
    "    portfolio_data = price_data,\n",
    "    weights = [0.2, 0.8],\n",
    "    num_simulation = 500,\n",
    "    num_trading_days = 252*10\n",
    ")\n",
    "\n",
    "# Review the simulation input data\n",
    "MC_80_20.portfolio_data.head()\n"
   ]
  },
  {
   "cell_type": "code",
   "execution_count": 38,
   "metadata": {},
   "outputs": [
    {
     "name": "stdout",
     "output_type": "stream",
     "text": [
      "Running Monte Carlo simulation number 0.\n",
      "Running Monte Carlo simulation number 10.\n",
      "Running Monte Carlo simulation number 20.\n",
      "Running Monte Carlo simulation number 30.\n",
      "Running Monte Carlo simulation number 40.\n",
      "Running Monte Carlo simulation number 50.\n",
      "Running Monte Carlo simulation number 60.\n",
      "Running Monte Carlo simulation number 70.\n",
      "Running Monte Carlo simulation number 80.\n",
      "Running Monte Carlo simulation number 90.\n",
      "Running Monte Carlo simulation number 100.\n",
      "Running Monte Carlo simulation number 110.\n",
      "Running Monte Carlo simulation number 120.\n",
      "Running Monte Carlo simulation number 130.\n",
      "Running Monte Carlo simulation number 140.\n",
      "Running Monte Carlo simulation number 150.\n",
      "Running Monte Carlo simulation number 160.\n",
      "Running Monte Carlo simulation number 170.\n",
      "Running Monte Carlo simulation number 180.\n",
      "Running Monte Carlo simulation number 190.\n",
      "Running Monte Carlo simulation number 200.\n",
      "Running Monte Carlo simulation number 210.\n",
      "Running Monte Carlo simulation number 220.\n",
      "Running Monte Carlo simulation number 230.\n",
      "Running Monte Carlo simulation number 240.\n",
      "Running Monte Carlo simulation number 250.\n",
      "Running Monte Carlo simulation number 260.\n",
      "Running Monte Carlo simulation number 270.\n",
      "Running Monte Carlo simulation number 280.\n",
      "Running Monte Carlo simulation number 290.\n",
      "Running Monte Carlo simulation number 300.\n",
      "Running Monte Carlo simulation number 310.\n",
      "Running Monte Carlo simulation number 320.\n",
      "Running Monte Carlo simulation number 330.\n",
      "Running Monte Carlo simulation number 340.\n",
      "Running Monte Carlo simulation number 350.\n",
      "Running Monte Carlo simulation number 360.\n",
      "Running Monte Carlo simulation number 370.\n",
      "Running Monte Carlo simulation number 380.\n",
      "Running Monte Carlo simulation number 390.\n",
      "Running Monte Carlo simulation number 400.\n",
      "Running Monte Carlo simulation number 410.\n",
      "Running Monte Carlo simulation number 420.\n",
      "Running Monte Carlo simulation number 430.\n",
      "Running Monte Carlo simulation number 440.\n",
      "Running Monte Carlo simulation number 450.\n",
      "Running Monte Carlo simulation number 460.\n",
      "Running Monte Carlo simulation number 470.\n",
      "Running Monte Carlo simulation number 480.\n",
      "Running Monte Carlo simulation number 490.\n"
     ]
    },
    {
     "data": {
      "text/html": [
       "<div>\n",
       "<style scoped>\n",
       "    .dataframe tbody tr th:only-of-type {\n",
       "        vertical-align: middle;\n",
       "    }\n",
       "\n",
       "    .dataframe tbody tr th {\n",
       "        vertical-align: top;\n",
       "    }\n",
       "\n",
       "    .dataframe thead th {\n",
       "        text-align: right;\n",
       "    }\n",
       "</style>\n",
       "<table border=\"1\" class=\"dataframe\">\n",
       "  <thead>\n",
       "    <tr style=\"text-align: right;\">\n",
       "      <th></th>\n",
       "      <th>0</th>\n",
       "      <th>1</th>\n",
       "      <th>2</th>\n",
       "      <th>3</th>\n",
       "      <th>4</th>\n",
       "      <th>5</th>\n",
       "      <th>6</th>\n",
       "      <th>7</th>\n",
       "      <th>8</th>\n",
       "      <th>9</th>\n",
       "      <th>...</th>\n",
       "      <th>490</th>\n",
       "      <th>491</th>\n",
       "      <th>492</th>\n",
       "      <th>493</th>\n",
       "      <th>494</th>\n",
       "      <th>495</th>\n",
       "      <th>496</th>\n",
       "      <th>497</th>\n",
       "      <th>498</th>\n",
       "      <th>499</th>\n",
       "    </tr>\n",
       "  </thead>\n",
       "  <tbody>\n",
       "    <tr>\n",
       "      <th>0</th>\n",
       "      <td>1.000000</td>\n",
       "      <td>1.000000</td>\n",
       "      <td>1.000000</td>\n",
       "      <td>1.000000</td>\n",
       "      <td>1.000000</td>\n",
       "      <td>1.000000</td>\n",
       "      <td>1.000000</td>\n",
       "      <td>1.000000</td>\n",
       "      <td>1.000000</td>\n",
       "      <td>1.000000</td>\n",
       "      <td>...</td>\n",
       "      <td>1.000000</td>\n",
       "      <td>1.000000</td>\n",
       "      <td>1.000000</td>\n",
       "      <td>1.000000</td>\n",
       "      <td>1.000000</td>\n",
       "      <td>1.000000</td>\n",
       "      <td>1.000000</td>\n",
       "      <td>1.000000</td>\n",
       "      <td>1.000000</td>\n",
       "      <td>1.000000</td>\n",
       "    </tr>\n",
       "    <tr>\n",
       "      <th>1</th>\n",
       "      <td>1.021380</td>\n",
       "      <td>1.012653</td>\n",
       "      <td>1.004891</td>\n",
       "      <td>1.001498</td>\n",
       "      <td>0.992127</td>\n",
       "      <td>0.986913</td>\n",
       "      <td>1.001128</td>\n",
       "      <td>1.011324</td>\n",
       "      <td>1.023157</td>\n",
       "      <td>0.992588</td>\n",
       "      <td>...</td>\n",
       "      <td>0.999274</td>\n",
       "      <td>1.011672</td>\n",
       "      <td>1.003166</td>\n",
       "      <td>1.022588</td>\n",
       "      <td>1.003654</td>\n",
       "      <td>1.002281</td>\n",
       "      <td>0.980513</td>\n",
       "      <td>0.988830</td>\n",
       "      <td>1.004151</td>\n",
       "      <td>1.004934</td>\n",
       "    </tr>\n",
       "    <tr>\n",
       "      <th>2</th>\n",
       "      <td>1.027491</td>\n",
       "      <td>1.012953</td>\n",
       "      <td>1.020949</td>\n",
       "      <td>1.005613</td>\n",
       "      <td>0.989491</td>\n",
       "      <td>0.992885</td>\n",
       "      <td>0.997268</td>\n",
       "      <td>1.014131</td>\n",
       "      <td>1.028439</td>\n",
       "      <td>1.003195</td>\n",
       "      <td>...</td>\n",
       "      <td>0.983245</td>\n",
       "      <td>1.013219</td>\n",
       "      <td>1.010260</td>\n",
       "      <td>1.028045</td>\n",
       "      <td>1.020135</td>\n",
       "      <td>0.994575</td>\n",
       "      <td>0.977145</td>\n",
       "      <td>0.993705</td>\n",
       "      <td>1.013862</td>\n",
       "      <td>1.018119</td>\n",
       "    </tr>\n",
       "    <tr>\n",
       "      <th>3</th>\n",
       "      <td>1.015044</td>\n",
       "      <td>1.019248</td>\n",
       "      <td>1.019919</td>\n",
       "      <td>1.005746</td>\n",
       "      <td>1.006121</td>\n",
       "      <td>0.975277</td>\n",
       "      <td>0.983059</td>\n",
       "      <td>1.027181</td>\n",
       "      <td>1.036496</td>\n",
       "      <td>0.989051</td>\n",
       "      <td>...</td>\n",
       "      <td>0.996952</td>\n",
       "      <td>1.010795</td>\n",
       "      <td>1.024541</td>\n",
       "      <td>1.024799</td>\n",
       "      <td>1.011545</td>\n",
       "      <td>0.987968</td>\n",
       "      <td>0.948476</td>\n",
       "      <td>1.010192</td>\n",
       "      <td>1.021251</td>\n",
       "      <td>1.037295</td>\n",
       "    </tr>\n",
       "    <tr>\n",
       "      <th>4</th>\n",
       "      <td>1.019325</td>\n",
       "      <td>1.039969</td>\n",
       "      <td>1.019067</td>\n",
       "      <td>1.004347</td>\n",
       "      <td>1.001618</td>\n",
       "      <td>0.991872</td>\n",
       "      <td>0.982806</td>\n",
       "      <td>1.034369</td>\n",
       "      <td>1.057574</td>\n",
       "      <td>0.991667</td>\n",
       "      <td>...</td>\n",
       "      <td>0.982248</td>\n",
       "      <td>1.015179</td>\n",
       "      <td>1.010642</td>\n",
       "      <td>1.031902</td>\n",
       "      <td>1.037302</td>\n",
       "      <td>0.974128</td>\n",
       "      <td>0.949713</td>\n",
       "      <td>1.027446</td>\n",
       "      <td>1.002951</td>\n",
       "      <td>1.039193</td>\n",
       "    </tr>\n",
       "    <tr>\n",
       "      <th>...</th>\n",
       "      <td>...</td>\n",
       "      <td>...</td>\n",
       "      <td>...</td>\n",
       "      <td>...</td>\n",
       "      <td>...</td>\n",
       "      <td>...</td>\n",
       "      <td>...</td>\n",
       "      <td>...</td>\n",
       "      <td>...</td>\n",
       "      <td>...</td>\n",
       "      <td>...</td>\n",
       "      <td>...</td>\n",
       "      <td>...</td>\n",
       "      <td>...</td>\n",
       "      <td>...</td>\n",
       "      <td>...</td>\n",
       "      <td>...</td>\n",
       "      <td>...</td>\n",
       "      <td>...</td>\n",
       "      <td>...</td>\n",
       "      <td>...</td>\n",
       "    </tr>\n",
       "    <tr>\n",
       "      <th>2516</th>\n",
       "      <td>1.706569</td>\n",
       "      <td>3.496722</td>\n",
       "      <td>2.009516</td>\n",
       "      <td>7.536835</td>\n",
       "      <td>8.910499</td>\n",
       "      <td>2.807929</td>\n",
       "      <td>8.044303</td>\n",
       "      <td>2.097019</td>\n",
       "      <td>3.221714</td>\n",
       "      <td>2.845854</td>\n",
       "      <td>...</td>\n",
       "      <td>4.620656</td>\n",
       "      <td>8.479833</td>\n",
       "      <td>1.962190</td>\n",
       "      <td>1.803785</td>\n",
       "      <td>4.121088</td>\n",
       "      <td>5.976689</td>\n",
       "      <td>5.668218</td>\n",
       "      <td>3.880063</td>\n",
       "      <td>5.627047</td>\n",
       "      <td>4.020874</td>\n",
       "    </tr>\n",
       "    <tr>\n",
       "      <th>2517</th>\n",
       "      <td>1.741827</td>\n",
       "      <td>3.546585</td>\n",
       "      <td>2.008103</td>\n",
       "      <td>7.416485</td>\n",
       "      <td>8.912379</td>\n",
       "      <td>2.804754</td>\n",
       "      <td>7.978335</td>\n",
       "      <td>2.087509</td>\n",
       "      <td>3.257884</td>\n",
       "      <td>2.791202</td>\n",
       "      <td>...</td>\n",
       "      <td>4.637023</td>\n",
       "      <td>8.592804</td>\n",
       "      <td>1.981870</td>\n",
       "      <td>1.777851</td>\n",
       "      <td>4.081557</td>\n",
       "      <td>5.783449</td>\n",
       "      <td>5.660841</td>\n",
       "      <td>3.862037</td>\n",
       "      <td>5.624683</td>\n",
       "      <td>4.060384</td>\n",
       "    </tr>\n",
       "    <tr>\n",
       "      <th>2518</th>\n",
       "      <td>1.753205</td>\n",
       "      <td>3.539653</td>\n",
       "      <td>2.011244</td>\n",
       "      <td>7.345025</td>\n",
       "      <td>9.038650</td>\n",
       "      <td>2.828238</td>\n",
       "      <td>8.105526</td>\n",
       "      <td>2.111694</td>\n",
       "      <td>3.245044</td>\n",
       "      <td>2.802155</td>\n",
       "      <td>...</td>\n",
       "      <td>4.563159</td>\n",
       "      <td>8.644862</td>\n",
       "      <td>1.954028</td>\n",
       "      <td>1.764926</td>\n",
       "      <td>4.026254</td>\n",
       "      <td>5.668918</td>\n",
       "      <td>5.777064</td>\n",
       "      <td>3.902716</td>\n",
       "      <td>5.567765</td>\n",
       "      <td>4.042873</td>\n",
       "    </tr>\n",
       "    <tr>\n",
       "      <th>2519</th>\n",
       "      <td>1.725491</td>\n",
       "      <td>3.512888</td>\n",
       "      <td>2.015878</td>\n",
       "      <td>7.259095</td>\n",
       "      <td>8.990112</td>\n",
       "      <td>2.808894</td>\n",
       "      <td>8.126292</td>\n",
       "      <td>2.111147</td>\n",
       "      <td>3.233151</td>\n",
       "      <td>2.753434</td>\n",
       "      <td>...</td>\n",
       "      <td>4.580923</td>\n",
       "      <td>8.717138</td>\n",
       "      <td>1.994392</td>\n",
       "      <td>1.783674</td>\n",
       "      <td>3.993301</td>\n",
       "      <td>5.536924</td>\n",
       "      <td>5.853570</td>\n",
       "      <td>3.948576</td>\n",
       "      <td>5.501852</td>\n",
       "      <td>4.050083</td>\n",
       "    </tr>\n",
       "    <tr>\n",
       "      <th>2520</th>\n",
       "      <td>1.697543</td>\n",
       "      <td>3.572719</td>\n",
       "      <td>2.008841</td>\n",
       "      <td>7.208896</td>\n",
       "      <td>9.122003</td>\n",
       "      <td>2.866056</td>\n",
       "      <td>8.306028</td>\n",
       "      <td>2.091335</td>\n",
       "      <td>3.248735</td>\n",
       "      <td>2.792631</td>\n",
       "      <td>...</td>\n",
       "      <td>4.564614</td>\n",
       "      <td>8.758609</td>\n",
       "      <td>1.967469</td>\n",
       "      <td>1.763633</td>\n",
       "      <td>3.994634</td>\n",
       "      <td>5.555391</td>\n",
       "      <td>5.852900</td>\n",
       "      <td>3.978148</td>\n",
       "      <td>5.386092</td>\n",
       "      <td>4.007446</td>\n",
       "    </tr>\n",
       "  </tbody>\n",
       "</table>\n",
       "<p>2521 rows × 500 columns</p>\n",
       "</div>"
      ],
      "text/plain": [
       "           0         1         2         3         4         5         6    \\\n",
       "0     1.000000  1.000000  1.000000  1.000000  1.000000  1.000000  1.000000   \n",
       "1     1.021380  1.012653  1.004891  1.001498  0.992127  0.986913  1.001128   \n",
       "2     1.027491  1.012953  1.020949  1.005613  0.989491  0.992885  0.997268   \n",
       "3     1.015044  1.019248  1.019919  1.005746  1.006121  0.975277  0.983059   \n",
       "4     1.019325  1.039969  1.019067  1.004347  1.001618  0.991872  0.982806   \n",
       "...        ...       ...       ...       ...       ...       ...       ...   \n",
       "2516  1.706569  3.496722  2.009516  7.536835  8.910499  2.807929  8.044303   \n",
       "2517  1.741827  3.546585  2.008103  7.416485  8.912379  2.804754  7.978335   \n",
       "2518  1.753205  3.539653  2.011244  7.345025  9.038650  2.828238  8.105526   \n",
       "2519  1.725491  3.512888  2.015878  7.259095  8.990112  2.808894  8.126292   \n",
       "2520  1.697543  3.572719  2.008841  7.208896  9.122003  2.866056  8.306028   \n",
       "\n",
       "           7         8         9    ...       490       491       492  \\\n",
       "0     1.000000  1.000000  1.000000  ...  1.000000  1.000000  1.000000   \n",
       "1     1.011324  1.023157  0.992588  ...  0.999274  1.011672  1.003166   \n",
       "2     1.014131  1.028439  1.003195  ...  0.983245  1.013219  1.010260   \n",
       "3     1.027181  1.036496  0.989051  ...  0.996952  1.010795  1.024541   \n",
       "4     1.034369  1.057574  0.991667  ...  0.982248  1.015179  1.010642   \n",
       "...        ...       ...       ...  ...       ...       ...       ...   \n",
       "2516  2.097019  3.221714  2.845854  ...  4.620656  8.479833  1.962190   \n",
       "2517  2.087509  3.257884  2.791202  ...  4.637023  8.592804  1.981870   \n",
       "2518  2.111694  3.245044  2.802155  ...  4.563159  8.644862  1.954028   \n",
       "2519  2.111147  3.233151  2.753434  ...  4.580923  8.717138  1.994392   \n",
       "2520  2.091335  3.248735  2.792631  ...  4.564614  8.758609  1.967469   \n",
       "\n",
       "           493       494       495       496       497       498       499  \n",
       "0     1.000000  1.000000  1.000000  1.000000  1.000000  1.000000  1.000000  \n",
       "1     1.022588  1.003654  1.002281  0.980513  0.988830  1.004151  1.004934  \n",
       "2     1.028045  1.020135  0.994575  0.977145  0.993705  1.013862  1.018119  \n",
       "3     1.024799  1.011545  0.987968  0.948476  1.010192  1.021251  1.037295  \n",
       "4     1.031902  1.037302  0.974128  0.949713  1.027446  1.002951  1.039193  \n",
       "...        ...       ...       ...       ...       ...       ...       ...  \n",
       "2516  1.803785  4.121088  5.976689  5.668218  3.880063  5.627047  4.020874  \n",
       "2517  1.777851  4.081557  5.783449  5.660841  3.862037  5.624683  4.060384  \n",
       "2518  1.764926  4.026254  5.668918  5.777064  3.902716  5.567765  4.042873  \n",
       "2519  1.783674  3.993301  5.536924  5.853570  3.948576  5.501852  4.050083  \n",
       "2520  1.763633  3.994634  5.555391  5.852900  3.978148  5.386092  4.007446  \n",
       "\n",
       "[2521 rows x 500 columns]"
      ]
     },
     "execution_count": 38,
     "metadata": {},
     "output_type": "execute_result"
    }
   ],
   "source": [
    "# Run the Monte Carlo simulation to forecast 10 years cumulative returns\n",
    "MC_80_20.calc_cumulative_return()\n"
   ]
  },
  {
   "cell_type": "code",
   "execution_count": 39,
   "metadata": {},
   "outputs": [
    {
     "data": {
      "image/png": "[encoded data removed]",
      "text/plain": [
       "<Figure size 432x288 with 1 Axes>"
      ]
     },
     "metadata": {
      "needs_background": "light"
     },
     "output_type": "display_data"
    }
   ],
   "source": [
    "# Visualize the 10-year Monte Carlo simulation by creating an\n",
    "# overlay line plot\n",
    "MC_80_20_line_plot = MC_80_20.plot_simulation()\n"
   ]
  },
  {
   "cell_type": "code",
   "execution_count": 40,
   "metadata": {},
   "outputs": [
    {
     "data": {
      "image/png": "[encoded data removed]",
      "text/plain": [
       "<Figure size 432x288 with 1 Axes>"
      ]
     },
     "metadata": {
      "needs_background": "light"
     },
     "output_type": "display_data"
    }
   ],
   "source": [
    "# Visualize the probability distribution of the 10-year Monte Carlo simulation \n",
    "# by plotting a histogram\n",
    "MC_80_20_distribution_plot = MC_80_20.plot_distribution()\n"
   ]
  },
  {
   "cell_type": "code",
   "execution_count": 41,
   "metadata": {},
   "outputs": [
    {
     "data": {
      "text/plain": [
       "count           500.000000\n",
       "mean              4.201505\n",
       "std               2.771650\n",
       "min               0.641327\n",
       "25%               2.335741\n",
       "50%               3.543023\n",
       "75%               5.123479\n",
       "max              22.395223\n",
       "95% CI Lower      1.138246\n",
       "95% CI Upper     11.481671\n",
       "Name: 2520, dtype: float64"
      ]
     },
     "execution_count": 41,
     "metadata": {},
     "output_type": "execute_result"
    }
   ],
   "source": [
    "# Generate summary statistics from the 10-year Monte Carlo simulation results\n",
    "# Save the results as a variable\n",
    "MC_80_20_table = MC_80_20.summarize_cumulative_return()\n",
    "\n",
    "\n",
    "# Review the 10-year Monte Carlo summary statistics\n",
    "MC_80_20_table"
   ]
  },
  {
   "cell_type": "markdown",
   "metadata": {},
   "source": [
    "### Answer the following questions:"
   ]
  },
  {
   "cell_type": "markdown",
   "metadata": {},
   "source": [
    "#### Question: Using the current value of only the stock and bond portion of the member's portfolio and the summary statistics that you generated from the new Monte Carlo simulation, what are the lower and upper bounds for the expected value of the portfolio (with the new weights) with a 95% confidence interval?"
   ]
  },
  {
   "cell_type": "code",
   "execution_count": 42,
   "metadata": {},
   "outputs": [
    {
     "name": "stdout",
     "output_type": "stream",
     "text": [
      "The current balance of the stock and bond portion of the member's portfolio is $72179.0\n"
     ]
    }
   ],
   "source": [
    "# Print the current balance of the stock and bond portion of the members portfolio\n",
    "print(f\"The current balance of the stock and bond portion of the member's\"\n",
    "      f\" portfolio is ${total_stocks_bonds}\")\n"
   ]
  },
  {
   "cell_type": "code",
   "execution_count": 43,
   "metadata": {},
   "outputs": [
    {
     "name": "stdout",
     "output_type": "stream",
     "text": [
      "Over the next 10 years, there is a 95% chance that the stock/bond portion of the portfolio with a 80/20 weighted SPY/AGG will end within the range of $82157.48 and $828735.51.\n"
     ]
    }
   ],
   "source": [
    "# Use the lower and upper `95%` confidence intervals to calculate the range of the possible outcomes for the current stock/bond portfolio\n",
    "ci_lower_95_10years = round(MC_80_20_table[8] * total_stocks_bonds, 2)\n",
    "ci_upper_95_10years = round(MC_80_20_table[9] * total_stocks_bonds, 2)\n",
    "\n",
    "# Print the result of your calculations\n",
    "print(f\"Over the next 10 years, there is a 95% chance that the stock/bond portion of the portfolio\"\n",
    "      f\" with a 80/20 weighted SPY/AGG will end within the range of\"\n",
    "      f\" ${ci_lower_95_10years} and ${ci_upper_95_10years}.\")\n"
   ]
  },
  {
   "cell_type": "markdown",
   "metadata": {},
   "source": [
    "#### Question: Will weighting the portfolio more heavily to stocks allow the credit union members to retire after only 10 years?"
   ]
  },
  {
   "cell_type": "markdown",
   "metadata": {},
   "source": [
    "**Answer** \n",
    "\n",
    "`A \"sufficient\" retirement portfolio will differ depending on many factors, including a person's age, spending habits, debts, etc., so there's no definite answer. However, the 10 year estimated returns seem a bit low for the average retirment lifestyle. A more agressive portfolio (80/20 - stocks/bonds) can increase the growth rate from a traditional 60/40 portfolio, but it can also expose you to more risk. This was shown by the minimum returns in each simulation: the 10-year saw a negative return (0.64 x original investment) compared to the 30-year which saw a positive return (3.28 x original investment). It seems that the 10-year 80/20 portfolio did not produce a high enough return for most people to be comfortable in retirement. This shows that the amount of time in the market really matters, and with more time there is more opportunity for compounding growth while maintaining a less risky portfolio composition. After 30 years in a 60/40 portfolio, the maximum return could be as great as 6.9 million dollars!`"
   ]
  },
  {
   "cell_type": "code",
   "execution_count": null,
   "metadata": {},
   "outputs": [],
   "source": []
  }
 ],
 "metadata": {
  "kernelspec": {
   "display_name": "dev",
   "language": "python",
   "name": "dev"
  },
  "language_info": {
   "codemirror_mode": {
    "name": "ipython",
    "version": 3
   },
   "file_extension": ".py",
   "mimetype": "text/x-python",
   "name": "python",
   "nbconvert_exporter": "python",
   "pygments_lexer": "ipython3",
   "version": "3.7.10"
  }
 },
 "nbformat": 4,
 "nbformat_minor": 4
}
